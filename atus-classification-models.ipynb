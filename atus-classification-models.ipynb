{
 "cells": [
  {
   "cell_type": "code",
   "execution_count": 2,
   "metadata": {
    "collapsed": true
   },
   "outputs": [],
   "source": [
    "%matplotlib inline"
   ]
  },
  {
   "cell_type": "code",
   "execution_count": 3,
   "metadata": {
    "collapsed": true
   },
   "outputs": [],
   "source": [
    "import numpy as np\n",
    "import pandas as pd\n",
    "import matplotlib.pyplot as plt\n",
    "import seaborn as sns"
   ]
  },
  {
   "cell_type": "code",
   "execution_count": 4,
   "metadata": {
    "collapsed": true
   },
   "outputs": [],
   "source": [
    "from atusfunclib import load_data\n",
    "from activitylib import ACTINFO\n",
    "import wlmetrics as wlm\n",
    "import pickle\n",
    "from datetime import date\n",
    "from scipy.stats import gaussian_kde"
   ]
  },
  {
   "cell_type": "code",
   "execution_count": 6,
   "metadata": {
    "collapsed": true
   },
   "outputs": [],
   "source": [
    "from sklearn.svm import SVC\n",
    "from sklearn.ensemble import RandomForestClassifier\n",
    "from sklearn.linear_model import LogisticRegression\n",
    "\n",
    "from sklearn.preprocessing import StandardScaler\n",
    "from sklearn.preprocessing import Imputer\n",
    "from sklearn.preprocessing import PolynomialFeatures\n",
    "from sklearn.preprocessing import OneHotEncoder\n",
    "from sklearn.model_selection import ShuffleSplit\n",
    "from sklearn.model_selection import GridSearchCV\n",
    "\n",
    "from sklearn.decomposition import TruncatedSVD\n",
    "\n",
    "from sklearn.pipeline import Pipeline\n",
    "from sklearn.pipeline import FeatureUnion\n",
    "\n",
    "from sklearn import metrics\n",
    "from sklearn.externals import joblib\n",
    "from sklearn import base"
   ]
  },
  {
   "cell_type": "code",
   "execution_count": 7,
   "metadata": {
    "collapsed": true
   },
   "outputs": [],
   "source": [
    "from modellib import compute_mse, BaseResEnsembleEstimator, DataFrameSelector, EstimatorTransformer, ImputeNumber"
   ]
  },
  {
   "cell_type": "code",
   "execution_count": 8,
   "metadata": {
    "collapsed": true
   },
   "outputs": [],
   "source": [
    "# Import all csv data\n",
    "data_import = load_data(loc=\"data\", loc_clean=\"cleaned_data\", loc_codes=\"code_tables\")"
   ]
  },
  {
   "cell_type": "code",
   "execution_count": 9,
   "metadata": {
    "collapsed": true
   },
   "outputs": [],
   "source": [
    "# Unpack individual dataframes\n",
    "df, dfactcodes, dfeducodes, dfinccodes, dfagecodes, \\\n",
    "dfempcodes, dfindcodes, dfraccodes, dfloccodes, dfwhocodes, \\\n",
    "dfdemocodes = data_import"
   ]
  },
  {
   "cell_type": "code",
   "execution_count": 10,
   "metadata": {
    "collapsed": true
   },
   "outputs": [],
   "source": [
    "# Convert category columns to float\n",
    "df['TEAGE_CAT'] = df['TEAGE_CAT'].astype(float)\n",
    "df['TRERNWA_CAT'] = df['TRERNWA_CAT'].astype(float)"
   ]
  },
  {
   "cell_type": "code",
   "execution_count": 11,
   "metadata": {
    "collapsed": true
   },
   "outputs": [],
   "source": [
    "# Convert category columns to float\n",
    "df['TEAGE_CAT'] = df['TEAGE_CAT'].astype(float)\n",
    "df['TRERNWA_CAT'] = df['TRERNWA_CAT'].astype(float)"
   ]
  },
  {
   "cell_type": "code",
   "execution_count": 12,
   "metadata": {
    "collapsed": true
   },
   "outputs": [],
   "source": [
    "# Split by weekday and weekend/holiday\n",
    "df_wehol = df[(df['TRHOLIDAY'] == 1) | (df['TRWEEKEND'] == 1)]\n",
    "df_weday = df[(df['TRHOLIDAY'] == 0) & (df['TRWEEKEND'] == 0)]"
   ]
  },
  {
   "cell_type": "code",
   "execution_count": 13,
   "metadata": {
    "collapsed": true
   },
   "outputs": [],
   "source": [
    "del df"
   ]
  },
  {
   "cell_type": "code",
   "execution_count": 14,
   "metadata": {
    "collapsed": true
   },
   "outputs": [],
   "source": [
    "# Weights for ratio calculation\n",
    "weights_p = np.array([0.1, 0.2, 1.0, 0.6, 0.6, 1.0, 1.0, 0.9, 1.0, 1.0, 1.0, 1.0, 0.2])\n",
    "weights_n_occ = np.array([0.0, 1.0, 0.8, 1.0])\n",
    "weights_n_hom = np.array([1.0, 1.0, 1.0, 1.0, 1.0, 1.0, 1.0, 1.0, 1.0, 1.0, 0.8, 0.8])"
   ]
  },
  {
   "cell_type": "code",
   "execution_count": 15,
   "metadata": {
    "collapsed": true
   },
   "outputs": [],
   "source": [
    "# Calculate metrics (i.e. y data)\n",
    "df_weday_y = pd.DataFrame()\n",
    "df_wehol_y = pd.DataFrame()\n",
    "\n",
    "# Weekday\n",
    "df_weday_y['metric1'] = wlm.w_l_balance_weighted_ratio(df_weday,\n",
    "                                                       ACTINFO['positiveWL'], ACTINFO['negoccWL'],\n",
    "                                                       weights_p, weights_n_occ)\n",
    "df_weday_y['metric2'] = wlm.w_l_balance_weighted_ratio(df_weday,\n",
    "                                                       ACTINFO['positiveWL'], ACTINFO['neghomeWL'],\n",
    "                                                       weights_p, weights_n_hom)\n",
    "\n",
    "df_weday_y['metric3'] = wlm.w_l_balance_personalcare(df_weday)\n",
    "df_weday_y['metric4'] = wlm.w_l_balance_leisuresocial(df_weday)\n",
    "\n",
    "df_weday_y['metric5'] = wlm.w_l_balance_workday(df_weday, workid='0501', hours=9)\n",
    "df_weday_y['metric6'] = wlm.w_l_balance_housework(df_weday, hours=4)\n",
    "\n",
    "# Weekend/holiday\n",
    "df_wehol_y['metric1'] = wlm.w_l_balance_weighted_ratio(df_wehol,\n",
    "                                                       ACTINFO['positiveWL'], ACTINFO['negoccWL'],\n",
    "                                                       weights_p, weights_n_occ)\n",
    "df_wehol_y['metric2'] = wlm.w_l_balance_weighted_ratio(df_wehol,\n",
    "                                                       ACTINFO['positiveWL'], ACTINFO['neghomeWL'],\n",
    "                                                       weights_p, weights_n_hom)\n",
    "\n",
    "df_wehol_y['metric3'] = wlm.w_l_balance_personalcare(df_wehol)\n",
    "df_wehol_y['metric4'] = wlm.w_l_balance_leisuresocial(df_wehol)\n",
    "\n",
    "df_wehol_y['metric5'] = wlm.w_l_balance_workday(df_wehol, workid='0501', hours=9)\n",
    "df_wehol_y['metric6'] = wlm.w_l_balance_housework(df_wehol, hours=4)"
   ]
  },
  {
   "cell_type": "code",
   "execution_count": 16,
   "metadata": {
    "collapsed": false
   },
   "outputs": [
    {
     "data": {
      "text/html": [
       "<div>\n",
       "<style>\n",
       "    .dataframe thead tr:only-child th {\n",
       "        text-align: right;\n",
       "    }\n",
       "\n",
       "    .dataframe thead th {\n",
       "        text-align: left;\n",
       "    }\n",
       "\n",
       "    .dataframe tbody tr th {\n",
       "        vertical-align: top;\n",
       "    }\n",
       "</style>\n",
       "<table border=\"1\" class=\"dataframe\">\n",
       "  <thead>\n",
       "    <tr style=\"text-align: right;\">\n",
       "      <th></th>\n",
       "      <th>metric1</th>\n",
       "      <th>metric2</th>\n",
       "      <th>metric3</th>\n",
       "      <th>metric4</th>\n",
       "      <th>metric5</th>\n",
       "      <th>metric6</th>\n",
       "    </tr>\n",
       "  </thead>\n",
       "  <tbody>\n",
       "    <tr>\n",
       "      <th>0</th>\n",
       "      <td>0.713028</td>\n",
       "      <td>0.682509</td>\n",
       "      <td>0.031250</td>\n",
       "      <td>0.364583</td>\n",
       "      <td>False</td>\n",
       "      <td>False</td>\n",
       "    </tr>\n",
       "    <tr>\n",
       "      <th>3</th>\n",
       "      <td>0.589085</td>\n",
       "      <td>0.479548</td>\n",
       "      <td>0.041667</td>\n",
       "      <td>0.184028</td>\n",
       "      <td>False</td>\n",
       "      <td>True</td>\n",
       "    </tr>\n",
       "    <tr>\n",
       "      <th>4</th>\n",
       "      <td>0.405106</td>\n",
       "      <td>0.491040</td>\n",
       "      <td>0.115972</td>\n",
       "      <td>0.083333</td>\n",
       "      <td>False</td>\n",
       "      <td>False</td>\n",
       "    </tr>\n",
       "    <tr>\n",
       "      <th>5</th>\n",
       "      <td>0.649472</td>\n",
       "      <td>0.471952</td>\n",
       "      <td>0.069444</td>\n",
       "      <td>0.211806</td>\n",
       "      <td>False</td>\n",
       "      <td>True</td>\n",
       "    </tr>\n",
       "    <tr>\n",
       "      <th>6</th>\n",
       "      <td>0.365951</td>\n",
       "      <td>0.427464</td>\n",
       "      <td>0.082639</td>\n",
       "      <td>0.001389</td>\n",
       "      <td>False</td>\n",
       "      <td>False</td>\n",
       "    </tr>\n",
       "  </tbody>\n",
       "</table>\n",
       "</div>"
      ],
      "text/plain": [
       "    metric1   metric2   metric3   metric4  metric5  metric6\n",
       "0  0.713028  0.682509  0.031250  0.364583    False    False\n",
       "3  0.589085  0.479548  0.041667  0.184028    False     True\n",
       "4  0.405106  0.491040  0.115972  0.083333    False    False\n",
       "5  0.649472  0.471952  0.069444  0.211806    False     True\n",
       "6  0.365951  0.427464  0.082639  0.001389    False    False"
      ]
     },
     "execution_count": 16,
     "metadata": {},
     "output_type": "execute_result"
    }
   ],
   "source": [
    "df_weday_y.head()"
   ]
  },
  {
   "cell_type": "code",
   "execution_count": 17,
   "metadata": {
    "collapsed": false
   },
   "outputs": [
    {
     "data": {
      "text/html": [
       "<div>\n",
       "<style>\n",
       "    .dataframe thead tr:only-child th {\n",
       "        text-align: right;\n",
       "    }\n",
       "\n",
       "    .dataframe thead th {\n",
       "        text-align: left;\n",
       "    }\n",
       "\n",
       "    .dataframe tbody tr th {\n",
       "        vertical-align: top;\n",
       "    }\n",
       "</style>\n",
       "<table border=\"1\" class=\"dataframe\">\n",
       "  <thead>\n",
       "    <tr style=\"text-align: right;\">\n",
       "      <th></th>\n",
       "      <th>metric1</th>\n",
       "      <th>metric2</th>\n",
       "      <th>metric3</th>\n",
       "      <th>metric4</th>\n",
       "      <th>metric5</th>\n",
       "      <th>metric6</th>\n",
       "    </tr>\n",
       "  </thead>\n",
       "  <tbody>\n",
       "    <tr>\n",
       "      <th>1</th>\n",
       "      <td>0.759298</td>\n",
       "      <td>0.734520</td>\n",
       "      <td>0.104167</td>\n",
       "      <td>0.409722</td>\n",
       "      <td>False</td>\n",
       "      <td>False</td>\n",
       "    </tr>\n",
       "    <tr>\n",
       "      <th>2</th>\n",
       "      <td>0.665614</td>\n",
       "      <td>0.570107</td>\n",
       "      <td>0.107639</td>\n",
       "      <td>0.236111</td>\n",
       "      <td>False</td>\n",
       "      <td>True</td>\n",
       "    </tr>\n",
       "    <tr>\n",
       "      <th>8</th>\n",
       "      <td>0.589298</td>\n",
       "      <td>0.448221</td>\n",
       "      <td>0.100694</td>\n",
       "      <td>0.083333</td>\n",
       "      <td>False</td>\n",
       "      <td>True</td>\n",
       "    </tr>\n",
       "    <tr>\n",
       "      <th>10</th>\n",
       "      <td>0.308947</td>\n",
       "      <td>0.558185</td>\n",
       "      <td>0.052083</td>\n",
       "      <td>0.083333</td>\n",
       "      <td>True</td>\n",
       "      <td>False</td>\n",
       "    </tr>\n",
       "    <tr>\n",
       "      <th>11</th>\n",
       "      <td>0.603684</td>\n",
       "      <td>0.558897</td>\n",
       "      <td>0.076389</td>\n",
       "      <td>0.121528</td>\n",
       "      <td>False</td>\n",
       "      <td>False</td>\n",
       "    </tr>\n",
       "  </tbody>\n",
       "</table>\n",
       "</div>"
      ],
      "text/plain": [
       "     metric1   metric2   metric3   metric4  metric5  metric6\n",
       "1   0.759298  0.734520  0.104167  0.409722    False    False\n",
       "2   0.665614  0.570107  0.107639  0.236111    False     True\n",
       "8   0.589298  0.448221  0.100694  0.083333    False     True\n",
       "10  0.308947  0.558185  0.052083  0.083333     True    False\n",
       "11  0.603684  0.558897  0.076389  0.121528    False    False"
      ]
     },
     "execution_count": 17,
     "metadata": {},
     "output_type": "execute_result"
    }
   ],
   "source": [
    "df_wehol_y.head()"
   ]
  },
  {
   "cell_type": "code",
   "execution_count": 18,
   "metadata": {
    "collapsed": true
   },
   "outputs": [],
   "source": [
    "# Features list\n",
    "features = ['TEAGE', 'TESEX', 'GEMETSTA', 'GESTFIPS',\n",
    "            'TELFS', 'TRDPFTPT',\n",
    "            'TRSPPRES', 'TESPEMPNOT',\n",
    "            'TESCHENR', 'PEEDUCA',\n",
    "            'PTDTRACE',\n",
    "            'TRCHILDNUM', 'TRNUMHOU',\n",
    "            'TRDTOCC1', 'TEIO1COW', 'TRERNWA']\n",
    "\n",
    "catfeatures = ['GEMETSTA', 'GESTFIPS',\n",
    "               'TELFS', 'TRDPFTPT',\n",
    "               'TRSPPRES', 'TESPEMPNOT',\n",
    "               'TESCHENR',\n",
    "               'PTDTRACE',\n",
    "               'TRDTOCC1', 'TEIO1COW']"
   ]
  },
  {
   "cell_type": "code",
   "execution_count": 19,
   "metadata": {
    "collapsed": true
   },
   "outputs": [],
   "source": [
    "# Features matrix (i.e. X data)\n",
    "df_weday_X = df_weday[features]\n",
    "df_wehol_X = df_wehol[features]"
   ]
  },
  {
   "cell_type": "code",
   "execution_count": 20,
   "metadata": {
    "collapsed": true
   },
   "outputs": [],
   "source": [
    "# Split train-test indices\n",
    "rs = ShuffleSplit(n_splits=1, test_size=0.1, random_state=42)\n",
    "\n",
    "train_wd, test_wd = rs.split(df_weday).next()\n",
    "train_wh, test_wh = rs.split(df_wehol).next()"
   ]
  },
  {
   "cell_type": "code",
   "execution_count": 21,
   "metadata": {
    "collapsed": true
   },
   "outputs": [],
   "source": [
    "del df_weday\n",
    "del df_wehol"
   ]
  },
  {
   "cell_type": "markdown",
   "metadata": {},
   "source": [
    "## Set training and test data"
   ]
  },
  {
   "cell_type": "code",
   "execution_count": 73,
   "metadata": {
    "collapsed": true
   },
   "outputs": [],
   "source": [
    "m = 'metric5'\n",
    "dt = 'weday'\n",
    "\n",
    "if dt == 'weday':\n",
    "    y = df_weday_y[m].iloc[train_wd].as_matrix()\n",
    "    X = df_weday_X.iloc[train_wd]\n",
    "\n",
    "    y_test = df_weday_y[m].iloc[test_wd].as_matrix()\n",
    "    X_test = df_weday_X.iloc[test_wd]\n",
    "else:\n",
    "    y = df_wehol_y[m].iloc[train_wd].as_matrix()\n",
    "    X = df_wehol_X.iloc[train_wd]\n",
    "\n",
    "    y_test = df_wehol_y[m].iloc[test_wd].as_matrix()\n",
    "    X_test = df_wehol_X.iloc[test_wd]"
   ]
  },
  {
   "cell_type": "code",
   "execution_count": 93,
   "metadata": {
    "collapsed": false
   },
   "outputs": [
    {
     "name": "stdout",
     "output_type": "stream",
     "text": [
      "0.846796286938\n"
     ]
    }
   ],
   "source": [
    "# Subsample False features for training ?\n",
    "print 1.0 - y.sum() / float(y.shape[0])"
   ]
  },
  {
   "cell_type": "code",
   "execution_count": null,
   "metadata": {
    "collapsed": true
   },
   "outputs": [],
   "source": []
  },
  {
   "cell_type": "markdown",
   "metadata": {},
   "source": [
    "## Build estimator for age, education, weekly income, child number, household number"
   ]
  },
  {
   "cell_type": "code",
   "execution_count": 42,
   "metadata": {
    "collapsed": true
   },
   "outputs": [],
   "source": [
    "# Polynominal features for age\n",
    "agetrans = Pipeline([\n",
    "    ('featse1', DataFrameSelector(feature_names=['TEAGE'], dtype=float)),\n",
    "    ('polyno1', PolynomialFeatures(degree=3, include_bias=True)),\n",
    "])\n",
    "\n",
    "# Education level feature\n",
    "edutrans = Pipeline([\n",
    "    ('featse2', DataFrameSelector(feature_names=['PEEDUCA'], dtype=float)),\n",
    "    ('impute2', Imputer(missing_values='NaN', strategy='median', axis=0)),\n",
    "])\n",
    "\n",
    "# Weekly earnings feature\n",
    "weatrans = Pipeline([\n",
    "    ('featse3', DataFrameSelector(feature_names=['TRERNWA'], dtype=float)),\n",
    "    ('impute3', ImputeNumber()),\n",
    "])\n",
    "\n",
    "# Number of children/household features\n",
    "lintrans = Pipeline([\n",
    "    ('featse4', DataFrameSelector(feature_names=['TRCHILDNUM', 'TRNUMHOU'], dtype=float)),\n",
    "    ('impute4', ImputeNumber()),\n",
    "])\n",
    "\n",
    "est = Pipeline([\n",
    "    ('union01', FeatureUnion([\n",
    "        ('agetran', agetrans),\n",
    "        ('edutran', edutrans),\n",
    "        ('weatran', weatrans),\n",
    "        ('lintran', lintrans),\n",
    "    ])),\n",
    "    ('scaler', StandardScaler()),\n",
    "    ('logreg', LogisticRegression(C=1.2, random_state=42))\n",
    "])"
   ]
  },
  {
   "cell_type": "code",
   "execution_count": 24,
   "metadata": {
    "collapsed": false
   },
   "outputs": [],
   "source": [
    "# Grid search CV\n",
    "tc = [0.8, 1.0, 1.2, 1.4, 1.6, 1.8, 2.0, 2.2, 2.4, 2.6, 2.8, 3.0, 3.2]\n",
    "gridsearch1 = GridSearchCV(est,\n",
    "                          {'logreg__C': tc\n",
    "                          },\n",
    "                          cv=7,\n",
    "                          n_jobs=-2,\n",
    "                          scoring='accuracy',\n",
    "                          verbose=True)"
   ]
  },
  {
   "cell_type": "code",
   "execution_count": 25,
   "metadata": {
    "collapsed": false
   },
   "outputs": [
    {
     "name": "stdout",
     "output_type": "stream",
     "text": [
      "Fitting 7 folds for each of 13 candidates, totalling 91 fits\n"
     ]
    },
    {
     "name": "stderr",
     "output_type": "stream",
     "text": [
      "[Parallel(n_jobs=-2)]: Done  36 tasks      | elapsed:    9.1s\n",
      "[Parallel(n_jobs=-2)]: Done  91 out of  91 | elapsed:   22.6s finished\n"
     ]
    },
    {
     "data": {
      "text/plain": [
       "GridSearchCV(cv=7, error_score='raise',\n",
       "       estimator=Pipeline(memory=None,\n",
       "     steps=[('union01', FeatureUnion(n_jobs=1,\n",
       "       transformer_list=[('agetran', Pipeline(memory=None,\n",
       "     steps=[('featse1', DataFrameSelector(dtype=<type 'float'>, feature_names=['TEAGE'], ntn=False)), ('polyno1', PolynomialFeatures(degree=3, include_bias=True, interaction_only=False))])), ('edutra...alty='l2', random_state=42, solver='liblinear', tol=0.0001,\n",
       "          verbose=0, warm_start=False))]),\n",
       "       fit_params=None, iid=True, n_jobs=-2,\n",
       "       param_grid={'logreg__C': [0.8, 1.0, 1.2, 1.4, 1.6, 1.8, 2.0, 2.2, 2.4, 2.6, 2.8, 3.0, 3.2]},\n",
       "       pre_dispatch='2*n_jobs', refit=True, return_train_score=True,\n",
       "       scoring='accuracy', verbose=True)"
      ]
     },
     "execution_count": 25,
     "metadata": {},
     "output_type": "execute_result"
    }
   ],
   "source": [
    "gridsearch1.fit(X, y)"
   ]
  },
  {
   "cell_type": "code",
   "execution_count": 26,
   "metadata": {
    "collapsed": false
   },
   "outputs": [
    {
     "data": {
      "text/plain": [
       "{'logreg__C': 1.2}"
      ]
     },
     "execution_count": 26,
     "metadata": {},
     "output_type": "execute_result"
    }
   ],
   "source": [
    "gridsearch1.best_params_"
   ]
  },
  {
   "cell_type": "code",
   "execution_count": 27,
   "metadata": {
    "collapsed": false
   },
   "outputs": [
    {
     "data": {
      "image/png": "[encoded data removed]",
      "text/plain": [
       "<matplotlib.figure.Figure at 0x7f1935666610>"
      ]
     },
     "metadata": {},
     "output_type": "display_data"
    }
   ],
   "source": [
    "# Graphs\n",
    "plt.plot(tc, gridsearch1.cv_results_['mean_test_score']);"
   ]
  },
  {
   "cell_type": "markdown",
   "metadata": {},
   "source": [
    "### Fitting using the best parameters on training set for a specific metric"
   ]
  },
  {
   "cell_type": "code",
   "execution_count": 43,
   "metadata": {
    "collapsed": false
   },
   "outputs": [
    {
     "data": {
      "text/plain": [
       "Pipeline(memory=None,\n",
       "     steps=[('union01', FeatureUnion(n_jobs=1,\n",
       "       transformer_list=[('agetran', Pipeline(memory=None,\n",
       "     steps=[('featse1', DataFrameSelector(dtype=<type 'float'>, feature_names=['TEAGE'], ntn=False)), ('polyno1', PolynomialFeatures(degree=3, include_bias=True, interaction_only=False))])), ('edutra...alty='l2', random_state=42, solver='liblinear', tol=0.0001,\n",
       "          verbose=0, warm_start=False))])"
      ]
     },
     "execution_count": 43,
     "metadata": {},
     "output_type": "execute_result"
    }
   ],
   "source": [
    "est.fit(X, y)"
   ]
  },
  {
   "cell_type": "code",
   "execution_count": 44,
   "metadata": {
    "collapsed": false
   },
   "outputs": [
    {
     "data": {
      "text/plain": [
       "0.84359124398223262"
      ]
     },
     "execution_count": 44,
     "metadata": {},
     "output_type": "execute_result"
    }
   ],
   "source": [
    "est.score(X, y)"
   ]
  },
  {
   "cell_type": "code",
   "execution_count": 45,
   "metadata": {
    "collapsed": false
   },
   "outputs": [
    {
     "data": {
      "text/plain": [
       "0.8482345900658288"
      ]
     },
     "execution_count": 45,
     "metadata": {},
     "output_type": "execute_result"
    }
   ],
   "source": [
    "metrics.accuracy_score(y_test, est.predict(X_test))"
   ]
  },
  {
   "cell_type": "code",
   "execution_count": 70,
   "metadata": {
    "collapsed": false
   },
   "outputs": [
    {
     "data": {
      "text/plain": [
       "array([False, False, False, False, False, False, False, False, False,\n",
       "       False, False, False, False, False, False, False, False, False,\n",
       "       False, False, False, False, False, False, False, False, False,\n",
       "       False, False, False, False, False, False, False, False, False,\n",
       "        True, False, False, False, False, False, False, False, False,\n",
       "       False, False, False, False, False, False, False, False, False,\n",
       "       False, False, False, False, False, False, False, False, False,\n",
       "       False, False, False, False, False, False, False, False, False,\n",
       "       False, False, False, False, False, False, False, False, False,\n",
       "        True, False, False, False, False, False, False, False, False,\n",
       "       False, False, False, False, False, False, False, False,  True, False], dtype=bool)"
      ]
     },
     "execution_count": 70,
     "metadata": {},
     "output_type": "execute_result"
    }
   ],
   "source": [
    "est.predict(X.head(100))"
   ]
  },
  {
   "cell_type": "code",
   "execution_count": 47,
   "metadata": {
    "collapsed": false
   },
   "outputs": [
    {
     "data": {
      "text/plain": [
       "array([False, False,  True, False,  True, False,  True, False, False,\n",
       "       False, False, False, False, False,  True, False, False, False,\n",
       "       False, False, False,  True, False, False, False, False, False,\n",
       "       False, False, False, False, False, False, False, False, False,\n",
       "       False,  True, False, False, False, False, False, False, False,\n",
       "        True, False, False, False, False,  True,  True, False,  True,\n",
       "        True, False, False, False, False,  True, False, False, False,\n",
       "       False, False, False,  True,  True, False, False, False, False,\n",
       "        True, False, False, False, False, False, False, False, False,\n",
       "       False, False, False, False, False, False, False, False, False,\n",
       "       False, False, False,  True, False, False,  True, False,  True, False], dtype=bool)"
      ]
     },
     "execution_count": 47,
     "metadata": {},
     "output_type": "execute_result"
    }
   ],
   "source": [
    "y[:100]"
   ]
  },
  {
   "cell_type": "markdown",
   "metadata": {},
   "source": [
    "## Build estimator for all categorical features"
   ]
  },
  {
   "cell_type": "code",
   "execution_count": 52,
   "metadata": {
    "collapsed": false
   },
   "outputs": [],
   "source": [
    "# Use one-hot-encoding followed by truncated SVD to reduce feature count\n",
    "est_cat = Pipeline([\n",
    "    ('featse1', DataFrameSelector(feature_names=catfeatures, dtype=np.int64, ntn=True)),\n",
    "    ('encode1', OneHotEncoder(sparse=False, handle_unknown='ignore')),\n",
    "    ('sscaler', StandardScaler()),\n",
    "    ('trunsvd', TruncatedSVD(n_components=100, random_state=42)),\n",
    "    ('rfclass', RandomForestClassifier(n_estimators=50, max_depth=8, random_state=42))\n",
    "])"
   ]
  },
  {
   "cell_type": "code",
   "execution_count": 38,
   "metadata": {
    "collapsed": true
   },
   "outputs": [],
   "source": [
    "# Grid search CV\n",
    "gridsearch_cat = GridSearchCV(est_cat,\n",
    "                              {'rfclass__max_depth': [8, 10, 12, 15]\n",
    "                              },\n",
    "                              cv=3,\n",
    "                              n_jobs=-2,\n",
    "                              scoring='accuracy',\n",
    "                              verbose=True)"
   ]
  },
  {
   "cell_type": "code",
   "execution_count": 39,
   "metadata": {
    "collapsed": false
   },
   "outputs": [
    {
     "name": "stdout",
     "output_type": "stream",
     "text": [
      "Fitting 3 folds for each of 4 candidates, totalling 12 fits\n"
     ]
    },
    {
     "name": "stderr",
     "output_type": "stream",
     "text": [
      "[Parallel(n_jobs=-2)]: Done  12 out of  12 | elapsed:  1.1min remaining:    0.0s\n",
      "[Parallel(n_jobs=-2)]: Done  12 out of  12 | elapsed:  1.1min finished\n"
     ]
    },
    {
     "data": {
      "text/plain": [
       "GridSearchCV(cv=3, error_score='raise',\n",
       "       estimator=Pipeline(memory=None,\n",
       "     steps=[('featse1', DataFrameSelector(dtype=<type 'numpy.int64'>,\n",
       "         feature_names=['GEMETSTA', 'GESTFIPS', 'TELFS', 'TRDPFTPT', 'TRSPPRES', 'TESPEMPNOT', 'TESCHENR', 'PTDTRACE', 'TRDTOCC1', 'TEIO1COW'],\n",
       "         ntn=True)), ('encode1', OneHotEncoder(categorical_features='all', dtype=<type 'num...stimators=50, n_jobs=1,\n",
       "            oob_score=False, random_state=42, verbose=0, warm_start=False))]),\n",
       "       fit_params=None, iid=True, n_jobs=-2,\n",
       "       param_grid={'rfclass__max_depth': [8, 10, 12, 15]},\n",
       "       pre_dispatch='2*n_jobs', refit=True, return_train_score=True,\n",
       "       scoring='accuracy', verbose=True)"
      ]
     },
     "execution_count": 39,
     "metadata": {},
     "output_type": "execute_result"
    }
   ],
   "source": [
    "gridsearch_cat.fit(X, y)"
   ]
  },
  {
   "cell_type": "code",
   "execution_count": 40,
   "metadata": {
    "collapsed": false
   },
   "outputs": [
    {
     "data": {
      "text/plain": [
       "{'rfclass__max_depth': 8}"
      ]
     },
     "execution_count": 40,
     "metadata": {},
     "output_type": "execute_result"
    }
   ],
   "source": [
    "gridsearch_cat.best_params_"
   ]
  },
  {
   "cell_type": "code",
   "execution_count": 51,
   "metadata": {
    "collapsed": false
   },
   "outputs": [
    {
     "data": {
      "image/png": "[encoded data removed]",
      "text/plain": [
       "<matplotlib.figure.Figure at 0x7f1990b27f50>"
      ]
     },
     "metadata": {},
     "output_type": "display_data"
    }
   ],
   "source": [
    "# Graphs\n",
    "plt.plot([8, 10, 12, 15], gridsearch_cat.cv_results_['mean_test_score']);"
   ]
  },
  {
   "cell_type": "markdown",
   "metadata": {},
   "source": [
    "### Fitting using the best parameters on training set for a specific metric"
   ]
  },
  {
   "cell_type": "code",
   "execution_count": 53,
   "metadata": {
    "collapsed": false
   },
   "outputs": [
    {
     "data": {
      "text/plain": [
       "Pipeline(memory=None,\n",
       "     steps=[('featse1', DataFrameSelector(dtype=<type 'numpy.int64'>,\n",
       "         feature_names=['GEMETSTA', 'GESTFIPS', 'TELFS', 'TRDPFTPT', 'TRSPPRES', 'TESPEMPNOT', 'TESCHENR', 'PTDTRACE', 'TRDTOCC1', 'TEIO1COW'],\n",
       "         ntn=True)), ('encode1', OneHotEncoder(categorical_features='all', dtype=<type 'num...stimators=50, n_jobs=1,\n",
       "            oob_score=False, random_state=42, verbose=0, warm_start=False))])"
      ]
     },
     "execution_count": 53,
     "metadata": {},
     "output_type": "execute_result"
    }
   ],
   "source": [
    "est_cat.fit(X, y)"
   ]
  },
  {
   "cell_type": "code",
   "execution_count": 54,
   "metadata": {
    "collapsed": false
   },
   "outputs": [
    {
     "data": {
      "text/plain": [
       "0.8471287602734261"
      ]
     },
     "execution_count": 54,
     "metadata": {},
     "output_type": "execute_result"
    }
   ],
   "source": [
    "est_cat.score(X, y)"
   ]
  },
  {
   "cell_type": "code",
   "execution_count": 55,
   "metadata": {
    "collapsed": false
   },
   "outputs": [
    {
     "data": {
      "text/plain": [
       "0.84955116696588873"
      ]
     },
     "execution_count": 55,
     "metadata": {},
     "output_type": "execute_result"
    }
   ],
   "source": [
    "metrics.accuracy_score(y_test, est_cat.predict(X_test))"
   ]
  },
  {
   "cell_type": "code",
   "execution_count": 66,
   "metadata": {
    "collapsed": false
   },
   "outputs": [
    {
     "data": {
      "text/plain": [
       "array([False, False, False, False, False, False, False, False, False,\n",
       "       False, False, False, False, False, False, False, False, False,\n",
       "       False, False, False, False, False, False, False, False, False,\n",
       "       False, False, False, False, False, False, False, False, False,\n",
       "       False, False, False, False, False, False, False, False, False,\n",
       "       False, False, False, False, False, False, False, False, False,\n",
       "       False, False, False, False, False, False, False, False, False,\n",
       "       False, False, False, False, False, False, False, False, False,\n",
       "       False, False, False, False, False, False, False, False, False,\n",
       "       False, False, False, False, False, False, False, False, False,\n",
       "       False, False, False, False, False, False, False, False, False, False], dtype=bool)"
      ]
     },
     "execution_count": 66,
     "metadata": {},
     "output_type": "execute_result"
    }
   ],
   "source": [
    "est_cat.predict(X.head(100))"
   ]
  },
  {
   "cell_type": "code",
   "execution_count": 67,
   "metadata": {
    "collapsed": false
   },
   "outputs": [
    {
     "data": {
      "text/plain": [
       "array([False, False,  True, False,  True, False,  True, False, False,\n",
       "       False, False, False, False, False,  True, False, False, False,\n",
       "       False, False, False,  True, False, False, False, False, False,\n",
       "       False, False, False, False, False, False, False, False, False,\n",
       "       False,  True, False, False, False, False, False, False, False,\n",
       "        True, False, False, False, False,  True,  True, False,  True,\n",
       "        True, False, False, False, False,  True, False, False, False,\n",
       "       False, False, False,  True,  True, False, False, False, False,\n",
       "        True, False, False, False, False, False, False, False, False,\n",
       "       False, False, False, False, False, False, False, False, False,\n",
       "       False, False, False,  True, False, False,  True, False,  True, False], dtype=bool)"
      ]
     },
     "execution_count": 67,
     "metadata": {},
     "output_type": "execute_result"
    }
   ],
   "source": [
    "y[:100]"
   ]
  },
  {
   "cell_type": "code",
   "execution_count": null,
   "metadata": {
    "collapsed": true
   },
   "outputs": [],
   "source": []
  },
  {
   "cell_type": "markdown",
   "metadata": {},
   "source": [
    "## Combined model that uses both continuous and categorical models"
   ]
  },
  {
   "cell_type": "code",
   "execution_count": 58,
   "metadata": {
    "collapsed": true
   },
   "outputs": [],
   "source": [
    "# Polynominal features for age\n",
    "agetrans = Pipeline([\n",
    "    ('featse1', DataFrameSelector(feature_names=['TEAGE'], dtype=float)),\n",
    "    ('polyno1', PolynomialFeatures(degree=3, include_bias=True))\n",
    "])\n",
    "\n",
    "# Education level feature\n",
    "edutrans = Pipeline([\n",
    "    ('featse2', DataFrameSelector(feature_names=['PEEDUCA'], dtype=float)),\n",
    "    ('impute2', Imputer(missing_values='NaN', strategy='median', axis=0))\n",
    "])\n",
    "\n",
    "# Weekly earnings feature\n",
    "weatrans = Pipeline([\n",
    "    ('featse3', DataFrameSelector(feature_names=['TRERNWA'], dtype=float)),\n",
    "    ('impute3', ImputeNumber())\n",
    "])\n",
    "\n",
    "# Number of children/household features\n",
    "lintrans = Pipeline([\n",
    "    ('featse4', DataFrameSelector(feature_names=['TRCHILDNUM', 'TRNUMHOU'], dtype=float)),\n",
    "    ('impute4', ImputeNumber())\n",
    "])\n",
    "\n",
    "# Categorical features\n",
    "cattrans = Pipeline([\n",
    "    ('featse5', DataFrameSelector(feature_names=catfeatures, dtype=np.int64, ntn=True)),\n",
    "    ('encode5', OneHotEncoder(sparse=False, handle_unknown='ignore'))\n",
    "])\n",
    "\n",
    "est_full = Pipeline([\n",
    "    ('union01', FeatureUnion([\n",
    "        ('agetran', agetrans),\n",
    "        ('edutran', edutrans),\n",
    "        ('weatran', weatrans),\n",
    "        ('lintran', lintrans),\n",
    "        ('cattran', cattrans)\n",
    "    ])),\n",
    "    ('scaler', StandardScaler()),\n",
    "    ('trunsvd', TruncatedSVD(n_components=80, random_state=42)),\n",
    "    ('rfclass', RandomForestClassifier(n_estimators=50, max_depth=8, random_state=42))\n",
    "])"
   ]
  },
  {
   "cell_type": "code",
   "execution_count": 60,
   "metadata": {
    "collapsed": false
   },
   "outputs": [
    {
     "data": {
      "text/plain": [
       "Pipeline(memory=None,\n",
       "     steps=[('union01', FeatureUnion(n_jobs=1,\n",
       "       transformer_list=[('agetran', Pipeline(memory=None,\n",
       "     steps=[('featse1', DataFrameSelector(dtype=<type 'float'>, feature_names=['TEAGE'], ntn=False)), ('polyno1', PolynomialFeatures(degree=3, include_bias=True, interaction_only=False))])), ('edutra...stimators=50, n_jobs=1,\n",
       "            oob_score=False, random_state=42, verbose=0, warm_start=False))])"
      ]
     },
     "execution_count": 60,
     "metadata": {},
     "output_type": "execute_result"
    }
   ],
   "source": [
    "est_full.fit(X, y)"
   ]
  },
  {
   "cell_type": "code",
   "execution_count": 63,
   "metadata": {
    "collapsed": false
   },
   "outputs": [
    {
     "data": {
      "text/plain": [
       "0.84692927627204295"
      ]
     },
     "execution_count": 63,
     "metadata": {},
     "output_type": "execute_result"
    }
   ],
   "source": [
    "est_full.score(X, y)"
   ]
  },
  {
   "cell_type": "code",
   "execution_count": 64,
   "metadata": {
    "collapsed": false
   },
   "outputs": [
    {
     "data": {
      "text/plain": [
       "0.84967085577498502"
      ]
     },
     "execution_count": 64,
     "metadata": {},
     "output_type": "execute_result"
    }
   ],
   "source": [
    "metrics.accuracy_score(y_test, est_full.predict(X_test))"
   ]
  },
  {
   "cell_type": "code",
   "execution_count": 72,
   "metadata": {
    "collapsed": false
   },
   "outputs": [
    {
     "data": {
      "text/plain": [
       "array([False, False, False, False, False, False, False, False, False,\n",
       "       False, False, False, False, False, False, False, False, False,\n",
       "       False, False, False, False, False, False, False, False, False,\n",
       "       False, False, False, False, False, False, False, False, False,\n",
       "       False, False, False, False, False, False, False, False, False,\n",
       "       False, False, False, False, False, False, False, False, False,\n",
       "       False, False, False, False, False, False, False, False, False,\n",
       "       False, False, False, False, False, False, False, False, False,\n",
       "       False, False, False, False, False, False, False, False, False,\n",
       "       False, False, False, False, False, False, False, False, False,\n",
       "       False, False, False, False, False, False, False, False, False, False], dtype=bool)"
      ]
     },
     "execution_count": 72,
     "metadata": {},
     "output_type": "execute_result"
    }
   ],
   "source": [
    "est_full.predict(X.head(100))"
   ]
  },
  {
   "cell_type": "code",
   "execution_count": null,
   "metadata": {
    "collapsed": true
   },
   "outputs": [],
   "source": []
  },
  {
   "cell_type": "code",
   "execution_count": null,
   "metadata": {
    "collapsed": true
   },
   "outputs": [],
   "source": []
  }
 ],
 "metadata": {
  "hide_input": false,
  "kernelspec": {
   "display_name": "Python 2",
   "language": "python",
   "name": "python2"
  },
  "language_info": {
   "codemirror_mode": {
    "name": "ipython",
    "version": 2
   },
   "file_extension": ".py",
   "mimetype": "text/x-python",
   "name": "python",
   "nbconvert_exporter": "python",
   "pygments_lexer": "ipython2",
   "version": "2.7.13"
  }
 },
 "nbformat": 4,
 "nbformat_minor": 2
}
