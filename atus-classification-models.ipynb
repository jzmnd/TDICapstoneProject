{
 "cells": [
  {
   "cell_type": "code",
   "execution_count": 1,
   "metadata": {
    "collapsed": true,
    "deletable": true,
    "editable": true
   },
   "outputs": [],
   "source": [
    "%matplotlib inline"
   ]
  },
  {
   "cell_type": "code",
   "execution_count": 2,
   "metadata": {
    "collapsed": true,
    "deletable": true,
    "editable": true
   },
   "outputs": [],
   "source": [
    "import numpy as np\n",
    "import pandas as pd\n",
    "import matplotlib.pyplot as plt\n",
    "import seaborn as sns"
   ]
  },
  {
   "cell_type": "code",
   "execution_count": 3,
   "metadata": {
    "collapsed": true,
    "deletable": true,
    "editable": true
   },
   "outputs": [],
   "source": [
    "from atusfunclib import load_data\n",
    "from activitylib import ACTINFO\n",
    "import wlmetrics as wlm\n",
    "import pickle\n",
    "from datetime import date\n",
    "from scipy.stats import gaussian_kde"
   ]
  },
  {
   "cell_type": "code",
   "execution_count": 4,
   "metadata": {
    "collapsed": true,
    "deletable": true,
    "editable": true
   },
   "outputs": [],
   "source": [
    "from sklearn.ensemble import RandomForestClassifier\n",
    "from sklearn.ensemble import ExtraTreesClassifier\n",
    "from sklearn.ensemble import GradientBoostingClassifier\n",
    "from sklearn.linear_model import LogisticRegression\n",
    "\n",
    "from sklearn.preprocessing import StandardScaler\n",
    "from sklearn.preprocessing import Imputer\n",
    "from sklearn.preprocessing import PolynomialFeatures\n",
    "from sklearn.preprocessing import OneHotEncoder\n",
    "from sklearn.preprocessing import LabelEncoder\n",
    "from sklearn.model_selection import ShuffleSplit\n",
    "from sklearn.model_selection import GridSearchCV\n",
    "\n",
    "from sklearn.decomposition import TruncatedSVD\n",
    "from sklearn.decomposition import PCA\n",
    "\n",
    "from sklearn.pipeline import Pipeline\n",
    "from sklearn.pipeline import FeatureUnion\n",
    "\n",
    "from sklearn import metrics\n",
    "from sklearn.externals import joblib\n",
    "from sklearn import base"
   ]
  },
  {
   "cell_type": "code",
   "execution_count": 5,
   "metadata": {
    "collapsed": true,
    "deletable": true,
    "editable": true
   },
   "outputs": [],
   "source": [
    "from modellib import compute_mse, BaseResEnsembleEstimator, DataFrameSelector, EstimatorTransformer, ImputeNumber"
   ]
  },
  {
   "cell_type": "code",
   "execution_count": 6,
   "metadata": {
    "collapsed": true,
    "deletable": true,
    "editable": true
   },
   "outputs": [],
   "source": [
    "# Import all csv data\n",
    "data_import = load_data(loc=\"data\", loc_clean=\"cleaned_data\", loc_codes=\"code_tables\")"
   ]
  },
  {
   "cell_type": "code",
   "execution_count": 7,
   "metadata": {
    "collapsed": true,
    "deletable": true,
    "editable": true
   },
   "outputs": [],
   "source": [
    "# Unpack individual dataframes\n",
    "df, dfactcodes, dfeducodes, dfinccodes, dfagecodes, \\\n",
    "dfempcodes, dfindcodes, dfraccodes, dfloccodes, dfwhocodes, \\\n",
    "dfdemocodes = data_import"
   ]
  },
  {
   "cell_type": "code",
   "execution_count": 8,
   "metadata": {
    "collapsed": true,
    "deletable": true,
    "editable": true
   },
   "outputs": [],
   "source": [
    "# Convert category columns to float\n",
    "df['TEAGE_CAT'] = df['TEAGE_CAT'].astype(float)\n",
    "df['TRERNWA_CAT'] = df['TRERNWA_CAT'].astype(float)"
   ]
  },
  {
   "cell_type": "code",
   "execution_count": 9,
   "metadata": {
    "collapsed": true,
    "deletable": true,
    "editable": true
   },
   "outputs": [],
   "source": [
    "# Convert category columns to float\n",
    "df['TEAGE_CAT'] = df['TEAGE_CAT'].astype(float)\n",
    "df['TRERNWA_CAT'] = df['TRERNWA_CAT'].astype(float)"
   ]
  },
  {
   "cell_type": "code",
   "execution_count": 10,
   "metadata": {
    "collapsed": true,
    "deletable": true,
    "editable": true
   },
   "outputs": [],
   "source": [
    "# Split by weekday and weekend/holiday\n",
    "df_wehol = df[(df['TRHOLIDAY'] == 1) | (df['TRWEEKEND'] == 1)]\n",
    "df_weday = df[(df['TRHOLIDAY'] == 0) & (df['TRWEEKEND'] == 0)]"
   ]
  },
  {
   "cell_type": "code",
   "execution_count": 11,
   "metadata": {
    "collapsed": true,
    "deletable": true,
    "editable": true
   },
   "outputs": [],
   "source": [
    "del df"
   ]
  },
  {
   "cell_type": "code",
   "execution_count": 12,
   "metadata": {
    "collapsed": true,
    "deletable": true,
    "editable": true
   },
   "outputs": [],
   "source": [
    "# Calculate metrics (i.e. y data)\n",
    "df_weday_y = pd.DataFrame()\n",
    "df_wehol_y = pd.DataFrame()\n",
    "\n",
    "# Weekday\n",
    "df_weday_y['metric5'] = wlm.w_l_balance_workday(df_weday, workid='0501', hours=9)\n",
    "df_weday_y['metric6'] = wlm.w_l_balance_housework(df_weday, hours=4)\n",
    "\n",
    "# Weekend/holiday\n",
    "df_wehol_y['metric5'] = wlm.w_l_balance_workday(df_wehol, workid='0501', hours=9)\n",
    "df_wehol_y['metric6'] = wlm.w_l_balance_housework(df_wehol, hours=4)"
   ]
  },
  {
   "cell_type": "code",
   "execution_count": 13,
   "metadata": {
    "collapsed": false,
    "deletable": true,
    "editable": true
   },
   "outputs": [
    {
     "data": {
      "text/html": [
       "<div>\n",
       "<style>\n",
       "    .dataframe thead tr:only-child th {\n",
       "        text-align: right;\n",
       "    }\n",
       "\n",
       "    .dataframe thead th {\n",
       "        text-align: left;\n",
       "    }\n",
       "\n",
       "    .dataframe tbody tr th {\n",
       "        vertical-align: top;\n",
       "    }\n",
       "</style>\n",
       "<table border=\"1\" class=\"dataframe\">\n",
       "  <thead>\n",
       "    <tr style=\"text-align: right;\">\n",
       "      <th></th>\n",
       "      <th>metric5</th>\n",
       "      <th>metric6</th>\n",
       "    </tr>\n",
       "  </thead>\n",
       "  <tbody>\n",
       "    <tr>\n",
       "      <th>0</th>\n",
       "      <td>False</td>\n",
       "      <td>False</td>\n",
       "    </tr>\n",
       "    <tr>\n",
       "      <th>3</th>\n",
       "      <td>False</td>\n",
       "      <td>True</td>\n",
       "    </tr>\n",
       "    <tr>\n",
       "      <th>4</th>\n",
       "      <td>False</td>\n",
       "      <td>False</td>\n",
       "    </tr>\n",
       "    <tr>\n",
       "      <th>5</th>\n",
       "      <td>False</td>\n",
       "      <td>True</td>\n",
       "    </tr>\n",
       "    <tr>\n",
       "      <th>6</th>\n",
       "      <td>False</td>\n",
       "      <td>False</td>\n",
       "    </tr>\n",
       "  </tbody>\n",
       "</table>\n",
       "</div>"
      ],
      "text/plain": [
       "   metric5  metric6\n",
       "0    False    False\n",
       "3    False     True\n",
       "4    False    False\n",
       "5    False     True\n",
       "6    False    False"
      ]
     },
     "execution_count": 13,
     "metadata": {},
     "output_type": "execute_result"
    }
   ],
   "source": [
    "df_weday_y.head()"
   ]
  },
  {
   "cell_type": "code",
   "execution_count": 14,
   "metadata": {
    "collapsed": false,
    "deletable": true,
    "editable": true
   },
   "outputs": [
    {
     "data": {
      "text/html": [
       "<div>\n",
       "<style>\n",
       "    .dataframe thead tr:only-child th {\n",
       "        text-align: right;\n",
       "    }\n",
       "\n",
       "    .dataframe thead th {\n",
       "        text-align: left;\n",
       "    }\n",
       "\n",
       "    .dataframe tbody tr th {\n",
       "        vertical-align: top;\n",
       "    }\n",
       "</style>\n",
       "<table border=\"1\" class=\"dataframe\">\n",
       "  <thead>\n",
       "    <tr style=\"text-align: right;\">\n",
       "      <th></th>\n",
       "      <th>metric5</th>\n",
       "      <th>metric6</th>\n",
       "    </tr>\n",
       "  </thead>\n",
       "  <tbody>\n",
       "    <tr>\n",
       "      <th>1</th>\n",
       "      <td>False</td>\n",
       "      <td>False</td>\n",
       "    </tr>\n",
       "    <tr>\n",
       "      <th>2</th>\n",
       "      <td>False</td>\n",
       "      <td>True</td>\n",
       "    </tr>\n",
       "    <tr>\n",
       "      <th>8</th>\n",
       "      <td>False</td>\n",
       "      <td>True</td>\n",
       "    </tr>\n",
       "    <tr>\n",
       "      <th>10</th>\n",
       "      <td>True</td>\n",
       "      <td>False</td>\n",
       "    </tr>\n",
       "    <tr>\n",
       "      <th>11</th>\n",
       "      <td>False</td>\n",
       "      <td>False</td>\n",
       "    </tr>\n",
       "  </tbody>\n",
       "</table>\n",
       "</div>"
      ],
      "text/plain": [
       "    metric5  metric6\n",
       "1     False    False\n",
       "2     False     True\n",
       "8     False     True\n",
       "10     True    False\n",
       "11    False    False"
      ]
     },
     "execution_count": 14,
     "metadata": {},
     "output_type": "execute_result"
    }
   ],
   "source": [
    "df_wehol_y.head()"
   ]
  },
  {
   "cell_type": "code",
   "execution_count": 15,
   "metadata": {
    "collapsed": true,
    "deletable": true,
    "editable": true
   },
   "outputs": [],
   "source": [
    "# Features list\n",
    "features = ['TEAGE', 'TESEX', 'GEMETSTA',\n",
    "            'GESTFIPS', 'LATITUDE', 'LONGITUDE',\n",
    "            'TELFS', 'TRDPFTPT',\n",
    "            'TRSPPRES', 'TESPEMPNOT',\n",
    "            'TESCHENR', 'PEEDUCA',\n",
    "            'PTDTRACE',\n",
    "            'TRCHILDNUM', 'TRNUMHOU',\n",
    "            'TRDTOCC1', 'TEIO1COW', 'TRERNWA']\n",
    "\n",
    "catfeatures = ['GEMETSTA', 'GESTFIPS',\n",
    "               'TELFS', 'TRDPFTPT',\n",
    "               'TRSPPRES', 'TESPEMPNOT',\n",
    "               'TESCHENR',\n",
    "               'PTDTRACE',\n",
    "               'TRDTOCC1', 'TEIO1COW']"
   ]
  },
  {
   "cell_type": "code",
   "execution_count": 16,
   "metadata": {
    "collapsed": true,
    "deletable": true,
    "editable": true
   },
   "outputs": [],
   "source": [
    "# Features matrix (i.e. X data)\n",
    "df_weday_X = df_weday[features]\n",
    "df_wehol_X = df_wehol[features]"
   ]
  },
  {
   "cell_type": "code",
   "execution_count": 17,
   "metadata": {
    "collapsed": true,
    "deletable": true,
    "editable": true
   },
   "outputs": [],
   "source": [
    "# Split train-test indices\n",
    "rs = ShuffleSplit(n_splits=1, test_size=0.1, random_state=42)\n",
    "\n",
    "train_wd, test_wd = rs.split(df_weday).next()\n",
    "train_wh, test_wh = rs.split(df_wehol).next()"
   ]
  },
  {
   "cell_type": "code",
   "execution_count": 18,
   "metadata": {
    "collapsed": true,
    "deletable": true,
    "editable": true
   },
   "outputs": [],
   "source": [
    "del df_weday\n",
    "del df_wehol"
   ]
  },
  {
   "cell_type": "markdown",
   "metadata": {
    "deletable": true,
    "editable": true
   },
   "source": [
    "## Set training and test data"
   ]
  },
  {
   "cell_type": "code",
   "execution_count": 395,
   "metadata": {
    "collapsed": true,
    "deletable": true,
    "editable": true
   },
   "outputs": [],
   "source": [
    "m = 'metric6'\n",
    "dt = 'weday'\n",
    "\n",
    "if dt == 'weday':\n",
    "    y = df_weday_y[m].iloc[train_wd].as_matrix()\n",
    "    X = df_weday_X.iloc[train_wd]\n",
    "\n",
    "    y_test = df_weday_y[m].iloc[test_wd].as_matrix()\n",
    "    X_test = df_weday_X.iloc[test_wd]\n",
    "else:\n",
    "    y = df_wehol_y[m].iloc[train_wd].as_matrix()\n",
    "    X = df_wehol_X.iloc[train_wd]\n",
    "\n",
    "    y_test = df_wehol_y[m].iloc[test_wd].as_matrix()\n",
    "    X_test = df_wehol_X.iloc[test_wd]"
   ]
  },
  {
   "cell_type": "code",
   "execution_count": 396,
   "metadata": {
    "collapsed": false,
    "deletable": true,
    "editable": true
   },
   "outputs": [
    {
     "name": "stdout",
     "output_type": "stream",
     "text": [
      "0.8444\n"
     ]
    }
   ],
   "source": [
    "# Check fraction of False since classes are unbalanced (need to predict better than this)\n",
    "print \"{:.4f}\".format(1.0 - y.sum() / float(y.shape[0]))"
   ]
  },
  {
   "cell_type": "markdown",
   "metadata": {
    "deletable": true,
    "editable": true
   },
   "source": [
    "## Combined model that uses both continuous and categorical models"
   ]
  },
  {
   "cell_type": "code",
   "execution_count": 431,
   "metadata": {
    "collapsed": true,
    "deletable": true,
    "editable": true
   },
   "outputs": [],
   "source": [
    "# Polynominal features for age\n",
    "agetrans = Pipeline([\n",
    "    ('featse0', DataFrameSelector(feature_names=['TEAGE'], dtype=float)),\n",
    "    ('scaler0', StandardScaler()),\n",
    "    ('polyno0', PolynomialFeatures(degree=3, include_bias=True)),\n",
    "])\n",
    "\n",
    "# Location features\n",
    "loctrans = Pipeline([\n",
    "    ('featse1', DataFrameSelector(feature_names=['LONGITUDE', 'LATITUDE'], dtype=float)),\n",
    "    ('impute1', Imputer(missing_values='NaN', strategy='median', axis=0)),\n",
    "])\n",
    "\n",
    "# Education level feature\n",
    "edutrans = Pipeline([\n",
    "    ('featse2', DataFrameSelector(feature_names=['PEEDUCA'], dtype=float)),\n",
    "    ('impute2', Imputer(missing_values='NaN', strategy='median', axis=0)),\n",
    "    ('scaler2', StandardScaler()),\n",
    "    ('polyno2', PolynomialFeatures(degree=2, include_bias=False)),\n",
    "])\n",
    "\n",
    "# Weekly earnings feature\n",
    "weatrans = Pipeline([\n",
    "    ('featse3', DataFrameSelector(feature_names=['TRERNWA'], dtype=float)),\n",
    "    ('impute3', ImputeNumber()),\n",
    "    ('scaler3', StandardScaler()),\n",
    "    ('polyno3', PolynomialFeatures(degree=2, include_bias=False)),\n",
    "])\n",
    "\n",
    "# Number of children/household features\n",
    "lintrans = Pipeline([\n",
    "    ('featse4', DataFrameSelector(feature_names=['TRCHILDNUM', 'TRNUMHOU'], dtype=float)),\n",
    "    ('impute4', ImputeNumber()),\n",
    "])\n",
    "\n",
    "# Use label encoding (to prevent large feature spaces)\n",
    "catlarge = Pipeline([\n",
    "    ('featse1', DataFrameSelector(feature_names=['PTDTRACE',\n",
    "                                                 'TRDTOCC1'], dtype=np.float64, ntn=True)),\n",
    "])\n",
    "\n",
    "# Use one-hot-encoding followed by truncated SVD to reduce feature count\n",
    "catsmall = Pipeline([\n",
    "    ('featse2', DataFrameSelector(feature_names=['GEMETSTA',\n",
    "                                                 'TELFS',\n",
    "                                                 'TRDPFTPT',\n",
    "                                                 'TRSPPRES',\n",
    "                                                 'TESCHENR',\n",
    "                                                 'TEIO1COW'], dtype=np.int64, ntn=True)),\n",
    "    ('oencode', OneHotEncoder(sparse=False, handle_unknown='ignore')),\n",
    "])\n",
    "\n",
    "est_full = Pipeline([\n",
    "    ('union01', FeatureUnion([\n",
    "        ('catl', catlarge),\n",
    "        ('cats', catsmall),\n",
    "        ('agetran', agetrans),\n",
    "        ('loctran', loctrans),\n",
    "        ('edutran', edutrans),\n",
    "        ('weatran', weatrans),\n",
    "        ('lintran', lintrans)\n",
    "    ])),\n",
    "    ('scaler', StandardScaler()),\n",
    "    ('rfclass', RandomForestClassifier(n_estimators=20, max_depth=14, random_state=42))\n",
    "])"
   ]
  },
  {
   "cell_type": "code",
   "execution_count": 432,
   "metadata": {
    "collapsed": true
   },
   "outputs": [],
   "source": [
    "# Grid search CV\n",
    "tmd = [8, 10, 12, 14, 16, 18, 20, 22, 24, 28, 30, 32]\n",
    "gridsearch_full = GridSearchCV(est_full,\n",
    "                              {'rfclass__max_depth': tmd,\n",
    "                              },\n",
    "                              cv=3,\n",
    "                              n_jobs=-2,\n",
    "                              scoring='f1',\n",
    "                              verbose=True)"
   ]
  },
  {
   "cell_type": "code",
   "execution_count": 433,
   "metadata": {
    "collapsed": false
   },
   "outputs": [
    {
     "name": "stdout",
     "output_type": "stream",
     "text": [
      "Fitting 3 folds for each of 12 candidates, totalling 36 fits\n"
     ]
    },
    {
     "name": "stderr",
     "output_type": "stream",
     "text": [
      "[Parallel(n_jobs=-2)]: Done  36 out of  36 | elapsed:   13.9s finished\n"
     ]
    },
    {
     "data": {
      "text/plain": [
       "GridSearchCV(cv=3, error_score='raise',\n",
       "       estimator=Pipeline(memory=None,\n",
       "     steps=[('union01', FeatureUnion(n_jobs=1,\n",
       "       transformer_list=[('catl', Pipeline(memory=None,\n",
       "     steps=[('featse1', DataFrameSelector(dtype=<type 'numpy.float64'>,\n",
       "         feature_names=['PTDTRACE', 'TRDTOCC1'], ntn=True))])), ('cats', Pipeline(memory=None,\n",
       "     steps=[('featse2', DataFrameSe...stimators=20, n_jobs=1,\n",
       "            oob_score=False, random_state=42, verbose=0, warm_start=False))]),\n",
       "       fit_params=None, iid=True, n_jobs=-2,\n",
       "       param_grid={'rfclass__max_depth': [8, 10, 12, 14, 16, 18, 20, 22, 24, 28, 30, 32]},\n",
       "       pre_dispatch='2*n_jobs', refit=True, return_train_score=True,\n",
       "       scoring='f1', verbose=True)"
      ]
     },
     "execution_count": 433,
     "metadata": {},
     "output_type": "execute_result"
    }
   ],
   "source": [
    "gridsearch_full.fit(X, y)"
   ]
  },
  {
   "cell_type": "code",
   "execution_count": 434,
   "metadata": {
    "collapsed": false
   },
   "outputs": [
    {
     "data": {
      "text/plain": [
       "{'rfclass__max_depth': 14}"
      ]
     },
     "execution_count": 434,
     "metadata": {},
     "output_type": "execute_result"
    }
   ],
   "source": [
    "gridsearch_full.best_params_"
   ]
  },
  {
   "cell_type": "code",
   "execution_count": 435,
   "metadata": {
    "collapsed": false
   },
   "outputs": [
    {
     "data": {
      "text/plain": [
       "[<matplotlib.lines.Line2D at 0x7fc612706950>]"
      ]
     },
     "execution_count": 435,
     "metadata": {},
     "output_type": "execute_result"
    },
    {
     "data": {
      "image/png": "[encoded data removed]",
      "text/plain": [
       "<matplotlib.figure.Figure at 0x7fc612764c50>"
      ]
     },
     "metadata": {},
     "output_type": "display_data"
    }
   ],
   "source": [
    "plt.plot(tmd, gridsearch_full.cv_results_['mean_test_score'])"
   ]
  },
  {
   "cell_type": "markdown",
   "metadata": {},
   "source": [
    "### Fitting using the best parameters on training set for a specific metric"
   ]
  },
  {
   "cell_type": "code",
   "execution_count": 436,
   "metadata": {
    "collapsed": false,
    "deletable": true,
    "editable": true
   },
   "outputs": [
    {
     "data": {
      "text/plain": [
       "Pipeline(memory=None,\n",
       "     steps=[('union01', FeatureUnion(n_jobs=1,\n",
       "       transformer_list=[('catl', Pipeline(memory=None,\n",
       "     steps=[('featse1', DataFrameSelector(dtype=<type 'numpy.float64'>,\n",
       "         feature_names=['PTDTRACE', 'TRDTOCC1'], ntn=True))])), ('cats', Pipeline(memory=None,\n",
       "     steps=[('featse2', DataFrameSe...stimators=20, n_jobs=1,\n",
       "            oob_score=False, random_state=42, verbose=0, warm_start=False))])"
      ]
     },
     "execution_count": 436,
     "metadata": {},
     "output_type": "execute_result"
    }
   ],
   "source": [
    "est_full.fit(X, y)"
   ]
  },
  {
   "cell_type": "code",
   "execution_count": 437,
   "metadata": {
    "collapsed": false,
    "deletable": true,
    "editable": true
   },
   "outputs": [
    {
     "data": {
      "text/plain": [
       "0.90250551905737164"
      ]
     },
     "execution_count": 437,
     "metadata": {},
     "output_type": "execute_result"
    }
   ],
   "source": [
    "est_full.score(X, y)"
   ]
  },
  {
   "cell_type": "code",
   "execution_count": 438,
   "metadata": {
    "collapsed": false,
    "deletable": true,
    "editable": true
   },
   "outputs": [
    {
     "data": {
      "text/plain": [
       "0.87887492519449428"
      ]
     },
     "execution_count": 438,
     "metadata": {},
     "output_type": "execute_result"
    }
   ],
   "source": [
    "metrics.accuracy_score(y_test, est_full.predict(X_test))"
   ]
  },
  {
   "cell_type": "code",
   "execution_count": 439,
   "metadata": {
    "collapsed": false,
    "scrolled": true
   },
   "outputs": [
    {
     "data": {
      "text/plain": [
       "['models/pred_model_atus_CLASS_FULLEST_weday_metric6_2017-11-07.pkl']"
      ]
     },
     "execution_count": 439,
     "metadata": {},
     "output_type": "execute_result"
    }
   ],
   "source": [
    "# Pickle model\n",
    "joblib.dump(est_full, 'models/pred_model_atus_CLASS_FULLEST_{}_{}_{}.pkl'.format(dt, m, date.today()))"
   ]
  },
  {
   "cell_type": "code",
   "execution_count": null,
   "metadata": {
    "collapsed": true
   },
   "outputs": [],
   "source": []
  }
 ],
 "metadata": {
  "hide_input": false,
  "kernelspec": {
   "display_name": "Python 2",
   "language": "python",
   "name": "python2"
  },
  "language_info": {
   "codemirror_mode": {
    "name": "ipython",
    "version": 2
   },
   "file_extension": ".py",
   "mimetype": "text/x-python",
   "name": "python",
   "nbconvert_exporter": "python",
   "pygments_lexer": "ipython2",
   "version": "2.7.13"
  }
 },
 "nbformat": 4,
 "nbformat_minor": 2
}
