{
 "cells": [
  {
   "cell_type": "code",
   "execution_count": 1,
   "metadata": {
    "collapsed": true,
    "deletable": true,
    "editable": true
   },
   "outputs": [],
   "source": [
    "%matplotlib inline"
   ]
  },
  {
   "cell_type": "code",
   "execution_count": 2,
   "metadata": {
    "collapsed": true,
    "deletable": true,
    "editable": true
   },
   "outputs": [],
   "source": [
    "import numpy as np\n",
    "import pandas as pd\n",
    "import matplotlib.pyplot as plt\n",
    "import seaborn as sns"
   ]
  },
  {
   "cell_type": "code",
   "execution_count": 8,
   "metadata": {
    "collapsed": true,
    "deletable": true,
    "editable": true
   },
   "outputs": [],
   "source": [
    "from atusfunclib import load_data\n",
    "from activitylib import ACTINFO\n",
    "from wlmetrics import *"
   ]
  },
  {
   "cell_type": "code",
   "execution_count": 9,
   "metadata": {
    "collapsed": true,
    "deletable": true,
    "editable": true
   },
   "outputs": [],
   "source": [
    "# Import all data\n",
    "data_import = load_data(loc='data')"
   ]
  },
  {
   "cell_type": "code",
   "execution_count": 10,
   "metadata": {
    "collapsed": true,
    "deletable": true,
    "editable": true
   },
   "outputs": [],
   "source": [
    "# Unpack individual dataframes\n",
    "df, dfactcodes, dfeducodes, dfinccodes, dfagecodes, \\\n",
    "dfempcodes, dfindcodes, dfraccodes, dfloccodes, dfwhocodes, \\\n",
    "dfdemocodes = data_import"
   ]
  },
  {
   "cell_type": "code",
   "execution_count": 11,
   "metadata": {
    "collapsed": true,
    "deletable": true,
    "editable": true
   },
   "outputs": [],
   "source": [
    "# Convert category columns to float\n",
    "df['TEAGE_CAT'] = df['TEAGE_CAT'].astype(float)\n",
    "df['TRERNWA_CAT'] = df['TRERNWA_CAT'].astype(float)"
   ]
  },
  {
   "cell_type": "markdown",
   "metadata": {
    "deletable": true,
    "editable": true
   },
   "source": [
    "Metrics to calculate:\n",
    "1. Weighted `sum(life) / sum(work)`\n",
    "1. More than 10h work a day\n",
    "1. % of day spent on Personal Care\n",
    "1. % of day spent on Leisure\n",
    "1. More than 5h childcare and housework\n",
    "1. Average time Career, Social, Financial, Physical, and Community"
   ]
  },
  {
   "cell_type": "code",
   "execution_count": 12,
   "metadata": {
    "collapsed": false,
    "deletable": true,
    "editable": true
   },
   "outputs": [
    {
     "data": {
      "text/plain": [
       "0     False\n",
       "1     False\n",
       "2     False\n",
       "3     False\n",
       "4     False\n",
       "5      True\n",
       "6     False\n",
       "7     False\n",
       "8      True\n",
       "9     False\n",
       "10    False\n",
       "11    False\n",
       "12    False\n",
       "13    False\n",
       "14    False\n",
       "15     True\n",
       "16    False\n",
       "17    False\n",
       "18    False\n",
       "19    False\n",
       "dtype: bool"
      ]
     },
     "execution_count": 12,
     "metadata": {},
     "output_type": "execute_result"
    }
   ],
   "source": [
    "w_l_balance_housework(df).head(20)"
   ]
  },
  {
   "cell_type": "code",
   "execution_count": 13,
   "metadata": {
    "collapsed": false,
    "deletable": true,
    "editable": true
   },
   "outputs": [
    {
     "data": {
      "text/plain": [
       "0     0.635417\n",
       "1     0.534722\n",
       "2     0.496528\n",
       "3     0.541667\n",
       "4     0.383333\n",
       "5     0.538194\n",
       "6     0.451389\n",
       "7     0.375000\n",
       "8     0.548611\n",
       "9     0.187500\n",
       "10    0.409722\n",
       "11    0.475694\n",
       "12    0.454167\n",
       "13    0.583333\n",
       "14    0.461806\n",
       "15    0.500000\n",
       "16    0.468750\n",
       "17    0.451389\n",
       "18    0.486111\n",
       "19    0.475694\n",
       "dtype: float64"
      ]
     },
     "execution_count": 13,
     "metadata": {},
     "output_type": "execute_result"
    }
   ],
   "source": [
    "w_l_balance_personalcare(df).head(20)"
   ]
  },
  {
   "cell_type": "code",
   "execution_count": 14,
   "metadata": {
    "collapsed": false,
    "deletable": true,
    "editable": true
   },
   "outputs": [
    {
     "data": {
      "text/plain": [
       "0     0.364583\n",
       "1     0.409722\n",
       "2     0.236111\n",
       "3     0.184028\n",
       "4     0.083333\n",
       "5     0.211806\n",
       "6     0.001389\n",
       "7     0.218750\n",
       "8     0.083333\n",
       "9     0.352083\n",
       "10    0.083333\n",
       "11    0.121528\n",
       "12    0.093056\n",
       "13    0.340278\n",
       "14    0.078472\n",
       "15    0.125000\n",
       "16    0.409722\n",
       "17    0.000000\n",
       "18    0.240278\n",
       "19    0.317361\n",
       "dtype: float64"
      ]
     },
     "execution_count": 14,
     "metadata": {},
     "output_type": "execute_result"
    }
   ],
   "source": [
    "w_l_balance_leisuresocial(df).head(20)"
   ]
  },
  {
   "cell_type": "code",
   "execution_count": 15,
   "metadata": {
    "collapsed": false,
    "deletable": true,
    "editable": true
   },
   "outputs": [
    {
     "data": {
      "text/plain": [
       "0     False\n",
       "1     False\n",
       "2     False\n",
       "3     False\n",
       "4     False\n",
       "5     False\n",
       "6     False\n",
       "7     False\n",
       "8     False\n",
       "9     False\n",
       "10     True\n",
       "11    False\n",
       "12    False\n",
       "13    False\n",
       "14    False\n",
       "15    False\n",
       "16    False\n",
       "17    False\n",
       "18    False\n",
       "19    False\n",
       "Name: t0501, dtype: bool"
      ]
     },
     "execution_count": 15,
     "metadata": {},
     "output_type": "execute_result"
    }
   ],
   "source": [
    "w_l_balance_workday(df).head(20)"
   ]
  },
  {
   "cell_type": "code",
   "execution_count": 16,
   "metadata": {
    "collapsed": false,
    "deletable": true,
    "editable": true
   },
   "outputs": [
    {
     "data": {
      "text/plain": [
       "0     7.273093\n",
       "1     7.215975\n",
       "2     6.962243\n",
       "3     1.467932\n",
       "4    -0.411883\n",
       "5     6.985642\n",
       "6    -0.454766\n",
       "7    -0.195667\n",
       "8     6.814543\n",
       "9     0.370728\n",
       "10   -0.676125\n",
       "11    6.758095\n",
       "12    0.060070\n",
       "13    7.193686\n",
       "14   -0.255726\n",
       "15    2.292646\n",
       "16    7.143618\n",
       "17    1.603312\n",
       "18    6.953684\n",
       "19    7.041412\n",
       "dtype: float64"
      ]
     },
     "execution_count": 16,
     "metadata": {},
     "output_type": "execute_result"
    }
   ],
   "source": [
    "weights_p = np.ones(len(ACTINFO['positiveWL']))\n",
    "weights_n = np.ones(len(ACTINFO['negoccWL']))\n",
    "\n",
    "w_l_balance_weighted_ratio(df,\n",
    "                           ACTINFO['positiveWL'],\n",
    "                           ACTINFO['negoccWL'],\n",
    "                           weights_p,\n",
    "                           weights_n).head(20)"
   ]
  },
  {
   "cell_type": "code",
   "execution_count": 17,
   "metadata": {
    "collapsed": false,
    "deletable": true,
    "editable": true
   },
   "outputs": [],
   "source": [
    "df['metric1'] = w_l_balance_weighted_ratio(df,\n",
    "                           ACTINFO['positiveWL'],\n",
    "                           ACTINFO['negoccWL'],\n",
    "                           weights_p,\n",
    "                           weights_n)"
   ]
  },
  {
   "cell_type": "code",
   "execution_count": 18,
   "metadata": {
    "collapsed": true,
    "deletable": true,
    "editable": true
   },
   "outputs": [],
   "source": [
    "df['metric2'] = w_l_balance_workday(df)"
   ]
  },
  {
   "cell_type": "code",
   "execution_count": 19,
   "metadata": {
    "collapsed": true,
    "deletable": true,
    "editable": true
   },
   "outputs": [],
   "source": [
    "df['metric3'] = w_l_balance_personalcare(df)"
   ]
  },
  {
   "cell_type": "code",
   "execution_count": 20,
   "metadata": {
    "collapsed": true,
    "deletable": true,
    "editable": true
   },
   "outputs": [],
   "source": [
    "df['metric4'] = w_l_balance_leisuresocial(df)"
   ]
  },
  {
   "cell_type": "code",
   "execution_count": 21,
   "metadata": {
    "collapsed": true,
    "deletable": true,
    "editable": true
   },
   "outputs": [],
   "source": [
    "df['metric5'] = w_l_balance_housework(df)"
   ]
  },
  {
   "cell_type": "code",
   "execution_count": 22,
   "metadata": {
    "collapsed": false,
    "deletable": true,
    "editable": true
   },
   "outputs": [
    {
     "data": {
      "text/html": [
       "<div>\n",
       "<style>\n",
       "    .dataframe thead tr:only-child th {\n",
       "        text-align: right;\n",
       "    }\n",
       "\n",
       "    .dataframe thead th {\n",
       "        text-align: left;\n",
       "    }\n",
       "\n",
       "    .dataframe tbody tr th {\n",
       "        vertical-align: top;\n",
       "    }\n",
       "</style>\n",
       "<table border=\"1\" class=\"dataframe\">\n",
       "  <thead>\n",
       "    <tr style=\"text-align: right;\">\n",
       "      <th></th>\n",
       "      <th>TUCASEID</th>\n",
       "      <th>TEAGE</th>\n",
       "      <th>TESEX</th>\n",
       "      <th>TUYEAR</th>\n",
       "      <th>TRHOLIDAY</th>\n",
       "      <th>TUDIARYDAY</th>\n",
       "      <th>GEMETSTA</th>\n",
       "      <th>GTMETSTA</th>\n",
       "      <th>TEHRUSLT</th>\n",
       "      <th>TELFS</th>\n",
       "      <th>...</th>\n",
       "      <th>t14_W</th>\n",
       "      <th>t15_W</th>\n",
       "      <th>t16_W</th>\n",
       "      <th>t18_W</th>\n",
       "      <th>t50_W</th>\n",
       "      <th>metric1</th>\n",
       "      <th>metric2</th>\n",
       "      <th>metric3</th>\n",
       "      <th>metric4</th>\n",
       "      <th>metric5</th>\n",
       "    </tr>\n",
       "  </thead>\n",
       "  <tbody>\n",
       "    <tr>\n",
       "      <th>0</th>\n",
       "      <td>20030100013280</td>\n",
       "      <td>60</td>\n",
       "      <td>1</td>\n",
       "      <td>2003</td>\n",
       "      <td>0</td>\n",
       "      <td>6</td>\n",
       "      <td>1.0</td>\n",
       "      <td>NaN</td>\n",
       "      <td>30.0</td>\n",
       "      <td>2</td>\n",
       "      <td>...</td>\n",
       "      <td>0.0</td>\n",
       "      <td>0.0</td>\n",
       "      <td>0.000000e+00</td>\n",
       "      <td>0.000000e+00</td>\n",
       "      <td>0.0</td>\n",
       "      <td>7.273093</td>\n",
       "      <td>False</td>\n",
       "      <td>0.635417</td>\n",
       "      <td>0.364583</td>\n",
       "      <td>False</td>\n",
       "    </tr>\n",
       "    <tr>\n",
       "      <th>1</th>\n",
       "      <td>20030100013344</td>\n",
       "      <td>41</td>\n",
       "      <td>2</td>\n",
       "      <td>2003</td>\n",
       "      <td>0</td>\n",
       "      <td>7</td>\n",
       "      <td>2.0</td>\n",
       "      <td>NaN</td>\n",
       "      <td>30.0</td>\n",
       "      <td>1</td>\n",
       "      <td>...</td>\n",
       "      <td>0.0</td>\n",
       "      <td>0.0</td>\n",
       "      <td>0.000000e+00</td>\n",
       "      <td>3.470645e+07</td>\n",
       "      <td>0.0</td>\n",
       "      <td>7.215975</td>\n",
       "      <td>False</td>\n",
       "      <td>0.534722</td>\n",
       "      <td>0.409722</td>\n",
       "      <td>False</td>\n",
       "    </tr>\n",
       "    <tr>\n",
       "      <th>2</th>\n",
       "      <td>20030100013352</td>\n",
       "      <td>26</td>\n",
       "      <td>2</td>\n",
       "      <td>2003</td>\n",
       "      <td>0</td>\n",
       "      <td>7</td>\n",
       "      <td>1.0</td>\n",
       "      <td>NaN</td>\n",
       "      <td>12.0</td>\n",
       "      <td>2</td>\n",
       "      <td>...</td>\n",
       "      <td>0.0</td>\n",
       "      <td>0.0</td>\n",
       "      <td>2.298316e+08</td>\n",
       "      <td>3.830527e+07</td>\n",
       "      <td>0.0</td>\n",
       "      <td>6.962243</td>\n",
       "      <td>False</td>\n",
       "      <td>0.496528</td>\n",
       "      <td>0.236111</td>\n",
       "      <td>False</td>\n",
       "    </tr>\n",
       "    <tr>\n",
       "      <th>3</th>\n",
       "      <td>20030100013848</td>\n",
       "      <td>36</td>\n",
       "      <td>2</td>\n",
       "      <td>2003</td>\n",
       "      <td>0</td>\n",
       "      <td>5</td>\n",
       "      <td>2.0</td>\n",
       "      <td>NaN</td>\n",
       "      <td>NaN</td>\n",
       "      <td>4</td>\n",
       "      <td>...</td>\n",
       "      <td>0.0</td>\n",
       "      <td>0.0</td>\n",
       "      <td>0.000000e+00</td>\n",
       "      <td>0.000000e+00</td>\n",
       "      <td>0.0</td>\n",
       "      <td>1.467932</td>\n",
       "      <td>False</td>\n",
       "      <td>0.541667</td>\n",
       "      <td>0.184028</td>\n",
       "      <td>False</td>\n",
       "    </tr>\n",
       "    <tr>\n",
       "      <th>4</th>\n",
       "      <td>20030100014165</td>\n",
       "      <td>51</td>\n",
       "      <td>1</td>\n",
       "      <td>2003</td>\n",
       "      <td>0</td>\n",
       "      <td>5</td>\n",
       "      <td>2.0</td>\n",
       "      <td>NaN</td>\n",
       "      <td>80.0</td>\n",
       "      <td>1</td>\n",
       "      <td>...</td>\n",
       "      <td>0.0</td>\n",
       "      <td>0.0</td>\n",
       "      <td>0.000000e+00</td>\n",
       "      <td>2.393342e+08</td>\n",
       "      <td>0.0</td>\n",
       "      <td>-0.411883</td>\n",
       "      <td>False</td>\n",
       "      <td>0.383333</td>\n",
       "      <td>0.083333</td>\n",
       "      <td>False</td>\n",
       "    </tr>\n",
       "  </tbody>\n",
       "</table>\n",
       "<p>5 rows × 1147 columns</p>\n",
       "</div>"
      ],
      "text/plain": [
       "         TUCASEID  TEAGE  TESEX  TUYEAR  TRHOLIDAY  TUDIARYDAY  GEMETSTA  \\\n",
       "0  20030100013280     60      1    2003          0           6       1.0   \n",
       "1  20030100013344     41      2    2003          0           7       2.0   \n",
       "2  20030100013352     26      2    2003          0           7       1.0   \n",
       "3  20030100013848     36      2    2003          0           5       2.0   \n",
       "4  20030100014165     51      1    2003          0           5       2.0   \n",
       "\n",
       "   GTMETSTA  TEHRUSLT  TELFS   ...     t14_W  t15_W         t16_W  \\\n",
       "0       NaN      30.0      2   ...       0.0    0.0  0.000000e+00   \n",
       "1       NaN      30.0      1   ...       0.0    0.0  0.000000e+00   \n",
       "2       NaN      12.0      2   ...       0.0    0.0  2.298316e+08   \n",
       "3       NaN       NaN      4   ...       0.0    0.0  0.000000e+00   \n",
       "4       NaN      80.0      1   ...       0.0    0.0  0.000000e+00   \n",
       "\n",
       "          t18_W  t50_W   metric1  metric2   metric3   metric4  metric5  \n",
       "0  0.000000e+00    0.0  7.273093    False  0.635417  0.364583    False  \n",
       "1  3.470645e+07    0.0  7.215975    False  0.534722  0.409722    False  \n",
       "2  3.830527e+07    0.0  6.962243    False  0.496528  0.236111    False  \n",
       "3  0.000000e+00    0.0  1.467932    False  0.541667  0.184028    False  \n",
       "4  2.393342e+08    0.0 -0.411883    False  0.383333  0.083333    False  \n",
       "\n",
       "[5 rows x 1147 columns]"
      ]
     },
     "execution_count": 22,
     "metadata": {},
     "output_type": "execute_result"
    }
   ],
   "source": [
    "df.head()"
   ]
  },
  {
   "cell_type": "code",
   "execution_count": null,
   "metadata": {
    "collapsed": true,
    "deletable": true,
    "editable": true
   },
   "outputs": [],
   "source": []
  }
 ],
 "metadata": {
  "hide_input": false,
  "kernelspec": {
   "display_name": "Python 2",
   "language": "python",
   "name": "python2"
  },
  "language_info": {
   "codemirror_mode": {
    "name": "ipython",
    "version": 2
   },
   "file_extension": ".py",
   "mimetype": "text/x-python",
   "name": "python",
   "nbconvert_exporter": "python",
   "pygments_lexer": "ipython2",
   "version": "2.7.13"
  }
 },
 "nbformat": 4,
 "nbformat_minor": 2
}
