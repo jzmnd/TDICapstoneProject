{
 "cells": [
  {
   "cell_type": "code",
   "execution_count": 75,
   "metadata": {
    "collapsed": true
   },
   "outputs": [],
   "source": [
    "%matplotlib inline"
   ]
  },
  {
   "cell_type": "code",
   "execution_count": 158,
   "metadata": {
    "collapsed": true
   },
   "outputs": [],
   "source": [
    "import numpy as np\n",
    "import pandas as pd\n",
    "import matplotlib.pyplot as plt\n",
    "import seaborn as sns"
   ]
  },
  {
   "cell_type": "code",
   "execution_count": 175,
   "metadata": {
    "collapsed": true
   },
   "outputs": [],
   "source": [
    "import requests\n",
    "from selenium import webdriver\n",
    "import json"
   ]
  },
  {
   "cell_type": "code",
   "execution_count": 160,
   "metadata": {
    "collapsed": false
   },
   "outputs": [],
   "source": [
    "def get_data(country):\n",
    "    driver = webdriver.PhantomJS()\n",
    "    oecd_base_url = \"http://www.oecdbetterlifeindex.org/countries/\"\n",
    "    driver.get(\"\".join([oecd_base_url, country]))\n",
    "    \n",
    "    topics = driver.find_elements_by_css_selector('div#topics')[0]\n",
    "    \n",
    "    results = {}\n",
    "    for t in topics.find_elements_by_css_selector('div.minichart'):\n",
    "        if t.find_elements_by_css_selector('div.value'):\n",
    "            a = t.text.split('\\n')\n",
    "            results[a[0]] = float(a[1])\n",
    "\n",
    "    return results"
   ]
  },
  {
   "cell_type": "code",
   "execution_count": 168,
   "metadata": {
    "collapsed": false
   },
   "outputs": [],
   "source": [
    "with open('data/oecddata/countries.dat', 'r') as f:\n",
    "    list_of_countries = f.read().splitlines()"
   ]
  },
  {
   "cell_type": "code",
   "execution_count": 172,
   "metadata": {
    "collapsed": false
   },
   "outputs": [],
   "source": [
    "data = {}\n",
    "for c in list_of_countries:\n",
    "    c_path = c.lower().replace(' ', '-')\n",
    "    d = get_data(c_path)\n",
    "    data[c] = d"
   ]
  },
  {
   "cell_type": "code",
   "execution_count": 176,
   "metadata": {
    "collapsed": true
   },
   "outputs": [],
   "source": [
    "with open('data/oecddata/result.json', 'w') as f:\n",
    "    json.dump(data, f)"
   ]
  },
  {
   "cell_type": "code",
   "execution_count": 186,
   "metadata": {
    "collapsed": false
   },
   "outputs": [],
   "source": [
    "df = pd.DataFrame.from_dict(data, orient='index')"
   ]
  },
  {
   "cell_type": "code",
   "execution_count": 223,
   "metadata": {
    "collapsed": false
   },
   "outputs": [
    {
     "data": {
      "image/png": "[encoded data removed]",
      "text/plain": [
       "<matplotlib.figure.Figure at 0x7f6122a41d90>"
      ]
     },
     "metadata": {},
     "output_type": "display_data"
    }
   ],
   "source": [
    "colors = [sns.color_palette()[0]] * len(df)\n",
    "colors[6] = sns.color_palette()[2]\n",
    "df.sort_values('Work-Life Balance').iloc[2:].plot(kind='bar',\n",
    "                                                  ylim=(4.5,10),\n",
    "                                                  figsize=(12,3),\n",
    "                                                  y='Work-Life Balance',\n",
    "                                                  legend=False,\n",
    "                                                  color=colors)\n",
    "plt.savefig('visualization/fig_oecd01.svg', bbox_inches='tight')"
   ]
  },
  {
   "cell_type": "code",
   "execution_count": null,
   "metadata": {
    "collapsed": false
   },
   "outputs": [],
   "source": []
  },
  {
   "cell_type": "code",
   "execution_count": null,
   "metadata": {
    "collapsed": true
   },
   "outputs": [],
   "source": []
  }
 ],
 "metadata": {
  "hide_input": false,
  "kernelspec": {
   "display_name": "Python 2",
   "language": "python",
   "name": "python2"
  },
  "language_info": {
   "codemirror_mode": {
    "name": "ipython",
    "version": 2
   },
   "file_extension": ".py",
   "mimetype": "text/x-python",
   "name": "python",
   "nbconvert_exporter": "python",
   "pygments_lexer": "ipython2",
   "version": "2.7.13"
  }
 },
 "nbformat": 4,
 "nbformat_minor": 2
}
