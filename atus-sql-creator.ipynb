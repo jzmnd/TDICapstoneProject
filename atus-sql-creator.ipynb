{
 "cells": [
  {
   "cell_type": "code",
   "execution_count": 33,
   "metadata": {
    "collapsed": true
   },
   "outputs": [],
   "source": [
    "import os\n",
    "import numpy as np\n",
    "import pandas as pd\n",
    "from atusfunclib import load_data\n",
    "from sqlalchemy import create_engine"
   ]
  },
  {
   "cell_type": "code",
   "execution_count": 34,
   "metadata": {
    "collapsed": true
   },
   "outputs": [],
   "source": [
    "PATH = \"/Users/jeremysmith/Documents/python-scripts/TDICapstoneProject/data\""
   ]
  },
  {
   "cell_type": "code",
   "execution_count": 35,
   "metadata": {
    "collapsed": false
   },
   "outputs": [],
   "source": [
    "# Import all data\n",
    "data_import = load_data(loc='data')"
   ]
  },
  {
   "cell_type": "code",
   "execution_count": 36,
   "metadata": {
    "collapsed": true
   },
   "outputs": [],
   "source": [
    "# Unpack individual dataframes\n",
    "df, dfactcodes, dfeducodes, dfinccodes, dfagecodes, \\\n",
    "dfempcodes, dfindcodes, dfraccodes, dfloccodes, dfwhocodes = data_import"
   ]
  },
  {
   "cell_type": "code",
   "execution_count": 37,
   "metadata": {
    "collapsed": true
   },
   "outputs": [],
   "source": [
    "# Dtype convertion\n",
    "dtypedict = {'int64': 'BIGINT', 'float64': 'REAL', 'category': 'TEXT'}"
   ]
  },
  {
   "cell_type": "code",
   "execution_count": 38,
   "metadata": {
    "collapsed": false
   },
   "outputs": [],
   "source": [
    "# Code tables\n",
    "codedfs = {'actcodes': dfactcodes, 'educodes': dfeducodes, 'inccodes': dfinccodes,\n",
    "           'agecodes': dfagecodes, 'empcodes': dfempcodes, 'indcodes': dfindcodes,\n",
    "           'raccodes': dfraccodes, 'loccodes': dfloccodes, 'whocodes': dfwhocodes}\n",
    "# Data tables\n",
    "datadfs = {'actimesw3': df.filter(regex=r'TUCASEID|t\\d{6}_W'),\n",
    "           'actimes3':  df.filter(regex=r'TUCASEID|t\\d{6}$'),\n",
    "           'actimesw2': df.filter(regex=r'TUCASEID|t\\d{4}_W'),\n",
    "           'actimes2':  df.filter(regex=r'TUCASEID|t\\d{4}$'),\n",
    "           'actimesw1': df.filter(regex=r'TUCASEID|t\\d{2}_W'),\n",
    "           'actimes1':  df.filter(regex=r'TUCASEID|t\\d{2}$'),\n",
    "           'demow':     df.filter(regex=r'TUCASEID|^[A-Z]+_W'),\n",
    "           'demo':      df.filter(regex=r'TUCASEID|^[A-Z]+[^_W]$')}\n",
    "\n",
    "# Database name\n",
    "databasename = 'atusdata'\n",
    "# Username\n",
    "username = 'jeremysmith'"
   ]
  },
  {
   "cell_type": "code",
   "execution_count": 39,
   "metadata": {
    "collapsed": true
   },
   "outputs": [],
   "source": [
    "# Postgres engine for atusdata database\n",
    "engine = create_engine(\"postgresql://{}@localhost:5432/{}\".format(username, databasename))"
   ]
  },
  {
   "cell_type": "code",
   "execution_count": 40,
   "metadata": {
    "collapsed": false
   },
   "outputs": [
    {
     "name": "stdout",
     "output_type": "stream",
     "text": [
      "Table 'raccodes' already exists in 'atusdata'\n",
      "Table 'loccodes' already exists in 'atusdata'\n",
      "Table 'actcodes' already exists in 'atusdata'\n",
      "Table 'indcodes' already exists in 'atusdata'\n",
      "Table 'empcodes' already exists in 'atusdata'\n",
      "Table 'whocodes' already exists in 'atusdata'\n",
      "Table 'agecodes' already exists in 'atusdata'\n",
      "Table 'inccodes' already exists in 'atusdata'\n",
      "Table 'educodes' already exists in 'atusdata'\n"
     ]
    }
   ],
   "source": [
    "# Create code tables (small tables OK to use pandas)\n",
    "for k in codedfs.keys():\n",
    "    try:\n",
    "        codedfs[k].to_sql(k, engine)\n",
    "    except ValueError:\n",
    "        print \"Table '{}' already exists in '{}'\".format(k, databasename)"
   ]
  },
  {
   "cell_type": "code",
   "execution_count": 29,
   "metadata": {
    "collapsed": false
   },
   "outputs": [],
   "source": [
    "# Create csv subfiles from data dfs\n",
    "for k in datadfs.keys():\n",
    "    datadfs[k].to_csv(\"data/{}.csv\".format(k))"
   ]
  },
  {
   "cell_type": "code",
   "execution_count": 41,
   "metadata": {
    "collapsed": true
   },
   "outputs": [],
   "source": [
    "sql_create_statement = \"\"\"\n",
    "    CREATE TABLE IF NOT EXISTS {}\n",
    "        ({});\n",
    "    \"\"\"\n",
    "sql_copy_statement = \"\"\"\n",
    "    COPY {} FROM '{}'\n",
    "        WITH (FORMAT csv, HEADER);\n",
    "    \"\"\"\n",
    "sql_droptable_statement = \"\"\"\n",
    "    DROP TABLE {};\n",
    "\"\"\""
   ]
  },
  {
   "cell_type": "code",
   "execution_count": 42,
   "metadata": {
    "collapsed": true
   },
   "outputs": [],
   "source": [
    "# Delete tables\n",
    "for k in datadfs.keys():\n",
    "    engine.execute(sql_droptable_statement.format(k))"
   ]
  },
  {
   "cell_type": "code",
   "execution_count": 43,
   "metadata": {
    "collapsed": false
   },
   "outputs": [],
   "source": [
    "# Create tables\n",
    "for k in datadfs.keys():\n",
    "    \n",
    "    header = datadfs[k].keys().tolist()\n",
    "    dtypes = [dtypedict[i.name] for i in datadfs[k].dtypes.tolist()]\n",
    "\n",
    "    schemestring = \"index BIGINT, \" + \", \".join([\" \".join(i) for i in zip(header, dtypes)])\n",
    "\n",
    "    engine.execute(sql_create_statement.format(k, schemestring))"
   ]
  },
  {
   "cell_type": "code",
   "execution_count": 44,
   "metadata": {
    "collapsed": false
   },
   "outputs": [
    {
     "name": "stdout",
     "output_type": "stream",
     "text": [
      "/Users/jeremysmith/Documents/python-scripts/TDICapstoneProject/data/actimesw2.csv\n",
      "/Users/jeremysmith/Documents/python-scripts/TDICapstoneProject/data/actimesw3.csv\n",
      "/Users/jeremysmith/Documents/python-scripts/TDICapstoneProject/data/actimesw1.csv\n",
      "/Users/jeremysmith/Documents/python-scripts/TDICapstoneProject/data/actimes2.csv\n",
      "/Users/jeremysmith/Documents/python-scripts/TDICapstoneProject/data/actimes3.csv\n",
      "/Users/jeremysmith/Documents/python-scripts/TDICapstoneProject/data/actimes1.csv\n",
      "/Users/jeremysmith/Documents/python-scripts/TDICapstoneProject/data/demo.csv\n",
      "/Users/jeremysmith/Documents/python-scripts/TDICapstoneProject/data/demow.csv\n",
      "CPU times: user 18.5 ms, sys: 7.2 ms, total: 25.7 ms\n",
      "Wall time: 1min 5s\n"
     ]
    }
   ],
   "source": [
    "%%time\n",
    "# Copy data from csv files into tables\n",
    "for k in datadfs.keys():\n",
    "    \n",
    "    filenamestring = os.path.join(PATH, \"{}.csv\".format(k))    \n",
    "    print filenamestring\n",
    "\n",
    "    with engine.connect().execution_options(autocommit=True) as con:\n",
    "        con.execute(sql_copy_statement.format(k, filenamestring))"
   ]
  }
 ],
 "metadata": {
  "kernelspec": {
   "display_name": "Python 2",
   "language": "python",
   "name": "python2"
  },
  "language_info": {
   "codemirror_mode": {
    "name": "ipython",
    "version": 2
   },
   "file_extension": ".py",
   "mimetype": "text/x-python",
   "name": "python",
   "nbconvert_exporter": "python",
   "pygments_lexer": "ipython2",
   "version": "2.7.13"
  }
 },
 "nbformat": 4,
 "nbformat_minor": 2
}
