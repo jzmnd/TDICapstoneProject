{
 "cells": [
  {
   "cell_type": "code",
   "execution_count": 19,
   "metadata": {
    "collapsed": true,
    "deletable": true,
    "editable": true
   },
   "outputs": [],
   "source": [
    "import os\n",
    "import numpy as np\n",
    "import pandas as pd\n",
    "from atusfunclib import load_data\n",
    "from sqlalchemy import create_engine\n",
    "import yaml"
   ]
  },
  {
   "cell_type": "code",
   "execution_count": 20,
   "metadata": {
    "collapsed": true,
    "deletable": true,
    "editable": true
   },
   "outputs": [],
   "source": [
    "PATH = \"/home/vagrant/capstoneproject/TDICapstoneProject/data\""
   ]
  },
  {
   "cell_type": "code",
   "execution_count": 21,
   "metadata": {
    "collapsed": true
   },
   "outputs": [],
   "source": [
    "with open('config', 'r') as f:\n",
    "    config = yaml.load(f)\n",
    "    SQL_PASSWORD = config['sql']['pass']\n",
    "    SQL_USERNAME = config['sql']['user']"
   ]
  },
  {
   "cell_type": "code",
   "execution_count": 3,
   "metadata": {
    "collapsed": false,
    "deletable": true,
    "editable": true
   },
   "outputs": [],
   "source": [
    "# Import all data\n",
    "data_import = load_data(loc='data')"
   ]
  },
  {
   "cell_type": "code",
   "execution_count": 4,
   "metadata": {
    "collapsed": true,
    "deletable": true,
    "editable": true
   },
   "outputs": [],
   "source": [
    "# Unpack individual dataframes\n",
    "df, dfactcodes, dfeducodes, dfinccodes, dfagecodes, \\\n",
    "dfempcodes, dfindcodes, dfraccodes, dfloccodes, dfwhocodes, \\\n",
    "dfdemocodes = data_import"
   ]
  },
  {
   "cell_type": "code",
   "execution_count": 5,
   "metadata": {
    "collapsed": true,
    "deletable": true,
    "editable": true
   },
   "outputs": [],
   "source": [
    "# Dtype convertion\n",
    "dtypedict = {'int64': 'BIGINT', 'float64': 'REAL', 'category': 'TEXT'}"
   ]
  },
  {
   "cell_type": "code",
   "execution_count": 13,
   "metadata": {
    "collapsed": false,
    "deletable": true,
    "editable": true
   },
   "outputs": [],
   "source": [
    "# Code tables\n",
    "codedfs = {'actcodes': dfactcodes, 'educodes': dfeducodes, 'inccodes': dfinccodes,\n",
    "           'agecodes': dfagecodes, 'empcodes': dfempcodes, 'indcodes': dfindcodes,\n",
    "           'raccodes': dfraccodes, 'loccodes': dfloccodes, 'whocodes': dfwhocodes,\n",
    "           'democodes': dfdemocodes}\n",
    "# Data tables\n",
    "datadfs = {'actimesw3': df.filter(regex=r'TUCASEID|t\\d{6}_W'),\n",
    "           'actimes3':  df.filter(regex=r'TUCASEID|t\\d{6}$'),\n",
    "           'actimesw2': df.filter(regex=r'TUCASEID|t\\d{4}_W'),\n",
    "           'actimes2':  df.filter(regex=r'TUCASEID|t\\d{4}$'),\n",
    "           'actimesw1': df.filter(regex=r'TUCASEID|t\\d{2}_W'),\n",
    "           'actimes1':  df.filter(regex=r'TUCASEID|t\\d{2}$'),\n",
    "           'demow':     df.filter(regex=r'TUCASEID|^[A-Z]+_W'),\n",
    "           'demo':      df.filter(regex=r'TUCASEID|^[A-Z]+[^_W]$')}\n",
    "\n",
    "# Database name\n",
    "databasename = 'atusdata'\n",
    "# Username\n",
    "username = SQL_USERNAME\n",
    "# Password\n",
    "password = SQL_PASSWORD"
   ]
  },
  {
   "cell_type": "code",
   "execution_count": 16,
   "metadata": {
    "collapsed": false,
    "deletable": true,
    "editable": true
   },
   "outputs": [],
   "source": [
    "# Postgres engine for atusdata database\n",
    "engine = create_engine(\"postgresql://{}:{}@localhost:5432/{}\".format(username, password, databasename))"
   ]
  },
  {
   "cell_type": "code",
   "execution_count": 17,
   "metadata": {
    "collapsed": false,
    "deletable": true,
    "editable": true
   },
   "outputs": [
    {
     "name": "stdout",
     "output_type": "stream",
     "text": [
      "Table 'raccodes' already exists in 'atusdata'\n",
      "Table 'loccodes' already exists in 'atusdata'\n",
      "Table 'actcodes' already exists in 'atusdata'\n",
      "Table 'indcodes' already exists in 'atusdata'\n",
      "Table 'empcodes' already exists in 'atusdata'\n",
      "Table 'whocodes' already exists in 'atusdata'\n",
      "Table 'agecodes' already exists in 'atusdata'\n",
      "Table 'inccodes' already exists in 'atusdata'\n",
      "Table 'educodes' already exists in 'atusdata'\n",
      "CPU times: user 103 ms, sys: 66 ms, total: 169 ms\n",
      "Wall time: 287 ms\n"
     ]
    }
   ],
   "source": [
    "%%time\n",
    "# Create code tables (small tables OK to use pandas)\n",
    "for k in codedfs.keys():\n",
    "    try:\n",
    "        codedfs[k].to_sql(k, engine)\n",
    "    except ValueError:\n",
    "        print \"Table '{}' already exists in '{}'\".format(k, databasename)"
   ]
  },
  {
   "cell_type": "code",
   "execution_count": 21,
   "metadata": {
    "collapsed": false,
    "deletable": true,
    "editable": true
   },
   "outputs": [],
   "source": [
    "# Create csv subfiles from data dfs\n",
    "for k in datadfs.keys():\n",
    "    datadfs[k].to_csv(\"data/{}.csv\".format(k))"
   ]
  },
  {
   "cell_type": "code",
   "execution_count": 33,
   "metadata": {
    "collapsed": true,
    "deletable": true,
    "editable": true
   },
   "outputs": [],
   "source": [
    "sql_create_statement = \"\"\"\n",
    "    CREATE TABLE IF NOT EXISTS {}\n",
    "        ({});\n",
    "    \"\"\"\n",
    "sql_copy_statement = \"\"\"\n",
    "    COPY {} FROM '{}'\n",
    "        WITH (FORMAT csv, HEADER);\n",
    "    \"\"\"\n",
    "sql_droptable_statement = \"\"\"\n",
    "    DROP TABLE {};\n",
    "\"\"\""
   ]
  },
  {
   "cell_type": "code",
   "execution_count": 34,
   "metadata": {
    "collapsed": true,
    "deletable": true,
    "editable": true
   },
   "outputs": [],
   "source": [
    "# Delete tables\n",
    "for k in datadfs.keys():\n",
    "    engine.execute(sql_droptable_statement.format(k))"
   ]
  },
  {
   "cell_type": "code",
   "execution_count": 35,
   "metadata": {
    "collapsed": false,
    "deletable": true,
    "editable": true
   },
   "outputs": [],
   "source": [
    "# Create tables\n",
    "for k in datadfs.keys():\n",
    "    \n",
    "    header = datadfs[k].keys().tolist()\n",
    "    dtypes = [dtypedict[i.name] for i in datadfs[k].dtypes.tolist()]\n",
    "\n",
    "    schemestring = \"index BIGINT, \" + \", \".join([\" \".join(i) for i in zip(header, dtypes)])\n",
    "\n",
    "    engine.execute(sql_create_statement.format(k, schemestring))"
   ]
  },
  {
   "cell_type": "code",
   "execution_count": 36,
   "metadata": {
    "collapsed": false,
    "deletable": true,
    "editable": true
   },
   "outputs": [
    {
     "name": "stdout",
     "output_type": "stream",
     "text": [
      "/home/vagrant/capstoneproject/TDICapstoneProject/data/actimesw2.csv\n",
      "/home/vagrant/capstoneproject/TDICapstoneProject/data/actimesw3.csv\n",
      "/home/vagrant/capstoneproject/TDICapstoneProject/data/actimesw1.csv\n",
      "/home/vagrant/capstoneproject/TDICapstoneProject/data/actimes2.csv\n",
      "/home/vagrant/capstoneproject/TDICapstoneProject/data/actimes3.csv\n",
      "/home/vagrant/capstoneproject/TDICapstoneProject/data/actimes1.csv\n",
      "/home/vagrant/capstoneproject/TDICapstoneProject/data/demo.csv\n",
      "/home/vagrant/capstoneproject/TDICapstoneProject/data/demow.csv\n",
      "CPU times: user 60.9 ms, sys: 16.5 ms, total: 77.4 ms\n",
      "Wall time: 1min 1s\n"
     ]
    }
   ],
   "source": [
    "%%time\n",
    "# Copy data from csv files into tables\n",
    "for k in datadfs.keys():\n",
    "    \n",
    "    filenamestring = os.path.join(PATH, \"{}.csv\".format(k))    \n",
    "    print filenamestring\n",
    "\n",
    "    with engine.connect().execution_options(autocommit=True) as con:\n",
    "        con.execute(sql_copy_statement.format(k, filenamestring))"
   ]
  },
  {
   "cell_type": "code",
   "execution_count": null,
   "metadata": {
    "collapsed": false,
    "deletable": true,
    "editable": true
   },
   "outputs": [],
   "source": []
  }
 ],
 "metadata": {
  "kernelspec": {
   "display_name": "Python 2",
   "language": "python",
   "name": "python2"
  },
  "language_info": {
   "codemirror_mode": {
    "name": "ipython",
    "version": 2
   },
   "file_extension": ".py",
   "mimetype": "text/x-python",
   "name": "python",
   "nbconvert_exporter": "python",
   "pygments_lexer": "ipython2",
   "version": "2.7.13"
  }
 },
 "nbformat": 4,
 "nbformat_minor": 2
}
