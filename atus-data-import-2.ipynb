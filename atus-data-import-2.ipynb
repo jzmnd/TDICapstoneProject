{
 "cells": [
  {
   "cell_type": "code",
   "execution_count": 1,
   "metadata": {
    "collapsed": true,
    "deletable": true,
    "editable": true
   },
   "outputs": [],
   "source": [
    "%matplotlib inline"
   ]
  },
  {
   "cell_type": "code",
   "execution_count": 2,
   "metadata": {
    "collapsed": true,
    "deletable": true,
    "editable": true
   },
   "outputs": [],
   "source": [
    "import numpy as np\n",
    "import pandas as pd\n",
    "import matplotlib.pyplot as plt\n",
    "import seaborn as sns"
   ]
  },
  {
   "cell_type": "code",
   "execution_count": 3,
   "metadata": {
    "collapsed": true,
    "deletable": true,
    "editable": true
   },
   "outputs": [],
   "source": [
    "# Note: Values of -4, -3, -2, -1 indicate variable, blank, don't know or refused therefore convert to NaN\n",
    "na_values = [-4, -3, -2, -1]"
   ]
  },
  {
   "cell_type": "code",
   "execution_count": 4,
   "metadata": {
    "collapsed": true,
    "deletable": true,
    "editable": true
   },
   "outputs": [],
   "source": [
    "# Import summary csv to df (basic summary of activity times (each activity has a separate column))\n",
    "dfsum = pd.read_csv(\"data/atussum_0315/atussum_0315.csv\",\n",
    "                    index_col=False,\n",
    "                    na_values=na_values)"
   ]
  },
  {
   "cell_type": "code",
   "execution_count": 5,
   "metadata": {
    "collapsed": true,
    "deletable": true,
    "editable": true
   },
   "outputs": [],
   "source": [
    "# Import respondent csv to df (more info on the respondent of the survey (i.e. TULINENO = 1))\n",
    "dfresp = pd.read_csv(\"data/atusresp_0315/atusresp_0315.csv\",\n",
    "                     index_col=False,\n",
    "                     na_values=na_values)"
   ]
  },
  {
   "cell_type": "code",
   "execution_count": 6,
   "metadata": {
    "collapsed": false,
    "deletable": true,
    "editable": true
   },
   "outputs": [],
   "source": [
    "# Import activity csv to df\n",
    "dfact = pd.read_csv(\"data/atusact_0315/atusact_0315.csv\",\n",
    "                    index_col=False,\n",
    "                    na_values=na_values,\n",
    "                    dtype={'TRCODEP': str})"
   ]
  },
  {
   "cell_type": "code",
   "execution_count": 7,
   "metadata": {
    "collapsed": true,
    "deletable": true,
    "editable": true
   },
   "outputs": [],
   "source": [
    "# Import who file csv to df (who was involved in activity)\n",
    "dfwho = pd.read_csv(\"data/atuswho_0315/atuswho_0315.csv\",\n",
    "                    index_col=False,\n",
    "                    na_values=na_values)"
   ]
  },
  {
   "cell_type": "code",
   "execution_count": 8,
   "metadata": {
    "collapsed": false,
    "deletable": true,
    "editable": true
   },
   "outputs": [
    {
     "name": "stderr",
     "output_type": "stream",
     "text": [
      "/usr/local/lib/python2.7/site-packages/IPython/core/interactiveshell.py:2717: DtypeWarning: Columns (23,24) have mixed types. Specify dtype option on import or set low_memory=False.\n",
      "  interactivity=interactivity, compiler=compiler, result=result)\n"
     ]
    }
   ],
   "source": [
    "# Import CPS file csv to df\n",
    "dfcps = pd.read_csv(\"data/atuscps_0315/atuscps_0315.csv\",\n",
    "                    index_col=False,\n",
    "                    na_values=na_values)"
   ]
  },
  {
   "cell_type": "code",
   "execution_count": 9,
   "metadata": {
    "collapsed": false,
    "deletable": true,
    "editable": true
   },
   "outputs": [],
   "source": [
    "# Import activity code dictionary csv to df\n",
    "dfactcodes = pd.read_csv(\"data/activity_codes.csv\",\n",
    "                         index_col=False,\n",
    "                         sep=';',\n",
    "                         dtype={'CODE': str, 'NAME': str})"
   ]
  },
  {
   "cell_type": "code",
   "execution_count": 10,
   "metadata": {
    "collapsed": true,
    "deletable": true,
    "editable": true
   },
   "outputs": [],
   "source": [
    "# Import education level code dictionary csv to df\n",
    "dfeducodes = pd.read_csv(\"data/edu_codes.csv\",\n",
    "                         index_col=False,\n",
    "                         sep=';',\n",
    "                         dtype={'NAME': str})"
   ]
  },
  {
   "cell_type": "code",
   "execution_count": 11,
   "metadata": {
    "collapsed": true,
    "deletable": true,
    "editable": true
   },
   "outputs": [],
   "source": [
    "# Import who code dictionary csv to df\n",
    "dfwhocodes = pd.read_csv(\"data/who_codes.csv\",\n",
    "                         index_col=False,\n",
    "                         sep=';',\n",
    "                         dtype={'NAME': str})"
   ]
  },
  {
   "cell_type": "code",
   "execution_count": 12,
   "metadata": {
    "collapsed": false,
    "deletable": true,
    "editable": true
   },
   "outputs": [],
   "source": [
    "# Import occupation and industry code dictionary csv to df\n",
    "dfindocc = pd.read_csv(\"data/indocc_codes.csv\",\n",
    "                       index_col=False,\n",
    "                       sep=';',\n",
    "                       dtype={'FLAG': str, 'NAME': str})"
   ]
  },
  {
   "cell_type": "code",
   "execution_count": 13,
   "metadata": {
    "collapsed": true,
    "deletable": true,
    "editable": true
   },
   "outputs": [],
   "source": [
    "# Import state codes csv to df\n",
    "dfstatecodes = pd.read_csv(\"data/state_codes.csv\",\n",
    "                           index_col=False,\n",
    "                           sep=',',\n",
    "                           dtype={'NAME': str})"
   ]
  },
  {
   "cell_type": "code",
   "execution_count": 14,
   "metadata": {
    "collapsed": false,
    "deletable": true,
    "editable": true
   },
   "outputs": [],
   "source": [
    "# Add codepoint level (1, 2 or 3) and sort\n",
    "dfactcodes['LEVEL'] = dfactcodes.CODE.str.len() / 2\n",
    "dfactcodes = dfactcodes.sort_values('CODE').reset_index(drop=True)"
   ]
  },
  {
   "cell_type": "code",
   "execution_count": 15,
   "metadata": {
    "collapsed": false,
    "deletable": true,
    "editable": true
   },
   "outputs": [],
   "source": [
    "# Useful columns for actvity df\n",
    "dfact_use = dfact[['TUCASEID', 'TUACTIVITY_N',              # Case ID, Actvity number\n",
    "                   'TUACTDUR24', 'TUACTDUR',                # Activity duration (24h cap), Activity duration\n",
    "                   'TEWHERE', 'TRCODEP',                    # Activity where code, Activity code\n",
    "                   'TUSTARTTIM', 'TUSTOPTIME']].copy()      # Start time, Stop time"
   ]
  },
  {
   "cell_type": "code",
   "execution_count": 16,
   "metadata": {
    "collapsed": false,
    "deletable": true,
    "editable": true
   },
   "outputs": [],
   "source": [
    "# Useful columns for who file df\n",
    "dfwho_use = dfwho[['TUCASEID', 'TUACTIVITY_N',              # Case ID, Actvity number\n",
    "                   'TULINENO', 'TUWHO_CODE']].copy()        # Person line number, Who code"
   ]
  },
  {
   "cell_type": "code",
   "execution_count": 17,
   "metadata": {
    "collapsed": true,
    "deletable": true,
    "editable": true
   },
   "outputs": [],
   "source": [
    "# Useful columns for respondent df\n",
    "dfresp_use = dfresp[['TUCASEID', 'TRNUMHOU',                # Case ID, Number of people in household\n",
    "                     'TRMJOCGR', 'TRDTOCC1', 'TRMJIND1',    # Major occupation, Detailed occupation, Major industry\n",
    "                     'TUFWK', 'TUABSOT', 'TEIO1COW',        # Work code, Job code, Individual class of worker code\n",
    "                     'TEERNPER',                            # Easiest way for you to report your earnings\n",
    "                     'TUDIS',                               # Disability status\n",
    "                     'TRERNHLY', 'TRERNWA']].copy()         # Hourly earnings, Weekly earnings"
   ]
  },
  {
   "cell_type": "code",
   "execution_count": 18,
   "metadata": {
    "collapsed": false,
    "deletable": true,
    "editable": true
   },
   "outputs": [],
   "source": [
    "# Calculate actual weekly and hourly earnaings i.e. divide by 100 to get dollar amount\n",
    "dfresp_use.TRERNHLY = dfresp_use.TRERNHLY / 100.\n",
    "dfresp_use.TRERNWA = dfresp_use.TRERNWA / 100."
   ]
  },
  {
   "cell_type": "code",
   "execution_count": 19,
   "metadata": {
    "collapsed": false,
    "deletable": true,
    "editable": true
   },
   "outputs": [],
   "source": [
    "# Add weekly earning category\n",
    "bins = [0, 200, 400, 600, 800, 1000, 1500, 2000, 3000]\n",
    "labels = [\"1\", \"2\", \"3\", \"4\", \"5\", \"6\", \"7\", \"8\"]\n",
    "dfresp_use['TRERNWA_CAT'] = pd.cut(dfresp_use['TRERNWA'], bins, labels=labels, right=True)"
   ]
  },
  {
   "cell_type": "code",
   "execution_count": 20,
   "metadata": {
    "collapsed": false,
    "deletable": true,
    "editable": true
   },
   "outputs": [],
   "source": [
    "# Useful columns for activity summary df\n",
    "dfsum_use = dfsum[['TUCASEID', 'TEAGE', 'TESEX',            # Case ID, Respondent age, Respondent sex\n",
    "                   'TUYEAR', 'TRHOLIDAY', 'TUDIARYDAY',     # Year of study, Holiday boolean, Day of week\n",
    "                   'GEMETSTA', 'GTMETSTA',                  # Metropolitan status (old), (new)\n",
    "                   'TEHRUSLT', 'TELFS',                     # Hours worked per week, Labor force status\n",
    "                   'TRDPFTPT',                              # FT or PT employment code\n",
    "                   'TRSPPRES', 'TESPEMPNOT',                # Presence of S/P, employment status of S/P\n",
    "                   'TESCHENR','TESCHLVL',                   # Enrolled in school, School level\n",
    "                   'PEEDUCA', 'PTDTRACE',                   # Highest education level, Race code\n",
    "                   'TRCHILDNUM',                            # Number of household children < 18\n",
    "                   'TUFNWGTP']].copy()                      # Final ATUS weight"
   ]
  },
  {
   "cell_type": "code",
   "execution_count": 21,
   "metadata": {
    "collapsed": false,
    "deletable": true,
    "editable": true
   },
   "outputs": [],
   "source": [
    "# Add age category\n",
    "bins = [0, 17, 25, 30, 35, 40, 45, 50, 60, 70, 100]\n",
    "labels = [\"0\", \"1\", \"2\", \"3\", \"4\", \"5\", \"6\", \"7\", \"8\", \"9\"]\n",
    "dfsum_use['TEAGE_CAT'] = pd.cut(dfsum_use['TEAGE'], bins, labels=labels, right=True)"
   ]
  },
  {
   "cell_type": "code",
   "execution_count": 22,
   "metadata": {
    "collapsed": false,
    "deletable": true,
    "editable": true
   },
   "outputs": [],
   "source": [
    "# Useful columns for CPS df\n",
    "dfcps_use = dfcps[dfcps.TULINENO == 1][['TUCASEID', 'GESTFIPS']].copy()     # Case ID, State code"
   ]
  },
  {
   "cell_type": "code",
   "execution_count": 23,
   "metadata": {
    "collapsed": false,
    "deletable": true,
    "editable": true
   },
   "outputs": [],
   "source": [
    "# Activity totals columns for activity summary df\n",
    "dfsum_acttotals = dfsum.filter(regex='TUCASEID|t')"
   ]
  },
  {
   "cell_type": "code",
   "execution_count": 24,
   "metadata": {
    "collapsed": true
   },
   "outputs": [],
   "source": [
    "# Add activity columns for supergroups (level 1 and 2)\n",
    "df_actgrouped = pd.DataFrame()\n",
    "\n",
    "for c in dfactcodes[dfactcodes.LEVEL == 2].CODE.values:\n",
    "    df_actgrouped['t' + c] = dfsum_acttotals.filter(like='t' + c).sum(axis='columns')\n",
    "for c in dfactcodes[dfactcodes.LEVEL == 1].CODE.values:\n",
    "    df_actgrouped['t' + c] = dfsum_acttotals.filter(like='t' + c).sum(axis='columns')"
   ]
  },
  {
   "cell_type": "code",
   "execution_count": 25,
   "metadata": {
    "collapsed": false,
    "deletable": true,
    "editable": true
   },
   "outputs": [],
   "source": [
    "# Merge Activity Summary and Respondent df with Activity totals merged at end\n",
    "dfmerged = dfsum_use.merge(dfresp_use,\n",
    "                           on='TUCASEID',\n",
    "                           how='left',\n",
    "                           copy=False) \\\n",
    "                    .merge(dfcps_use,\n",
    "                           on='TUCASEID',\n",
    "                           how='left',\n",
    "                           copy=False) \\\n",
    "                    .merge(dfsum_acttotals,\n",
    "                           on='TUCASEID',\n",
    "                           how='left',\n",
    "                           copy=False) \\\n",
    "                    .join(df_actgrouped,\n",
    "                          how='left')"
   ]
  },
  {
   "cell_type": "code",
   "execution_count": 26,
   "metadata": {
    "collapsed": false,
    "deletable": true,
    "editable": true
   },
   "outputs": [],
   "source": [
    "# Multiply activity times and other variables by weights (TUFNWGTP) to allow for sampling biases (append _W)\n",
    "dfsum_acttotals_W = dfsum_acttotals.iloc[:,1:].multiply(dfsum_use.TUFNWGTP, axis='index')\n",
    "\n",
    "dfsum_use_W = dfsum_use[['TEHRUSLT', 'TEAGE', 'TRCHILDNUM']].multiply(dfsum_use.TUFNWGTP, axis='index')\n",
    "\n",
    "dfresp_use_W = dfresp_use[['TRNUMHOU', 'TRERNHLY', 'TRERNWA']].multiply(dfsum_use.TUFNWGTP, axis='index')\n",
    "\n",
    "df_actgrouped_W = df_actgrouped.multiply(dfsum_use.TUFNWGTP, axis='index')\n",
    "\n",
    "# Join all data frames together\n",
    "dfmerged_W = dfmerged.join(dfsum_use_W,\n",
    "                           how='left',\n",
    "                           rsuffix='_W') \\\n",
    "                     .join(dfresp_use_W,\n",
    "                           how='left',\n",
    "                           rsuffix='_W') \\\n",
    "                     .join(dfsum_acttotals_W,\n",
    "                           how='left',\n",
    "                           rsuffix='_W') \\\n",
    "                     .join(df_actgrouped_W,\n",
    "                           how='left',\n",
    "                           rsuffix='_W')"
   ]
  },
  {
   "cell_type": "code",
   "execution_count": 27,
   "metadata": {
    "collapsed": false,
    "deletable": true,
    "editable": true
   },
   "outputs": [],
   "source": [
    "# Export final dataframe as .csv\n",
    "dfmerged_W.to_csv(\"data/alldata_0315.csv\")"
   ]
  },
  {
   "cell_type": "code",
   "execution_count": 28,
   "metadata": {
    "collapsed": false,
    "deletable": true,
    "editable": true
   },
   "outputs": [
    {
     "data": {
      "text/html": [
       "<div>\n",
       "<style>\n",
       "    .dataframe thead tr:only-child th {\n",
       "        text-align: right;\n",
       "    }\n",
       "\n",
       "    .dataframe thead th {\n",
       "        text-align: left;\n",
       "    }\n",
       "\n",
       "    .dataframe tbody tr th {\n",
       "        vertical-align: top;\n",
       "    }\n",
       "</style>\n",
       "<table border=\"1\" class=\"dataframe\">\n",
       "  <thead>\n",
       "    <tr style=\"text-align: right;\">\n",
       "      <th></th>\n",
       "      <th>TUCASEID</th>\n",
       "      <th>TEAGE</th>\n",
       "      <th>TESEX</th>\n",
       "      <th>TUYEAR</th>\n",
       "      <th>TRHOLIDAY</th>\n",
       "      <th>TUDIARYDAY</th>\n",
       "      <th>GEMETSTA</th>\n",
       "      <th>GTMETSTA</th>\n",
       "      <th>TEHRUSLT</th>\n",
       "      <th>TELFS</th>\n",
       "      <th>...</th>\n",
       "      <th>t09_W</th>\n",
       "      <th>t10_W</th>\n",
       "      <th>t11_W</th>\n",
       "      <th>t12_W</th>\n",
       "      <th>t13_W</th>\n",
       "      <th>t14_W</th>\n",
       "      <th>t15_W</th>\n",
       "      <th>t16_W</th>\n",
       "      <th>t18_W</th>\n",
       "      <th>t50_W</th>\n",
       "    </tr>\n",
       "  </thead>\n",
       "  <tbody>\n",
       "    <tr>\n",
       "      <th>0</th>\n",
       "      <td>20030100013280</td>\n",
       "      <td>60</td>\n",
       "      <td>1</td>\n",
       "      <td>2003</td>\n",
       "      <td>0</td>\n",
       "      <td>6</td>\n",
       "      <td>1.0</td>\n",
       "      <td>NaN</td>\n",
       "      <td>30.0</td>\n",
       "      <td>2</td>\n",
       "      <td>...</td>\n",
       "      <td>0.0</td>\n",
       "      <td>0.0</td>\n",
       "      <td>4.077731e+07</td>\n",
       "      <td>2.650525e+09</td>\n",
       "      <td>1.631093e+09</td>\n",
       "      <td>0.000000e+00</td>\n",
       "      <td>0.0</td>\n",
       "      <td>0.000000e+00</td>\n",
       "      <td>0.000000e+00</td>\n",
       "      <td>0.0</td>\n",
       "    </tr>\n",
       "    <tr>\n",
       "      <th>1</th>\n",
       "      <td>20030100013344</td>\n",
       "      <td>41</td>\n",
       "      <td>2</td>\n",
       "      <td>2003</td>\n",
       "      <td>0</td>\n",
       "      <td>7</td>\n",
       "      <td>2.0</td>\n",
       "      <td>NaN</td>\n",
       "      <td>30.0</td>\n",
       "      <td>1</td>\n",
       "      <td>...</td>\n",
       "      <td>0.0</td>\n",
       "      <td>0.0</td>\n",
       "      <td>1.561790e+08</td>\n",
       "      <td>1.023840e+09</td>\n",
       "      <td>0.000000e+00</td>\n",
       "      <td>0.000000e+00</td>\n",
       "      <td>0.0</td>\n",
       "      <td>0.000000e+00</td>\n",
       "      <td>3.470645e+07</td>\n",
       "      <td>0.0</td>\n",
       "    </tr>\n",
       "    <tr>\n",
       "      <th>2</th>\n",
       "      <td>20030100013352</td>\n",
       "      <td>26</td>\n",
       "      <td>2</td>\n",
       "      <td>2003</td>\n",
       "      <td>0</td>\n",
       "      <td>7</td>\n",
       "      <td>1.0</td>\n",
       "      <td>NaN</td>\n",
       "      <td>12.0</td>\n",
       "      <td>2</td>\n",
       "      <td>...</td>\n",
       "      <td>0.0</td>\n",
       "      <td>0.0</td>\n",
       "      <td>2.872896e+08</td>\n",
       "      <td>1.302379e+09</td>\n",
       "      <td>0.000000e+00</td>\n",
       "      <td>0.000000e+00</td>\n",
       "      <td>0.0</td>\n",
       "      <td>2.298316e+08</td>\n",
       "      <td>3.830527e+07</td>\n",
       "      <td>0.0</td>\n",
       "    </tr>\n",
       "    <tr>\n",
       "      <th>3</th>\n",
       "      <td>20030100013848</td>\n",
       "      <td>36</td>\n",
       "      <td>2</td>\n",
       "      <td>2003</td>\n",
       "      <td>0</td>\n",
       "      <td>5</td>\n",
       "      <td>2.0</td>\n",
       "      <td>NaN</td>\n",
       "      <td>NaN</td>\n",
       "      <td>4</td>\n",
       "      <td>...</td>\n",
       "      <td>0.0</td>\n",
       "      <td>0.0</td>\n",
       "      <td>1.655506e+08</td>\n",
       "      <td>1.754836e+09</td>\n",
       "      <td>0.000000e+00</td>\n",
       "      <td>0.000000e+00</td>\n",
       "      <td>0.0</td>\n",
       "      <td>0.000000e+00</td>\n",
       "      <td>0.000000e+00</td>\n",
       "      <td>0.0</td>\n",
       "    </tr>\n",
       "    <tr>\n",
       "      <th>4</th>\n",
       "      <td>20030100014165</td>\n",
       "      <td>51</td>\n",
       "      <td>1</td>\n",
       "      <td>2003</td>\n",
       "      <td>0</td>\n",
       "      <td>5</td>\n",
       "      <td>2.0</td>\n",
       "      <td>NaN</td>\n",
       "      <td>80.0</td>\n",
       "      <td>1</td>\n",
       "      <td>...</td>\n",
       "      <td>0.0</td>\n",
       "      <td>0.0</td>\n",
       "      <td>2.822916e+08</td>\n",
       "      <td>1.841032e+08</td>\n",
       "      <td>1.841032e+08</td>\n",
       "      <td>0.000000e+00</td>\n",
       "      <td>0.0</td>\n",
       "      <td>0.000000e+00</td>\n",
       "      <td>2.393342e+08</td>\n",
       "      <td>0.0</td>\n",
       "    </tr>\n",
       "    <tr>\n",
       "      <th>5</th>\n",
       "      <td>20030100014169</td>\n",
       "      <td>32</td>\n",
       "      <td>2</td>\n",
       "      <td>2003</td>\n",
       "      <td>0</td>\n",
       "      <td>5</td>\n",
       "      <td>2.0</td>\n",
       "      <td>NaN</td>\n",
       "      <td>40.0</td>\n",
       "      <td>2</td>\n",
       "      <td>...</td>\n",
       "      <td>0.0</td>\n",
       "      <td>0.0</td>\n",
       "      <td>2.246026e+08</td>\n",
       "      <td>1.053905e+09</td>\n",
       "      <td>0.000000e+00</td>\n",
       "      <td>0.000000e+00</td>\n",
       "      <td>0.0</td>\n",
       "      <td>0.000000e+00</td>\n",
       "      <td>0.000000e+00</td>\n",
       "      <td>0.0</td>\n",
       "    </tr>\n",
       "    <tr>\n",
       "      <th>6</th>\n",
       "      <td>20030100014209</td>\n",
       "      <td>44</td>\n",
       "      <td>2</td>\n",
       "      <td>2003</td>\n",
       "      <td>0</td>\n",
       "      <td>2</td>\n",
       "      <td>1.0</td>\n",
       "      <td>NaN</td>\n",
       "      <td>52.0</td>\n",
       "      <td>1</td>\n",
       "      <td>...</td>\n",
       "      <td>0.0</td>\n",
       "      <td>0.0</td>\n",
       "      <td>1.555935e+08</td>\n",
       "      <td>0.000000e+00</td>\n",
       "      <td>0.000000e+00</td>\n",
       "      <td>3.275653e+06</td>\n",
       "      <td>0.0</td>\n",
       "      <td>0.000000e+00</td>\n",
       "      <td>8.352914e+07</td>\n",
       "      <td>0.0</td>\n",
       "    </tr>\n",
       "    <tr>\n",
       "      <th>7</th>\n",
       "      <td>20030100014427</td>\n",
       "      <td>21</td>\n",
       "      <td>2</td>\n",
       "      <td>2003</td>\n",
       "      <td>0</td>\n",
       "      <td>3</td>\n",
       "      <td>1.0</td>\n",
       "      <td>NaN</td>\n",
       "      <td>40.0</td>\n",
       "      <td>1</td>\n",
       "      <td>...</td>\n",
       "      <td>0.0</td>\n",
       "      <td>0.0</td>\n",
       "      <td>9.861640e+07</td>\n",
       "      <td>2.070944e+09</td>\n",
       "      <td>0.000000e+00</td>\n",
       "      <td>0.000000e+00</td>\n",
       "      <td>0.0</td>\n",
       "      <td>1.972328e+08</td>\n",
       "      <td>3.944656e+08</td>\n",
       "      <td>0.0</td>\n",
       "    </tr>\n",
       "    <tr>\n",
       "      <th>8</th>\n",
       "      <td>20030100014550</td>\n",
       "      <td>33</td>\n",
       "      <td>2</td>\n",
       "      <td>2003</td>\n",
       "      <td>0</td>\n",
       "      <td>7</td>\n",
       "      <td>2.0</td>\n",
       "      <td>NaN</td>\n",
       "      <td>40.0</td>\n",
       "      <td>1</td>\n",
       "      <td>...</td>\n",
       "      <td>0.0</td>\n",
       "      <td>0.0</td>\n",
       "      <td>1.069807e+08</td>\n",
       "      <td>1.833956e+08</td>\n",
       "      <td>0.000000e+00</td>\n",
       "      <td>0.000000e+00</td>\n",
       "      <td>0.0</td>\n",
       "      <td>0.000000e+00</td>\n",
       "      <td>4.584889e+07</td>\n",
       "      <td>0.0</td>\n",
       "    </tr>\n",
       "    <tr>\n",
       "      <th>9</th>\n",
       "      <td>20030100014758</td>\n",
       "      <td>39</td>\n",
       "      <td>2</td>\n",
       "      <td>2003</td>\n",
       "      <td>0</td>\n",
       "      <td>5</td>\n",
       "      <td>1.0</td>\n",
       "      <td>NaN</td>\n",
       "      <td>40.0</td>\n",
       "      <td>1</td>\n",
       "      <td>...</td>\n",
       "      <td>0.0</td>\n",
       "      <td>0.0</td>\n",
       "      <td>6.415579e+07</td>\n",
       "      <td>2.168466e+09</td>\n",
       "      <td>0.000000e+00</td>\n",
       "      <td>0.000000e+00</td>\n",
       "      <td>0.0</td>\n",
       "      <td>0.000000e+00</td>\n",
       "      <td>7.484842e+08</td>\n",
       "      <td>0.0</td>\n",
       "    </tr>\n",
       "  </tbody>\n",
       "</table>\n",
       "<p>10 rows × 1141 columns</p>\n",
       "</div>"
      ],
      "text/plain": [
       "         TUCASEID  TEAGE  TESEX  TUYEAR  TRHOLIDAY  TUDIARYDAY  GEMETSTA  \\\n",
       "0  20030100013280     60      1    2003          0           6       1.0   \n",
       "1  20030100013344     41      2    2003          0           7       2.0   \n",
       "2  20030100013352     26      2    2003          0           7       1.0   \n",
       "3  20030100013848     36      2    2003          0           5       2.0   \n",
       "4  20030100014165     51      1    2003          0           5       2.0   \n",
       "5  20030100014169     32      2    2003          0           5       2.0   \n",
       "6  20030100014209     44      2    2003          0           2       1.0   \n",
       "7  20030100014427     21      2    2003          0           3       1.0   \n",
       "8  20030100014550     33      2    2003          0           7       2.0   \n",
       "9  20030100014758     39      2    2003          0           5       1.0   \n",
       "\n",
       "   GTMETSTA  TEHRUSLT  TELFS  ...   t09_W  t10_W         t11_W         t12_W  \\\n",
       "0       NaN      30.0      2  ...     0.0    0.0  4.077731e+07  2.650525e+09   \n",
       "1       NaN      30.0      1  ...     0.0    0.0  1.561790e+08  1.023840e+09   \n",
       "2       NaN      12.0      2  ...     0.0    0.0  2.872896e+08  1.302379e+09   \n",
       "3       NaN       NaN      4  ...     0.0    0.0  1.655506e+08  1.754836e+09   \n",
       "4       NaN      80.0      1  ...     0.0    0.0  2.822916e+08  1.841032e+08   \n",
       "5       NaN      40.0      2  ...     0.0    0.0  2.246026e+08  1.053905e+09   \n",
       "6       NaN      52.0      1  ...     0.0    0.0  1.555935e+08  0.000000e+00   \n",
       "7       NaN      40.0      1  ...     0.0    0.0  9.861640e+07  2.070944e+09   \n",
       "8       NaN      40.0      1  ...     0.0    0.0  1.069807e+08  1.833956e+08   \n",
       "9       NaN      40.0      1  ...     0.0    0.0  6.415579e+07  2.168466e+09   \n",
       "\n",
       "          t13_W         t14_W  t15_W         t16_W         t18_W t50_W  \n",
       "0  1.631093e+09  0.000000e+00    0.0  0.000000e+00  0.000000e+00   0.0  \n",
       "1  0.000000e+00  0.000000e+00    0.0  0.000000e+00  3.470645e+07   0.0  \n",
       "2  0.000000e+00  0.000000e+00    0.0  2.298316e+08  3.830527e+07   0.0  \n",
       "3  0.000000e+00  0.000000e+00    0.0  0.000000e+00  0.000000e+00   0.0  \n",
       "4  1.841032e+08  0.000000e+00    0.0  0.000000e+00  2.393342e+08   0.0  \n",
       "5  0.000000e+00  0.000000e+00    0.0  0.000000e+00  0.000000e+00   0.0  \n",
       "6  0.000000e+00  3.275653e+06    0.0  0.000000e+00  8.352914e+07   0.0  \n",
       "7  0.000000e+00  0.000000e+00    0.0  1.972328e+08  3.944656e+08   0.0  \n",
       "8  0.000000e+00  0.000000e+00    0.0  0.000000e+00  4.584889e+07   0.0  \n",
       "9  0.000000e+00  0.000000e+00    0.0  0.000000e+00  7.484842e+08   0.0  \n",
       "\n",
       "[10 rows x 1141 columns]"
      ]
     },
     "execution_count": 28,
     "metadata": {},
     "output_type": "execute_result"
    }
   ],
   "source": [
    "dfmerged_W.head(10)"
   ]
  },
  {
   "cell_type": "code",
   "execution_count": null,
   "metadata": {
    "collapsed": false,
    "deletable": true,
    "editable": true
   },
   "outputs": [],
   "source": []
  }
 ],
 "metadata": {
  "kernelspec": {
   "display_name": "Python 2",
   "language": "python",
   "name": "python2"
  },
  "language_info": {
   "codemirror_mode": {
    "name": "ipython",
    "version": 2
   },
   "file_extension": ".py",
   "mimetype": "text/x-python",
   "name": "python",
   "nbconvert_exporter": "python",
   "pygments_lexer": "ipython2",
   "version": "2.7.13"
  }
 },
 "nbformat": 4,
 "nbformat_minor": 2
}
