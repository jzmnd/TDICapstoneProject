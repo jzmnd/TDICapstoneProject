{
 "cells": [
  {
   "cell_type": "code",
   "execution_count": 1,
   "metadata": {
    "collapsed": true,
    "deletable": true,
    "editable": true
   },
   "outputs": [],
   "source": [
    "%matplotlib inline"
   ]
  },
  {
   "cell_type": "code",
   "execution_count": 2,
   "metadata": {
    "collapsed": true,
    "deletable": true,
    "editable": true
   },
   "outputs": [],
   "source": [
    "import numpy as np\n",
    "import pandas as pd\n",
    "import matplotlib.pyplot as plt\n",
    "import seaborn as sns"
   ]
  },
  {
   "cell_type": "code",
   "execution_count": 3,
   "metadata": {
    "collapsed": false,
    "deletable": true,
    "editable": true
   },
   "outputs": [],
   "source": [
    "from atusfunclib import load_data\n",
    "from activitylib import ACTINFO\n",
    "import wlmetrics as wlm\n",
    "import pickle\n",
    "from datetime import date"
   ]
  },
  {
   "cell_type": "code",
   "execution_count": 4,
   "metadata": {
    "collapsed": false,
    "deletable": true,
    "editable": true
   },
   "outputs": [],
   "source": [
    "from sklearn.linear_model import Ridge\n",
    "from sklearn.linear_model import HuberRegressor\n",
    "from sklearn.linear_model import RANSACRegressor\n",
    "from sklearn.linear_model import LinearRegression\n",
    "from sklearn.ensemble import RandomForestRegressor\n",
    "from sklearn.ensemble import ExtraTreesRegressor\n",
    "\n",
    "from sklearn.preprocessing import StandardScaler\n",
    "from sklearn.preprocessing import normalize\n",
    "from sklearn.preprocessing import Imputer\n",
    "from sklearn.preprocessing import PolynomialFeatures\n",
    "from sklearn.preprocessing import OneHotEncoder\n",
    "from sklearn.model_selection import train_test_split\n",
    "from sklearn.model_selection import ShuffleSplit\n",
    "from sklearn.model_selection import GridSearchCV\n",
    "from sklearn.model_selection import cross_val_score\n",
    "\n",
    "from sklearn.decomposition import TruncatedSVD\n",
    "\n",
    "from sklearn.pipeline import Pipeline\n",
    "from sklearn.pipeline import FeatureUnion\n",
    "\n",
    "from sklearn import metrics\n",
    "from sklearn.externals import joblib\n",
    "from sklearn import base"
   ]
  },
  {
   "cell_type": "code",
   "execution_count": 5,
   "metadata": {
    "collapsed": false,
    "deletable": true,
    "editable": true
   },
   "outputs": [],
   "source": [
    "from modellib import compute_mse, BaseResEnsembleEstimator, DataFrameSelector, EstimatorTransformer, ImputeNumber"
   ]
  },
  {
   "cell_type": "code",
   "execution_count": 6,
   "metadata": {
    "collapsed": true,
    "deletable": true,
    "editable": true
   },
   "outputs": [],
   "source": [
    "# Import all csv data\n",
    "data_import = load_data(loc=\"data\", loc_clean=\"cleaned_data\", loc_codes=\"code_tables\")"
   ]
  },
  {
   "cell_type": "code",
   "execution_count": 7,
   "metadata": {
    "collapsed": true,
    "deletable": true,
    "editable": true
   },
   "outputs": [],
   "source": [
    "# Unpack individual dataframes\n",
    "df, dfactcodes, dfeducodes, dfinccodes, dfagecodes, \\\n",
    "dfempcodes, dfindcodes, dfraccodes, dfloccodes, dfwhocodes, \\\n",
    "dfdemocodes = data_import"
   ]
  },
  {
   "cell_type": "code",
   "execution_count": 8,
   "metadata": {
    "collapsed": true,
    "deletable": true,
    "editable": true
   },
   "outputs": [],
   "source": [
    "# Convert category columns to float\n",
    "df['TEAGE_CAT'] = df['TEAGE_CAT'].astype(float)\n",
    "df['TRERNWA_CAT'] = df['TRERNWA_CAT'].astype(float)"
   ]
  },
  {
   "cell_type": "code",
   "execution_count": 9,
   "metadata": {
    "collapsed": true,
    "deletable": true,
    "editable": true
   },
   "outputs": [],
   "source": [
    "# Split by weekday and weekend/holiday\n",
    "df_wehol = df[(df['TRHOLIDAY'] == 1) | (df['TRWEEKEND'] == 1)]\n",
    "df_weday = df[(df['TRHOLIDAY'] == 0) & (df['TRWEEKEND'] == 0)]"
   ]
  },
  {
   "cell_type": "code",
   "execution_count": 10,
   "metadata": {
    "collapsed": true,
    "deletable": true,
    "editable": true
   },
   "outputs": [],
   "source": [
    "del df"
   ]
  },
  {
   "cell_type": "code",
   "execution_count": 11,
   "metadata": {
    "collapsed": false
   },
   "outputs": [
    {
     "data": {
      "text/html": [
       "<div>\n",
       "<style>\n",
       "    .dataframe thead tr:only-child th {\n",
       "        text-align: right;\n",
       "    }\n",
       "\n",
       "    .dataframe thead th {\n",
       "        text-align: left;\n",
       "    }\n",
       "\n",
       "    .dataframe tbody tr th {\n",
       "        vertical-align: top;\n",
       "    }\n",
       "</style>\n",
       "<table border=\"1\" class=\"dataframe\">\n",
       "  <thead>\n",
       "    <tr style=\"text-align: right;\">\n",
       "      <th></th>\n",
       "      <th>TUCASEID</th>\n",
       "      <th>TEAGE</th>\n",
       "      <th>TESEX</th>\n",
       "      <th>TUYEAR</th>\n",
       "      <th>TRHOLIDAY</th>\n",
       "      <th>TUDIARYDAY</th>\n",
       "      <th>GEMETSTA</th>\n",
       "      <th>GTMETSTA</th>\n",
       "      <th>TEHRUSLT</th>\n",
       "      <th>TELFS</th>\n",
       "      <th>...</th>\n",
       "      <th>t09_W</th>\n",
       "      <th>t10_W</th>\n",
       "      <th>t11_W</th>\n",
       "      <th>t12_W</th>\n",
       "      <th>t13_W</th>\n",
       "      <th>t14_W</th>\n",
       "      <th>t15_W</th>\n",
       "      <th>t16_W</th>\n",
       "      <th>t18_W</th>\n",
       "      <th>t50_W</th>\n",
       "    </tr>\n",
       "  </thead>\n",
       "  <tbody>\n",
       "    <tr>\n",
       "      <th>1</th>\n",
       "      <td>20030100013344</td>\n",
       "      <td>41</td>\n",
       "      <td>2</td>\n",
       "      <td>2003</td>\n",
       "      <td>0</td>\n",
       "      <td>7</td>\n",
       "      <td>2.0</td>\n",
       "      <td>NaN</td>\n",
       "      <td>30.0</td>\n",
       "      <td>1</td>\n",
       "      <td>...</td>\n",
       "      <td>0.0</td>\n",
       "      <td>0.0</td>\n",
       "      <td>1.561790e+08</td>\n",
       "      <td>1.023840e+09</td>\n",
       "      <td>0.0</td>\n",
       "      <td>0.0</td>\n",
       "      <td>0.0</td>\n",
       "      <td>0.000000e+00</td>\n",
       "      <td>3.470645e+07</td>\n",
       "      <td>0.0</td>\n",
       "    </tr>\n",
       "    <tr>\n",
       "      <th>2</th>\n",
       "      <td>20030100013352</td>\n",
       "      <td>26</td>\n",
       "      <td>2</td>\n",
       "      <td>2003</td>\n",
       "      <td>0</td>\n",
       "      <td>7</td>\n",
       "      <td>1.0</td>\n",
       "      <td>NaN</td>\n",
       "      <td>12.0</td>\n",
       "      <td>2</td>\n",
       "      <td>...</td>\n",
       "      <td>0.0</td>\n",
       "      <td>0.0</td>\n",
       "      <td>2.872896e+08</td>\n",
       "      <td>1.302379e+09</td>\n",
       "      <td>0.0</td>\n",
       "      <td>0.0</td>\n",
       "      <td>0.0</td>\n",
       "      <td>2.298316e+08</td>\n",
       "      <td>3.830527e+07</td>\n",
       "      <td>0.0</td>\n",
       "    </tr>\n",
       "    <tr>\n",
       "      <th>8</th>\n",
       "      <td>20030100014550</td>\n",
       "      <td>33</td>\n",
       "      <td>2</td>\n",
       "      <td>2003</td>\n",
       "      <td>0</td>\n",
       "      <td>7</td>\n",
       "      <td>2.0</td>\n",
       "      <td>NaN</td>\n",
       "      <td>40.0</td>\n",
       "      <td>1</td>\n",
       "      <td>...</td>\n",
       "      <td>0.0</td>\n",
       "      <td>0.0</td>\n",
       "      <td>1.069807e+08</td>\n",
       "      <td>1.833956e+08</td>\n",
       "      <td>0.0</td>\n",
       "      <td>0.0</td>\n",
       "      <td>0.0</td>\n",
       "      <td>0.000000e+00</td>\n",
       "      <td>4.584889e+07</td>\n",
       "      <td>0.0</td>\n",
       "    </tr>\n",
       "    <tr>\n",
       "      <th>10</th>\n",
       "      <td>20030100014928</td>\n",
       "      <td>26</td>\n",
       "      <td>1</td>\n",
       "      <td>2003</td>\n",
       "      <td>0</td>\n",
       "      <td>7</td>\n",
       "      <td>1.0</td>\n",
       "      <td>NaN</td>\n",
       "      <td>57.0</td>\n",
       "      <td>1</td>\n",
       "      <td>...</td>\n",
       "      <td>0.0</td>\n",
       "      <td>0.0</td>\n",
       "      <td>2.942223e+07</td>\n",
       "      <td>2.353779e+08</td>\n",
       "      <td>0.0</td>\n",
       "      <td>0.0</td>\n",
       "      <td>0.0</td>\n",
       "      <td>0.000000e+00</td>\n",
       "      <td>1.196504e+08</td>\n",
       "      <td>0.0</td>\n",
       "    </tr>\n",
       "    <tr>\n",
       "      <th>11</th>\n",
       "      <td>20030100015106</td>\n",
       "      <td>33</td>\n",
       "      <td>2</td>\n",
       "      <td>2003</td>\n",
       "      <td>0</td>\n",
       "      <td>1</td>\n",
       "      <td>1.0</td>\n",
       "      <td>NaN</td>\n",
       "      <td>35.0</td>\n",
       "      <td>1</td>\n",
       "      <td>...</td>\n",
       "      <td>0.0</td>\n",
       "      <td>0.0</td>\n",
       "      <td>3.536591e+07</td>\n",
       "      <td>8.841477e+07</td>\n",
       "      <td>0.0</td>\n",
       "      <td>0.0</td>\n",
       "      <td>0.0</td>\n",
       "      <td>0.000000e+00</td>\n",
       "      <td>4.294432e+07</td>\n",
       "      <td>0.0</td>\n",
       "    </tr>\n",
       "  </tbody>\n",
       "</table>\n",
       "<p>5 rows × 1142 columns</p>\n",
       "</div>"
      ],
      "text/plain": [
       "          TUCASEID  TEAGE  TESEX  TUYEAR  TRHOLIDAY  TUDIARYDAY  GEMETSTA  \\\n",
       "1   20030100013344     41      2    2003          0           7       2.0   \n",
       "2   20030100013352     26      2    2003          0           7       1.0   \n",
       "8   20030100014550     33      2    2003          0           7       2.0   \n",
       "10  20030100014928     26      1    2003          0           7       1.0   \n",
       "11  20030100015106     33      2    2003          0           1       1.0   \n",
       "\n",
       "    GTMETSTA  TEHRUSLT  TELFS  ...    t09_W  t10_W         t11_W  \\\n",
       "1        NaN      30.0      1  ...      0.0    0.0  1.561790e+08   \n",
       "2        NaN      12.0      2  ...      0.0    0.0  2.872896e+08   \n",
       "8        NaN      40.0      1  ...      0.0    0.0  1.069807e+08   \n",
       "10       NaN      57.0      1  ...      0.0    0.0  2.942223e+07   \n",
       "11       NaN      35.0      1  ...      0.0    0.0  3.536591e+07   \n",
       "\n",
       "           t12_W  t13_W  t14_W  t15_W         t16_W         t18_W  t50_W  \n",
       "1   1.023840e+09    0.0    0.0    0.0  0.000000e+00  3.470645e+07    0.0  \n",
       "2   1.302379e+09    0.0    0.0    0.0  2.298316e+08  3.830527e+07    0.0  \n",
       "8   1.833956e+08    0.0    0.0    0.0  0.000000e+00  4.584889e+07    0.0  \n",
       "10  2.353779e+08    0.0    0.0    0.0  0.000000e+00  1.196504e+08    0.0  \n",
       "11  8.841477e+07    0.0    0.0    0.0  0.000000e+00  4.294432e+07    0.0  \n",
       "\n",
       "[5 rows x 1142 columns]"
      ]
     },
     "execution_count": 11,
     "metadata": {},
     "output_type": "execute_result"
    }
   ],
   "source": [
    "df_wehol.head()"
   ]
  },
  {
   "cell_type": "code",
   "execution_count": 12,
   "metadata": {
    "collapsed": false
   },
   "outputs": [
    {
     "data": {
      "text/html": [
       "<div>\n",
       "<style>\n",
       "    .dataframe thead tr:only-child th {\n",
       "        text-align: right;\n",
       "    }\n",
       "\n",
       "    .dataframe thead th {\n",
       "        text-align: left;\n",
       "    }\n",
       "\n",
       "    .dataframe tbody tr th {\n",
       "        vertical-align: top;\n",
       "    }\n",
       "</style>\n",
       "<table border=\"1\" class=\"dataframe\">\n",
       "  <thead>\n",
       "    <tr style=\"text-align: right;\">\n",
       "      <th></th>\n",
       "      <th>TUCASEID</th>\n",
       "      <th>TEAGE</th>\n",
       "      <th>TESEX</th>\n",
       "      <th>TUYEAR</th>\n",
       "      <th>TRHOLIDAY</th>\n",
       "      <th>TUDIARYDAY</th>\n",
       "      <th>GEMETSTA</th>\n",
       "      <th>GTMETSTA</th>\n",
       "      <th>TEHRUSLT</th>\n",
       "      <th>TELFS</th>\n",
       "      <th>...</th>\n",
       "      <th>t09_W</th>\n",
       "      <th>t10_W</th>\n",
       "      <th>t11_W</th>\n",
       "      <th>t12_W</th>\n",
       "      <th>t13_W</th>\n",
       "      <th>t14_W</th>\n",
       "      <th>t15_W</th>\n",
       "      <th>t16_W</th>\n",
       "      <th>t18_W</th>\n",
       "      <th>t50_W</th>\n",
       "    </tr>\n",
       "  </thead>\n",
       "  <tbody>\n",
       "    <tr>\n",
       "      <th>0</th>\n",
       "      <td>20030100013280</td>\n",
       "      <td>60</td>\n",
       "      <td>1</td>\n",
       "      <td>2003</td>\n",
       "      <td>0</td>\n",
       "      <td>6</td>\n",
       "      <td>1.0</td>\n",
       "      <td>NaN</td>\n",
       "      <td>30.0</td>\n",
       "      <td>2</td>\n",
       "      <td>...</td>\n",
       "      <td>0.0</td>\n",
       "      <td>0.0</td>\n",
       "      <td>4.077731e+07</td>\n",
       "      <td>2.650525e+09</td>\n",
       "      <td>1.631093e+09</td>\n",
       "      <td>0.000000e+00</td>\n",
       "      <td>0.0</td>\n",
       "      <td>0.0</td>\n",
       "      <td>0.000000e+00</td>\n",
       "      <td>0.0</td>\n",
       "    </tr>\n",
       "    <tr>\n",
       "      <th>3</th>\n",
       "      <td>20030100013848</td>\n",
       "      <td>36</td>\n",
       "      <td>2</td>\n",
       "      <td>2003</td>\n",
       "      <td>0</td>\n",
       "      <td>5</td>\n",
       "      <td>2.0</td>\n",
       "      <td>NaN</td>\n",
       "      <td>NaN</td>\n",
       "      <td>4</td>\n",
       "      <td>...</td>\n",
       "      <td>0.0</td>\n",
       "      <td>0.0</td>\n",
       "      <td>1.655506e+08</td>\n",
       "      <td>1.754836e+09</td>\n",
       "      <td>0.000000e+00</td>\n",
       "      <td>0.000000e+00</td>\n",
       "      <td>0.0</td>\n",
       "      <td>0.0</td>\n",
       "      <td>0.000000e+00</td>\n",
       "      <td>0.0</td>\n",
       "    </tr>\n",
       "    <tr>\n",
       "      <th>4</th>\n",
       "      <td>20030100014165</td>\n",
       "      <td>51</td>\n",
       "      <td>1</td>\n",
       "      <td>2003</td>\n",
       "      <td>0</td>\n",
       "      <td>5</td>\n",
       "      <td>2.0</td>\n",
       "      <td>NaN</td>\n",
       "      <td>80.0</td>\n",
       "      <td>1</td>\n",
       "      <td>...</td>\n",
       "      <td>0.0</td>\n",
       "      <td>0.0</td>\n",
       "      <td>2.822916e+08</td>\n",
       "      <td>1.841032e+08</td>\n",
       "      <td>1.841032e+08</td>\n",
       "      <td>0.000000e+00</td>\n",
       "      <td>0.0</td>\n",
       "      <td>0.0</td>\n",
       "      <td>2.393342e+08</td>\n",
       "      <td>0.0</td>\n",
       "    </tr>\n",
       "    <tr>\n",
       "      <th>5</th>\n",
       "      <td>20030100014169</td>\n",
       "      <td>32</td>\n",
       "      <td>2</td>\n",
       "      <td>2003</td>\n",
       "      <td>0</td>\n",
       "      <td>5</td>\n",
       "      <td>2.0</td>\n",
       "      <td>NaN</td>\n",
       "      <td>40.0</td>\n",
       "      <td>2</td>\n",
       "      <td>...</td>\n",
       "      <td>0.0</td>\n",
       "      <td>0.0</td>\n",
       "      <td>2.246026e+08</td>\n",
       "      <td>1.053905e+09</td>\n",
       "      <td>0.000000e+00</td>\n",
       "      <td>0.000000e+00</td>\n",
       "      <td>0.0</td>\n",
       "      <td>0.0</td>\n",
       "      <td>0.000000e+00</td>\n",
       "      <td>0.0</td>\n",
       "    </tr>\n",
       "    <tr>\n",
       "      <th>6</th>\n",
       "      <td>20030100014209</td>\n",
       "      <td>44</td>\n",
       "      <td>2</td>\n",
       "      <td>2003</td>\n",
       "      <td>0</td>\n",
       "      <td>2</td>\n",
       "      <td>1.0</td>\n",
       "      <td>NaN</td>\n",
       "      <td>52.0</td>\n",
       "      <td>1</td>\n",
       "      <td>...</td>\n",
       "      <td>0.0</td>\n",
       "      <td>0.0</td>\n",
       "      <td>1.555935e+08</td>\n",
       "      <td>0.000000e+00</td>\n",
       "      <td>0.000000e+00</td>\n",
       "      <td>3.275653e+06</td>\n",
       "      <td>0.0</td>\n",
       "      <td>0.0</td>\n",
       "      <td>8.352914e+07</td>\n",
       "      <td>0.0</td>\n",
       "    </tr>\n",
       "  </tbody>\n",
       "</table>\n",
       "<p>5 rows × 1142 columns</p>\n",
       "</div>"
      ],
      "text/plain": [
       "         TUCASEID  TEAGE  TESEX  TUYEAR  TRHOLIDAY  TUDIARYDAY  GEMETSTA  \\\n",
       "0  20030100013280     60      1    2003          0           6       1.0   \n",
       "3  20030100013848     36      2    2003          0           5       2.0   \n",
       "4  20030100014165     51      1    2003          0           5       2.0   \n",
       "5  20030100014169     32      2    2003          0           5       2.0   \n",
       "6  20030100014209     44      2    2003          0           2       1.0   \n",
       "\n",
       "   GTMETSTA  TEHRUSLT  TELFS  ...    t09_W  t10_W         t11_W         t12_W  \\\n",
       "0       NaN      30.0      2  ...      0.0    0.0  4.077731e+07  2.650525e+09   \n",
       "3       NaN       NaN      4  ...      0.0    0.0  1.655506e+08  1.754836e+09   \n",
       "4       NaN      80.0      1  ...      0.0    0.0  2.822916e+08  1.841032e+08   \n",
       "5       NaN      40.0      2  ...      0.0    0.0  2.246026e+08  1.053905e+09   \n",
       "6       NaN      52.0      1  ...      0.0    0.0  1.555935e+08  0.000000e+00   \n",
       "\n",
       "          t13_W         t14_W  t15_W  t16_W         t18_W  t50_W  \n",
       "0  1.631093e+09  0.000000e+00    0.0    0.0  0.000000e+00    0.0  \n",
       "3  0.000000e+00  0.000000e+00    0.0    0.0  0.000000e+00    0.0  \n",
       "4  1.841032e+08  0.000000e+00    0.0    0.0  2.393342e+08    0.0  \n",
       "5  0.000000e+00  0.000000e+00    0.0    0.0  0.000000e+00    0.0  \n",
       "6  0.000000e+00  3.275653e+06    0.0    0.0  8.352914e+07    0.0  \n",
       "\n",
       "[5 rows x 1142 columns]"
      ]
     },
     "execution_count": 12,
     "metadata": {},
     "output_type": "execute_result"
    }
   ],
   "source": [
    "df_weday.head()"
   ]
  },
  {
   "cell_type": "code",
   "execution_count": 13,
   "metadata": {
    "collapsed": false,
    "deletable": true,
    "editable": true
   },
   "outputs": [],
   "source": [
    "# Weights for ratio calculation\n",
    "weights_p = np.array([0.1, 0.2, 1.0, 0.6, 0.6, 1.0, 1.0, 0.9, 1.0, 1.0, 1.0, 1.0, 0.2])\n",
    "weights_n_occ = np.array([0.0, 1.0, 0.8, 1.0])\n",
    "weights_n_hom = np.array([1.0, 1.0, 1.0, 1.0, 1.0, 1.0, 1.0, 1.0, 1.0, 1.0, 0.8, 0.8])"
   ]
  },
  {
   "cell_type": "code",
   "execution_count": 14,
   "metadata": {
    "collapsed": false,
    "deletable": true,
    "editable": true
   },
   "outputs": [],
   "source": [
    "# Calculate metrics (i.e. y data)\n",
    "df_weday_y = pd.DataFrame()\n",
    "df_wehol_y = pd.DataFrame()\n",
    "\n",
    "# Weekday\n",
    "df_weday_y['metric1'] = wlm.w_l_balance_weighted_ratio(df_weday,\n",
    "                                                       ACTINFO['positiveWL'], ACTINFO['negoccWL'],\n",
    "                                                       weights_p, weights_n_occ)\n",
    "df_weday_y['metric2'] = wlm.w_l_balance_weighted_ratio(df_weday,\n",
    "                                                       ACTINFO['positiveWL'], ACTINFO['neghomeWL'],\n",
    "                                                       weights_p, weights_n_hom)\n",
    "\n",
    "df_weday_y['metric3'] = wlm.w_l_balance_personalcare(df_weday)\n",
    "df_weday_y['metric4'] = wlm.w_l_balance_leisuresocial(df_weday)\n",
    "\n",
    "df_weday_y['metric5'] = wlm.w_l_balance_workday(df_weday, workid='0501', hours=9)\n",
    "df_weday_y['metric6'] = wlm.w_l_balance_housework(df_weday, hours=4)\n",
    "\n",
    "# Weekend/holiday\n",
    "df_wehol_y['metric1'] = wlm.w_l_balance_weighted_ratio(df_wehol,\n",
    "                                                       ACTINFO['positiveWL'], ACTINFO['negoccWL'],\n",
    "                                                       weights_p, weights_n_occ)\n",
    "df_wehol_y['metric2'] = wlm.w_l_balance_weighted_ratio(df_wehol,\n",
    "                                                       ACTINFO['positiveWL'], ACTINFO['neghomeWL'],\n",
    "                                                       weights_p, weights_n_hom)\n",
    "\n",
    "df_wehol_y['metric3'] = wlm.w_l_balance_personalcare(df_wehol)\n",
    "df_wehol_y['metric4'] = wlm.w_l_balance_leisuresocial(df_wehol)\n",
    "\n",
    "df_wehol_y['metric5'] = wlm.w_l_balance_workday(df_wehol, workid='0501', hours=9)\n",
    "df_wehol_y['metric6'] = wlm.w_l_balance_housework(df_wehol, hours=4)"
   ]
  },
  {
   "cell_type": "code",
   "execution_count": 15,
   "metadata": {
    "collapsed": false
   },
   "outputs": [
    {
     "data": {
      "text/html": [
       "<div>\n",
       "<style>\n",
       "    .dataframe thead tr:only-child th {\n",
       "        text-align: right;\n",
       "    }\n",
       "\n",
       "    .dataframe thead th {\n",
       "        text-align: left;\n",
       "    }\n",
       "\n",
       "    .dataframe tbody tr th {\n",
       "        vertical-align: top;\n",
       "    }\n",
       "</style>\n",
       "<table border=\"1\" class=\"dataframe\">\n",
       "  <thead>\n",
       "    <tr style=\"text-align: right;\">\n",
       "      <th></th>\n",
       "      <th>metric1</th>\n",
       "      <th>metric2</th>\n",
       "      <th>metric3</th>\n",
       "      <th>metric4</th>\n",
       "      <th>metric5</th>\n",
       "      <th>metric6</th>\n",
       "    </tr>\n",
       "  </thead>\n",
       "  <tbody>\n",
       "    <tr>\n",
       "      <th>0</th>\n",
       "      <td>0.713028</td>\n",
       "      <td>0.682509</td>\n",
       "      <td>0.635417</td>\n",
       "      <td>0.364583</td>\n",
       "      <td>False</td>\n",
       "      <td>False</td>\n",
       "    </tr>\n",
       "    <tr>\n",
       "      <th>3</th>\n",
       "      <td>0.589085</td>\n",
       "      <td>0.479548</td>\n",
       "      <td>0.541667</td>\n",
       "      <td>0.184028</td>\n",
       "      <td>False</td>\n",
       "      <td>True</td>\n",
       "    </tr>\n",
       "    <tr>\n",
       "      <th>4</th>\n",
       "      <td>0.405106</td>\n",
       "      <td>0.491040</td>\n",
       "      <td>0.383333</td>\n",
       "      <td>0.083333</td>\n",
       "      <td>False</td>\n",
       "      <td>False</td>\n",
       "    </tr>\n",
       "    <tr>\n",
       "      <th>5</th>\n",
       "      <td>0.649472</td>\n",
       "      <td>0.471952</td>\n",
       "      <td>0.538194</td>\n",
       "      <td>0.211806</td>\n",
       "      <td>False</td>\n",
       "      <td>True</td>\n",
       "    </tr>\n",
       "    <tr>\n",
       "      <th>6</th>\n",
       "      <td>0.365951</td>\n",
       "      <td>0.427464</td>\n",
       "      <td>0.451389</td>\n",
       "      <td>0.001389</td>\n",
       "      <td>False</td>\n",
       "      <td>False</td>\n",
       "    </tr>\n",
       "  </tbody>\n",
       "</table>\n",
       "</div>"
      ],
      "text/plain": [
       "    metric1   metric2   metric3   metric4  metric5  metric6\n",
       "0  0.713028  0.682509  0.635417  0.364583    False    False\n",
       "3  0.589085  0.479548  0.541667  0.184028    False     True\n",
       "4  0.405106  0.491040  0.383333  0.083333    False    False\n",
       "5  0.649472  0.471952  0.538194  0.211806    False     True\n",
       "6  0.365951  0.427464  0.451389  0.001389    False    False"
      ]
     },
     "execution_count": 15,
     "metadata": {},
     "output_type": "execute_result"
    }
   ],
   "source": [
    "df_weday_y.head()"
   ]
  },
  {
   "cell_type": "code",
   "execution_count": 16,
   "metadata": {
    "collapsed": false
   },
   "outputs": [
    {
     "data": {
      "text/html": [
       "<div>\n",
       "<style>\n",
       "    .dataframe thead tr:only-child th {\n",
       "        text-align: right;\n",
       "    }\n",
       "\n",
       "    .dataframe thead th {\n",
       "        text-align: left;\n",
       "    }\n",
       "\n",
       "    .dataframe tbody tr th {\n",
       "        vertical-align: top;\n",
       "    }\n",
       "</style>\n",
       "<table border=\"1\" class=\"dataframe\">\n",
       "  <thead>\n",
       "    <tr style=\"text-align: right;\">\n",
       "      <th></th>\n",
       "      <th>metric1</th>\n",
       "      <th>metric2</th>\n",
       "      <th>metric3</th>\n",
       "      <th>metric4</th>\n",
       "      <th>metric5</th>\n",
       "      <th>metric6</th>\n",
       "    </tr>\n",
       "  </thead>\n",
       "  <tbody>\n",
       "    <tr>\n",
       "      <th>1</th>\n",
       "      <td>0.759298</td>\n",
       "      <td>0.734520</td>\n",
       "      <td>0.534722</td>\n",
       "      <td>0.409722</td>\n",
       "      <td>False</td>\n",
       "      <td>False</td>\n",
       "    </tr>\n",
       "    <tr>\n",
       "      <th>2</th>\n",
       "      <td>0.665614</td>\n",
       "      <td>0.570107</td>\n",
       "      <td>0.496528</td>\n",
       "      <td>0.236111</td>\n",
       "      <td>False</td>\n",
       "      <td>True</td>\n",
       "    </tr>\n",
       "    <tr>\n",
       "      <th>8</th>\n",
       "      <td>0.589298</td>\n",
       "      <td>0.448221</td>\n",
       "      <td>0.548611</td>\n",
       "      <td>0.083333</td>\n",
       "      <td>False</td>\n",
       "      <td>True</td>\n",
       "    </tr>\n",
       "    <tr>\n",
       "      <th>10</th>\n",
       "      <td>0.308947</td>\n",
       "      <td>0.558185</td>\n",
       "      <td>0.409722</td>\n",
       "      <td>0.083333</td>\n",
       "      <td>True</td>\n",
       "      <td>False</td>\n",
       "    </tr>\n",
       "    <tr>\n",
       "      <th>11</th>\n",
       "      <td>0.603684</td>\n",
       "      <td>0.558897</td>\n",
       "      <td>0.475694</td>\n",
       "      <td>0.121528</td>\n",
       "      <td>False</td>\n",
       "      <td>False</td>\n",
       "    </tr>\n",
       "  </tbody>\n",
       "</table>\n",
       "</div>"
      ],
      "text/plain": [
       "     metric1   metric2   metric3   metric4  metric5  metric6\n",
       "1   0.759298  0.734520  0.534722  0.409722    False    False\n",
       "2   0.665614  0.570107  0.496528  0.236111    False     True\n",
       "8   0.589298  0.448221  0.548611  0.083333    False     True\n",
       "10  0.308947  0.558185  0.409722  0.083333     True    False\n",
       "11  0.603684  0.558897  0.475694  0.121528    False    False"
      ]
     },
     "execution_count": 16,
     "metadata": {},
     "output_type": "execute_result"
    }
   ],
   "source": [
    "df_wehol_y.head()"
   ]
  },
  {
   "cell_type": "code",
   "execution_count": 17,
   "metadata": {
    "collapsed": false,
    "deletable": true,
    "editable": true
   },
   "outputs": [],
   "source": [
    "# Features list\n",
    "features = ['TEAGE', 'TESEX', 'GEMETSTA', 'GESTFIPS',\n",
    "            'TELFS', 'TRDPFTPT',\n",
    "            'TRSPPRES', 'TESPEMPNOT',\n",
    "            'TESCHENR', 'TESCHLVL', 'PEEDUCA',\n",
    "            'PTDTRACE',\n",
    "            'TRCHILDNUM', 'TRNUMHOU',\n",
    "            'TRMJOCGR', 'TRDTOCC1',\n",
    "            'TRMJIND1', 'TEIO1COW', 'TRERNWA',\n",
    "            'TUDIS']\n",
    "catfeatures = ['GEMETSTA', 'GESTFIPS',\n",
    "               'TELFS', 'TRDPFTPT',\n",
    "               'TRSPPRES', 'TESPEMPNOT',\n",
    "               'TESCHENR', 'TESCHLVL',\n",
    "               'PTDTRACE',\n",
    "               'TRMJOCGR', 'TRDTOCC1',\n",
    "               'TRMJIND1', 'TEIO1COW',\n",
    "               'TUDIS']\n",
    "numcats = [4, 57, 6, 3, 4, 3, 3, 3, 27, 7, 23, 14, 9, 4]"
   ]
  },
  {
   "cell_type": "code",
   "execution_count": 18,
   "metadata": {
    "collapsed": false,
    "deletable": true,
    "editable": true
   },
   "outputs": [],
   "source": [
    "# Features matrix (i.e. X data)\n",
    "df_weday_X = df_weday[features]\n",
    "df_wehol_X = df_wehol[features]"
   ]
  },
  {
   "cell_type": "code",
   "execution_count": 19,
   "metadata": {
    "collapsed": false,
    "deletable": true,
    "editable": true
   },
   "outputs": [],
   "source": [
    "# Split train-test indices\n",
    "rs = ShuffleSplit(n_splits=1, test_size=0.1, random_state=42)\n",
    "\n",
    "train_wd, test_wd = rs.split(df_weday).next()\n",
    "train_wh, test_wh = rs.split(df_wehol).next()"
   ]
  },
  {
   "cell_type": "code",
   "execution_count": 22,
   "metadata": {
    "collapsed": false,
    "deletable": true,
    "editable": true
   },
   "outputs": [],
   "source": [
    "del df_weday\n",
    "del df_wehol"
   ]
  },
  {
   "cell_type": "markdown",
   "metadata": {
    "deletable": true,
    "editable": true
   },
   "source": [
    "## Set training and test data"
   ]
  },
  {
   "cell_type": "code",
   "execution_count": 259,
   "metadata": {
    "collapsed": false,
    "deletable": true,
    "editable": true
   },
   "outputs": [],
   "source": [
    "m = 'metric1'\n",
    "dt = 'weday'\n",
    "\n",
    "if dt == 'weday':\n",
    "    y = df_weday_y[m].as_matrix()[train_wd]\n",
    "    X = df_weday_X.iloc[train_wd]\n",
    "\n",
    "    y_test = df_weday_y[m].as_matrix()[test_wd]\n",
    "    X_test = df_weday_X.iloc[test_wd]\n",
    "else:\n",
    "    y = df_wehol_y[m].as_matrix()[train_wd]\n",
    "    X = df_wehol_X.iloc[train_wd]\n",
    "\n",
    "    y_test = df_wehol_y[m].as_matrix()[test_wd]\n",
    "    X_test = df_wehol_X.iloc[test_wd]"
   ]
  },
  {
   "cell_type": "markdown",
   "metadata": {
    "deletable": true,
    "editable": true
   },
   "source": [
    "## Build estimator for age, education, weekly income, child number, household number"
   ]
  },
  {
   "cell_type": "code",
   "execution_count": 269,
   "metadata": {
    "collapsed": false,
    "deletable": true,
    "editable": true
   },
   "outputs": [],
   "source": [
    "# Polynominal features for age\n",
    "agetrans = Pipeline([\n",
    "    ('featse1', DataFrameSelector(feature_names=['TEAGE'], dtype=float)),\n",
    "    ('scaler1', StandardScaler()),\n",
    "    ('polyno1', PolynomialFeatures(degree=3, include_bias=True)),\n",
    "])\n",
    "\n",
    "# Education level feature\n",
    "edutrans = Pipeline([\n",
    "    ('featse2', DataFrameSelector(feature_names=['PEEDUCA'], dtype=float)),\n",
    "    ('impute2', Imputer(missing_values='NaN', strategy='median', axis=0)),\n",
    "    ('scaler2', StandardScaler())\n",
    "])\n",
    "\n",
    "# Weekly earnings feature\n",
    "weatrans = Pipeline([\n",
    "    ('featse3', DataFrameSelector(feature_names=['TRERNWA'], dtype=float)),\n",
    "    ('impute3', ImputeNumber()),\n",
    "    ('scaler3', StandardScaler())\n",
    "])\n",
    "\n",
    "# Number of children/household features\n",
    "lintrans = Pipeline([\n",
    "    ('featse4', DataFrameSelector(feature_names=['TRCHILDNUM', 'TRNUMHOU'], dtype=float)),\n",
    "    ('impute4', Imputer(missing_values='NaN', strategy='median', axis=0)),\n",
    "    ('scaler4', StandardScaler())\n",
    "])\n",
    "\n",
    "est = Pipeline([\n",
    "    ('union01', FeatureUnion([\n",
    "        ('lintran', lintrans),\n",
    "        ('agetran', agetrans),\n",
    "        ('edutran', edutrans),\n",
    "        ('weatran', weatrans)\n",
    "    ])),\n",
    "    ('ransac', RANSACRegressor(base_estimator=Ridge(alpha=10.0),\n",
    "                               random_state=42,\n",
    "                               residual_threshold=0.15))\n",
    "])"
   ]
  },
  {
   "cell_type": "code",
   "execution_count": 198,
   "metadata": {
    "collapsed": false,
    "deletable": true,
    "editable": true
   },
   "outputs": [],
   "source": [
    "# Grid search CV\n",
    "gridsearch = GridSearchCV(est,\n",
    "                          {'ransac__base_estimator__alpha': [0.1, 0.5, 1, 2, 5, 8, 10, 12, 20, 30, 50]\n",
    "                          },\n",
    "                          cv=3,\n",
    "                          n_jobs=-2,\n",
    "                          scoring='neg_mean_squared_error',\n",
    "                          verbose=True)"
   ]
  },
  {
   "cell_type": "code",
   "execution_count": 199,
   "metadata": {
    "collapsed": false,
    "deletable": true,
    "editable": true
   },
   "outputs": [
    {
     "name": "stdout",
     "output_type": "stream",
     "text": [
      "Fitting 3 folds for each of 11 candidates, totalling 33 fits\n"
     ]
    },
    {
     "name": "stderr",
     "output_type": "stream",
     "text": [
      "[Parallel(n_jobs=-1)]: Done  33 out of  33 | elapsed:    8.6s finished\n"
     ]
    },
    {
     "data": {
      "text/plain": [
       "GridSearchCV(cv=3, error_score='raise',\n",
       "       estimator=Pipeline(steps=[('union01', FeatureUnion(n_jobs=1,\n",
       "       transformer_list=[('lintran', Pipeline(steps=[('featse4', DataFrameSelector(dtype=<type 'float'>,\n",
       "         feature_names=['TRCHILDNUM', 'TRNUMHOU'], ntn=False)), ('impute4', Imputer(axis=0, copy=True, missing_values='NaN', strategy='median', verbose=0...=None, residual_threshold=0.15, stop_n_inliers=inf,\n",
       "        stop_probability=0.99, stop_score=inf))]),\n",
       "       fit_params={}, iid=True, n_jobs=-1,\n",
       "       param_grid={'ransac__base_estimator__alpha': [0.1, 0.5, 1, 2, 5, 8, 10, 12, 20, 30, 50]},\n",
       "       pre_dispatch='2*n_jobs', refit=True, return_train_score=True,\n",
       "       scoring='neg_mean_squared_error', verbose=True)"
      ]
     },
     "execution_count": 199,
     "metadata": {},
     "output_type": "execute_result"
    }
   ],
   "source": [
    "gridsearch.fit(X, y)"
   ]
  },
  {
   "cell_type": "code",
   "execution_count": 200,
   "metadata": {
    "collapsed": false,
    "deletable": true,
    "editable": true
   },
   "outputs": [
    {
     "data": {
      "text/plain": [
       "2"
      ]
     },
     "execution_count": 200,
     "metadata": {},
     "output_type": "execute_result"
    }
   ],
   "source": [
    "opt_alpha = gridsearch.best_params_['ransac__base_estimator__alpha']\n",
    "opt_alpha"
   ]
  },
  {
   "cell_type": "code",
   "execution_count": 201,
   "metadata": {
    "collapsed": false,
    "deletable": true,
    "editable": true
   },
   "outputs": [
    {
     "data": {
      "image/png": "[encoded data removed]",
      "text/plain": [
       "<matplotlib.figure.Figure at 0x7f2430157590>"
      ]
     },
     "metadata": {},
     "output_type": "display_data"
    }
   ],
   "source": [
    "# Graphs\n",
    "plt.plot([0.1, 0.5, 1, 2, 5, 8, 10, 12, 20, 30, 50], -gridsearch.cv_results_['mean_test_score']);"
   ]
  },
  {
   "cell_type": "markdown",
   "metadata": {
    "deletable": true,
    "editable": true
   },
   "source": [
    "### Fitting using the best parameters on training set for a specific metric"
   ]
  },
  {
   "cell_type": "code",
   "execution_count": 270,
   "metadata": {
    "collapsed": false,
    "deletable": true,
    "editable": true
   },
   "outputs": [
    {
     "data": {
      "text/plain": [
       "Pipeline(steps=[('union01', FeatureUnion(n_jobs=1,\n",
       "       transformer_list=[('lintran', Pipeline(steps=[('featse4', DataFrameSelector(dtype=<type 'float'>,\n",
       "         feature_names=['TRCHILDNUM', 'TRNUMHOU'], ntn=False)), ('impute4', Imputer(axis=0, copy=True, missing_values='NaN', strategy='median', verbose=0...=None, residual_threshold=0.15, stop_n_inliers=inf,\n",
       "        stop_probability=0.99, stop_score=inf))])"
      ]
     },
     "execution_count": 270,
     "metadata": {},
     "output_type": "execute_result"
    }
   ],
   "source": [
    "est.fit(X, y)"
   ]
  },
  {
   "cell_type": "code",
   "execution_count": 271,
   "metadata": {
    "collapsed": false,
    "deletable": true,
    "editable": true
   },
   "outputs": [
    {
     "data": {
      "text/plain": [
       "['models/pred_model_atus_est_metric1_2017-10-24.pkl']"
      ]
     },
     "execution_count": 271,
     "metadata": {},
     "output_type": "execute_result"
    }
   ],
   "source": [
    "# Pickle model\n",
    "joblib.dump(est, 'models/pred_model_atus_est_{}_{}.pkl'.format(m, date.today()))"
   ]
  },
  {
   "cell_type": "code",
   "execution_count": 272,
   "metadata": {
    "collapsed": false,
    "deletable": true,
    "editable": true
   },
   "outputs": [
    {
     "data": {
      "text/plain": [
       "0.36160370666082997"
      ]
     },
     "execution_count": 272,
     "metadata": {},
     "output_type": "execute_result"
    }
   ],
   "source": [
    "est.score(X, y)"
   ]
  },
  {
   "cell_type": "code",
   "execution_count": 273,
   "metadata": {
    "collapsed": false,
    "deletable": true,
    "editable": true
   },
   "outputs": [
    {
     "data": {
      "text/plain": [
       "0.015210163656608851"
      ]
     },
     "execution_count": 273,
     "metadata": {},
     "output_type": "execute_result"
    }
   ],
   "source": [
    "compute_mse(est, X, y, 3)"
   ]
  },
  {
   "cell_type": "code",
   "execution_count": 274,
   "metadata": {
    "collapsed": false,
    "deletable": true,
    "editable": true
   },
   "outputs": [
    {
     "data": {
      "text/plain": [
       "array([ 0.51479685,  0.36774682,  0.51256065,  0.50457614,  0.55638104,\n",
       "        0.50404605,  0.49026239,  0.72012444,  0.63944087,  0.63030591,\n",
       "        0.55331939,  0.61043904,  0.58139206,  0.55180594,  0.40896914,\n",
       "        0.42915262,  0.63349179,  0.55769342,  0.47716418,  0.52715157,\n",
       "        0.59503224,  0.4842136 ,  0.62942213,  0.62160274,  0.68687178])"
      ]
     },
     "execution_count": 274,
     "metadata": {},
     "output_type": "execute_result"
    }
   ],
   "source": [
    "est.predict(X.head(25))"
   ]
  },
  {
   "cell_type": "code",
   "execution_count": 275,
   "metadata": {
    "collapsed": false,
    "deletable": true,
    "editable": true
   },
   "outputs": [
    {
     "data": {
      "text/plain": [
       "array([ 0.63419014,  0.30352113,  0.31919014,  0.39415493,  0.35      ,\n",
       "        0.41725352,  0.35211268,  0.71197183,  0.63257042,  0.83309859,\n",
       "        0.57852113,  0.64788732,  0.68028169,  0.82633803,  0.25757042,\n",
       "        0.46091549,  0.59964789,  0.6709507 ,  0.34665493,  0.7443662 ,\n",
       "        0.82728873,  0.38802817,  0.64647887,  0.61232394,  0.69366197])"
      ]
     },
     "execution_count": 275,
     "metadata": {},
     "output_type": "execute_result"
    }
   ],
   "source": [
    "y[:25]"
   ]
  },
  {
   "cell_type": "code",
   "execution_count": 276,
   "metadata": {
    "collapsed": false,
    "deletable": true,
    "editable": true
   },
   "outputs": [
    {
     "data": {
      "text/plain": [
       "0.015003694189992438"
      ]
     },
     "execution_count": 276,
     "metadata": {},
     "output_type": "execute_result"
    }
   ],
   "source": [
    "compute_mse(est, X_test, y_test, 3)"
   ]
  },
  {
   "cell_type": "code",
   "execution_count": 277,
   "metadata": {
    "collapsed": false,
    "deletable": true,
    "editable": true
   },
   "outputs": [
    {
     "data": {
      "image/png": "[encoded data removed]",
      "text/plain": [
       "<matplotlib.figure.Figure at 0x7f23c41dd350>"
      ]
     },
     "metadata": {},
     "output_type": "display_data"
    }
   ],
   "source": [
    "sns.regplot(y_test, est.predict(X_test))\n",
    "plt.plot([0, 1], [0, 1], ls='--')\n",
    "plt.axis([0, 1, 0, 1])\n",
    "plt.title(\"Continuous features only\");"
   ]
  },
  {
   "cell_type": "markdown",
   "metadata": {
    "collapsed": true,
    "deletable": true,
    "editable": true
   },
   "source": [
    "## Build estimator for all categorical features"
   ]
  },
  {
   "cell_type": "code",
   "execution_count": 278,
   "metadata": {
    "collapsed": false,
    "deletable": true,
    "editable": true
   },
   "outputs": [],
   "source": [
    "# Use one-hot-encoding followed by truncated SVD to reduce feature count\n",
    "est_cat = Pipeline([\n",
    "    ('featse1', DataFrameSelector(feature_names=catfeatures, dtype=np.int64, ntn=True)),\n",
    "    ('encode1', OneHotEncoder(n_values=numcats, handle_unknown='ignore')),\n",
    "    ('trunsvd', TruncatedSVD(n_components=60, random_state=42)),\n",
    "    ('erfregr', ExtraTreesRegressor(n_estimators=80,\n",
    "                                    max_depth=8,\n",
    "                                    min_samples_leaf=1,\n",
    "                                    random_state=42))\n",
    "])"
   ]
  },
  {
   "cell_type": "code",
   "execution_count": 235,
   "metadata": {
    "collapsed": true,
    "deletable": true,
    "editable": true
   },
   "outputs": [],
   "source": [
    "# Grid search CV\n",
    "gridsearch_cat = GridSearchCV(est_cat,\n",
    "                              {'erfregr__max_depth': [5, 8, 10, 12, 15, 20]\n",
    "                              },\n",
    "                              cv=3,\n",
    "                              n_jobs=-2,\n",
    "                              scoring='neg_mean_squared_error',\n",
    "                              verbose=True)"
   ]
  },
  {
   "cell_type": "code",
   "execution_count": 236,
   "metadata": {
    "collapsed": false,
    "deletable": true,
    "editable": true
   },
   "outputs": [
    {
     "name": "stdout",
     "output_type": "stream",
     "text": [
      "Fitting 3 folds for each of 6 candidates, totalling 18 fits\n"
     ]
    },
    {
     "name": "stderr",
     "output_type": "stream",
     "text": [
      "[Parallel(n_jobs=-2)]: Done  18 out of  18 | elapsed:  2.2min finished\n"
     ]
    },
    {
     "data": {
      "text/plain": [
       "GridSearchCV(cv=3, error_score='raise',\n",
       "       estimator=Pipeline(steps=[('featse1', DataFrameSelector(dtype=<type 'numpy.int64'>,\n",
       "         feature_names=['GEMETSTA', 'GESTFIPS', 'TELFS', 'TRDPFTPT', 'TRSPPRES', 'TESPEMPNOT', 'TESCHENR', 'TESCHLVL', 'PTDTRACE', 'TRMJOCGR', 'TRDTOCC1', 'TRMJIND1', 'TEIO1COW', 'TUDIS'],\n",
       "         ntn=True)), ('encode1', OneHotEncoder..._estimators=80, n_jobs=1, oob_score=False, random_state=42,\n",
       "          verbose=0, warm_start=False))]),\n",
       "       fit_params={}, iid=True, n_jobs=-2,\n",
       "       param_grid={'erfregr__max_depth': [5, 8, 10, 12, 15, 20]},\n",
       "       pre_dispatch='2*n_jobs', refit=True, return_train_score=True,\n",
       "       scoring='neg_mean_squared_error', verbose=True)"
      ]
     },
     "execution_count": 236,
     "metadata": {},
     "output_type": "execute_result"
    }
   ],
   "source": [
    "gridsearch_cat.fit(X, y)"
   ]
  },
  {
   "cell_type": "code",
   "execution_count": 237,
   "metadata": {
    "collapsed": false,
    "deletable": true,
    "editable": true
   },
   "outputs": [
    {
     "data": {
      "text/plain": [
       "{'erfregr__max_depth': 8}"
      ]
     },
     "execution_count": 237,
     "metadata": {},
     "output_type": "execute_result"
    }
   ],
   "source": [
    "gridsearch_cat.best_params_"
   ]
  },
  {
   "cell_type": "code",
   "execution_count": 239,
   "metadata": {
    "collapsed": false
   },
   "outputs": [
    {
     "data": {
      "image/png": "[encoded data removed]",
      "text/plain": [
       "<matplotlib.figure.Figure at 0x7f23c433e750>"
      ]
     },
     "metadata": {},
     "output_type": "display_data"
    }
   ],
   "source": [
    "plt.plot([5, 8, 10, 12, 15, 20], -gridsearch_cat.cv_results_['mean_test_score']);"
   ]
  },
  {
   "cell_type": "markdown",
   "metadata": {
    "deletable": true,
    "editable": true
   },
   "source": [
    "### Fitting using the best parameters on training set for a specific metric"
   ]
  },
  {
   "cell_type": "code",
   "execution_count": 279,
   "metadata": {
    "collapsed": false,
    "deletable": true,
    "editable": true
   },
   "outputs": [
    {
     "data": {
      "text/plain": [
       "Pipeline(steps=[('featse1', DataFrameSelector(dtype=<type 'numpy.int64'>,\n",
       "         feature_names=['GEMETSTA', 'GESTFIPS', 'TELFS', 'TRDPFTPT', 'TRSPPRES', 'TESPEMPNOT', 'TESCHENR', 'TESCHLVL', 'PTDTRACE', 'TRMJOCGR', 'TRDTOCC1', 'TRMJIND1', 'TEIO1COW', 'TUDIS'],\n",
       "         ntn=True)), ('encode1', OneHotEncoder..._estimators=80, n_jobs=1, oob_score=False, random_state=42,\n",
       "          verbose=0, warm_start=False))])"
      ]
     },
     "execution_count": 279,
     "metadata": {},
     "output_type": "execute_result"
    }
   ],
   "source": [
    "est_cat.fit(X, y)"
   ]
  },
  {
   "cell_type": "code",
   "execution_count": 280,
   "metadata": {
    "collapsed": false,
    "deletable": true,
    "editable": true
   },
   "outputs": [
    {
     "data": {
      "text/plain": [
       "['models/pred_model_atus_catest_metric1_2017-10-24.pkl']"
      ]
     },
     "execution_count": 280,
     "metadata": {},
     "output_type": "execute_result"
    }
   ],
   "source": [
    "# Pickle model\n",
    "joblib.dump(est_cat, 'models/pred_model_atus_catest_{}_{}.pkl'.format(m, date.today()))"
   ]
  },
  {
   "cell_type": "code",
   "execution_count": 281,
   "metadata": {
    "collapsed": false,
    "deletable": true,
    "editable": true
   },
   "outputs": [
    {
     "data": {
      "text/plain": [
       "0.60470514205387604"
      ]
     },
     "execution_count": 281,
     "metadata": {},
     "output_type": "execute_result"
    }
   ],
   "source": [
    "est_cat.score(X, y)"
   ]
  },
  {
   "cell_type": "code",
   "execution_count": 282,
   "metadata": {
    "collapsed": false,
    "deletable": true,
    "editable": true
   },
   "outputs": [
    {
     "data": {
      "text/plain": [
       "0.0097048751769557105"
      ]
     },
     "execution_count": 282,
     "metadata": {},
     "output_type": "execute_result"
    }
   ],
   "source": [
    "compute_mse(est_cat, X, y, 3)"
   ]
  },
  {
   "cell_type": "code",
   "execution_count": 283,
   "metadata": {
    "collapsed": false,
    "deletable": true,
    "editable": true
   },
   "outputs": [
    {
     "data": {
      "text/plain": [
       "array([ 0.42176815,  0.43279827,  0.42722805,  0.43500902,  0.42680087,\n",
       "        0.4041726 ,  0.40454576,  0.69470465,  0.6334896 ,  0.70215914,\n",
       "        0.46964946,  0.52004859,  0.44197746,  0.6725857 ,  0.39876767])"
      ]
     },
     "execution_count": 283,
     "metadata": {},
     "output_type": "execute_result"
    }
   ],
   "source": [
    "est_cat.predict(X.head(15))"
   ]
  },
  {
   "cell_type": "code",
   "execution_count": 284,
   "metadata": {
    "collapsed": false,
    "deletable": true,
    "editable": true
   },
   "outputs": [
    {
     "data": {
      "text/plain": [
       "array([ 0.63419014,  0.30352113,  0.31919014,  0.39415493,  0.35      ,\n",
       "        0.41725352,  0.35211268,  0.71197183,  0.63257042,  0.83309859,\n",
       "        0.57852113,  0.64788732,  0.68028169,  0.82633803,  0.25757042])"
      ]
     },
     "execution_count": 284,
     "metadata": {},
     "output_type": "execute_result"
    }
   ],
   "source": [
    "y[:15]"
   ]
  },
  {
   "cell_type": "code",
   "execution_count": 285,
   "metadata": {
    "collapsed": false,
    "deletable": true,
    "editable": true
   },
   "outputs": [
    {
     "data": {
      "image/png": "[encoded data removed]",
      "text/plain": [
       "<matplotlib.figure.Figure at 0x7f24300cf090>"
      ]
     },
     "metadata": {},
     "output_type": "display_data"
    }
   ],
   "source": [
    "sns.regplot(y_test, est_cat.predict(X_test))\n",
    "plt.plot([0,1], [0,1], ls='--')\n",
    "plt.axis([0, 1, 0, 1])\n",
    "plt.title(\"Categorical features only\");"
   ]
  },
  {
   "cell_type": "markdown",
   "metadata": {
    "collapsed": true,
    "deletable": true,
    "editable": true
   },
   "source": [
    "## Combined model that uses both continuous and categorical models"
   ]
  },
  {
   "cell_type": "code",
   "execution_count": 286,
   "metadata": {
    "collapsed": true,
    "deletable": true,
    "editable": true
   },
   "outputs": [],
   "source": [
    "full_est = Pipeline([\n",
    "    ('union', FeatureUnion([\n",
    "        ('conest', EstimatorTransformer(est)),\n",
    "        ('catest', EstimatorTransformer(est_cat))\n",
    "    ])),\n",
    "    ('quadrat', PolynomialFeatures(degree=2, include_bias=True)),\n",
    "    ('combi', LinearRegression())\n",
    "])"
   ]
  },
  {
   "cell_type": "code",
   "execution_count": 287,
   "metadata": {
    "collapsed": false,
    "deletable": true,
    "editable": true
   },
   "outputs": [
    {
     "data": {
      "text/plain": [
       "Pipeline(steps=[('union', FeatureUnion(n_jobs=1,\n",
       "       transformer_list=[('conest', EstimatorTransformer(estimator=Pipeline(steps=[('union01', FeatureUnion(n_jobs=1,\n",
       "       transformer_list=[('lintran', Pipeline(steps=[('featse4', DataFrameSelector(dtype=<type 'float'>,\n",
       "         feature_names=['TRCHILDNUM',...ly=False)), ('combi', LinearRegression(copy_X=True, fit_intercept=True, n_jobs=1, normalize=False))])"
      ]
     },
     "execution_count": 287,
     "metadata": {},
     "output_type": "execute_result"
    }
   ],
   "source": [
    "full_est.fit(X, y)"
   ]
  },
  {
   "cell_type": "code",
   "execution_count": 288,
   "metadata": {
    "collapsed": false,
    "deletable": true,
    "editable": true
   },
   "outputs": [
    {
     "data": {
      "text/plain": [
       "['models/pred_model_atus_fullest_metric1_2017-10-24.pkl']"
      ]
     },
     "execution_count": 288,
     "metadata": {},
     "output_type": "execute_result"
    }
   ],
   "source": [
    "# Pickle model\n",
    "joblib.dump(full_est, 'models/pred_model_atus_fullest_{}_{}.pkl'.format(m, date.today()))"
   ]
  },
  {
   "cell_type": "code",
   "execution_count": 289,
   "metadata": {
    "collapsed": false,
    "deletable": true,
    "editable": true
   },
   "outputs": [
    {
     "data": {
      "text/plain": [
       "0.60823737022798929"
      ]
     },
     "execution_count": 289,
     "metadata": {},
     "output_type": "execute_result"
    }
   ],
   "source": [
    "full_est.score(X, y)"
   ]
  },
  {
   "cell_type": "code",
   "execution_count": 290,
   "metadata": {
    "collapsed": false,
    "deletable": true,
    "editable": true
   },
   "outputs": [
    {
     "data": {
      "text/plain": [
       "0.0096104708861919352"
      ]
     },
     "execution_count": 290,
     "metadata": {},
     "output_type": "execute_result"
    }
   ],
   "source": [
    "compute_mse(full_est, X, y, 3)"
   ]
  },
  {
   "cell_type": "code",
   "execution_count": 291,
   "metadata": {
    "collapsed": false,
    "deletable": true,
    "editable": true
   },
   "outputs": [
    {
     "data": {
      "text/plain": [
       "array([ 0.42016019,  0.41822059,  0.42590946,  0.43342271,  0.43227792,\n",
       "        0.39878203,  0.39724116,  0.70653573,  0.64561258,  0.70071585,\n",
       "        0.47768521,  0.5377016 ,  0.45300951,  0.67014987,  0.38121582])"
      ]
     },
     "execution_count": 291,
     "metadata": {},
     "output_type": "execute_result"
    }
   ],
   "source": [
    "full_est.predict(X.head(15))"
   ]
  },
  {
   "cell_type": "code",
   "execution_count": 292,
   "metadata": {
    "collapsed": false,
    "deletable": true,
    "editable": true
   },
   "outputs": [
    {
     "data": {
      "text/plain": [
       "array([ 0.63419014,  0.30352113,  0.31919014,  0.39415493,  0.35      ,\n",
       "        0.41725352,  0.35211268,  0.71197183,  0.63257042,  0.83309859,\n",
       "        0.57852113,  0.64788732,  0.68028169,  0.82633803,  0.25757042])"
      ]
     },
     "execution_count": 292,
     "metadata": {},
     "output_type": "execute_result"
    }
   ],
   "source": [
    "y[:15]"
   ]
  },
  {
   "cell_type": "code",
   "execution_count": 295,
   "metadata": {
    "collapsed": false,
    "deletable": true,
    "editable": true
   },
   "outputs": [
    {
     "data": {
      "image/png": "[encoded data removed]",
      "text/plain": [
       "<matplotlib.figure.Figure at 0x7f2430318e90>"
      ]
     },
     "metadata": {},
     "output_type": "display_data"
    }
   ],
   "source": [
    "sns.regplot(y, full_est.predict(X))\n",
    "plt.plot([0,1], [0,1], ls='--')\n",
    "plt.axis([0, 1, 0, 1])\n",
    "plt.title(\"Continuous and categorical features with linreg\");"
   ]
  },
  {
   "cell_type": "markdown",
   "metadata": {
    "collapsed": false,
    "deletable": true,
    "editable": true
   },
   "source": [
    "## Combined model that uses the same estimator"
   ]
  },
  {
   "cell_type": "code",
   "execution_count": 45,
   "metadata": {
    "collapsed": false,
    "deletable": true,
    "editable": true
   },
   "outputs": [],
   "source": [
    "# Categorical features\n",
    "cattrans_new = Pipeline([\n",
    "    ('featse1', DataFrameSelector(feature_names=catfeatures, dtype=np.int64, ntn=True)),\n",
    "    ('encode1', OneHotEncoder(n_values=numcats, handle_unknown='ignore')),\n",
    "    ('trunsvd', TruncatedSVD(n_components=100, random_state=42))\n",
    "])\n",
    "\n",
    "# Polynominal features for age\n",
    "agetrans_new = Pipeline([\n",
    "    ('featse1', DataFrameSelector(feature_names=['TEAGE'], dtype=float)),\n",
    "    ('impute1', Imputer(missing_values='NaN', strategy='median', axis=0)),\n",
    "    ('scaler1', StandardScaler()),\n",
    "    ('quadrat', PolynomialFeatures(degree=3, include_bias=False))\n",
    "])\n",
    "\n",
    "# Linear features\n",
    "lintrans_new = Pipeline([\n",
    "    ('featse2', DataFrameSelector(feature_names=['PEEDUCA', 'TRERNWA', 'TRCHILDNUM', 'TRNUMHOU'], dtype=float)),\n",
    "    ('impute2', Imputer(missing_values='NaN', strategy='median', axis=0))\n",
    "])\n",
    "\n",
    "# Full estimator\n",
    "full_est_new = Pipeline([\n",
    "    ('union', FeatureUnion([\n",
    "        ('cattran', cattrans_new),\n",
    "        ('agetran', agetrans_new),\n",
    "        ('lintran', lintrans_new)\n",
    "    ])),\n",
    "    ('erfregr', ExtraTreesRegressor(n_estimators=250,\n",
    "                                    max_depth=20,\n",
    "                                    min_samples_leaf=1,\n",
    "                                    random_state=42,\n",
    "                                    n_jobs=-2))\n",
    "])"
   ]
  },
  {
   "cell_type": "code",
   "execution_count": 46,
   "metadata": {
    "collapsed": false,
    "deletable": true,
    "editable": true
   },
   "outputs": [
    {
     "data": {
      "text/plain": [
       "Pipeline(steps=[('union', FeatureUnion(n_jobs=1,\n",
       "       transformer_list=[('cattran', Pipeline(steps=[('featse1', DataFrameSelector(dtype=<type 'numpy.int64'>,\n",
       "         feature_names=['GEMETSTA', 'GESTFIPS', 'TELFS', 'TRDPFTPT', 'TRSPPRES', 'TESPEMPNOT', 'TESCHENR', 'TESCHLVL', 'PTDTRACE', 'TRMJOCGR', 'TRDTO...stimators=250, n_jobs=-2, oob_score=False, random_state=42,\n",
       "          verbose=0, warm_start=False))])"
      ]
     },
     "execution_count": 46,
     "metadata": {},
     "output_type": "execute_result"
    }
   ],
   "source": [
    "full_est_new.fit(X, y)"
   ]
  },
  {
   "cell_type": "code",
   "execution_count": 47,
   "metadata": {
    "collapsed": false,
    "deletable": true,
    "editable": true
   },
   "outputs": [
    {
     "data": {
      "text/plain": [
       "['models/pred_model_atus_fullestnew_metric2_2017-10-17.pkl']"
      ]
     },
     "execution_count": 47,
     "metadata": {},
     "output_type": "execute_result"
    }
   ],
   "source": [
    "# Pickle model\n",
    "joblib.dump(full_est_new, 'models/pred_model_atus_fullestnew_{}_{}.pkl'.format(m, date.today()))"
   ]
  },
  {
   "cell_type": "code",
   "execution_count": 48,
   "metadata": {
    "collapsed": false,
    "deletable": true,
    "editable": true
   },
   "outputs": [
    {
     "data": {
      "text/plain": [
       "0.56691118179481359"
      ]
     },
     "execution_count": 48,
     "metadata": {},
     "output_type": "execute_result"
    }
   ],
   "source": [
    "full_est_new.score(X, y)"
   ]
  },
  {
   "cell_type": "code",
   "execution_count": 49,
   "metadata": {
    "collapsed": false,
    "deletable": true,
    "editable": true
   },
   "outputs": [
    {
     "data": {
      "text/plain": [
       "0.0091521530124783774"
      ]
     },
     "execution_count": 49,
     "metadata": {},
     "output_type": "execute_result"
    }
   ],
   "source": [
    "compute_mse(full_est_new, X, y, 3)"
   ]
  },
  {
   "cell_type": "code",
   "execution_count": 50,
   "metadata": {
    "collapsed": false,
    "deletable": true,
    "editable": true
   },
   "outputs": [
    {
     "data": {
      "text/plain": [
       "array([ 0.49578965,  0.37962362,  0.4025354 ,  0.39310207,  0.39851097,\n",
       "        0.40502732,  0.40428122,  0.47572115,  0.4192175 ,  0.4380033 ,\n",
       "        0.39061039,  0.41383285,  0.48060064,  0.43854946,  0.38511133])"
      ]
     },
     "execution_count": 50,
     "metadata": {},
     "output_type": "execute_result"
    }
   ],
   "source": [
    "full_est_new.predict(X.head(15))"
   ]
  },
  {
   "cell_type": "code",
   "execution_count": 51,
   "metadata": {
    "collapsed": false,
    "deletable": true,
    "editable": true
   },
   "outputs": [
    {
     "data": {
      "text/plain": [
       "array([ 0.62222222,  0.33472222,  0.34375   ,  0.425     ,  0.39583333,\n",
       "        0.39583333,  0.45833333,  0.40972222,  0.31388889,  0.26388889,\n",
       "        0.375     ,  0.37152778,  0.68055556,  0.40277778,  0.39583333])"
      ]
     },
     "execution_count": 51,
     "metadata": {},
     "output_type": "execute_result"
    }
   ],
   "source": [
    "y[:15]"
   ]
  },
  {
   "cell_type": "code",
   "execution_count": 52,
   "metadata": {
    "collapsed": false,
    "deletable": true,
    "editable": true
   },
   "outputs": [
    {
     "data": {
      "text/plain": [
       "0.0094425956987346429"
      ]
     },
     "execution_count": 52,
     "metadata": {},
     "output_type": "execute_result"
    }
   ],
   "source": [
    "compute_mse(full_est_new, X_test, y_test, 3)"
   ]
  },
  {
   "cell_type": "code",
   "execution_count": 74,
   "metadata": {
    "collapsed": false,
    "deletable": true,
    "editable": true
   },
   "outputs": [
    {
     "data": {
      "image/png": "[encoded data removed]",
      "text/plain": [
       "<matplotlib.figure.Figure at 0x7f6acb62e050>"
      ]
     },
     "metadata": {},
     "output_type": "display_data"
    }
   ],
   "source": [
    "sns.regplot(y_test, y_test - full_est_new.predict(X_test))\n",
    "plt.axis([0, 1, 0, 1])\n",
    "plt.plot([0,1], [0,1], ls='--');"
   ]
  },
  {
   "cell_type": "markdown",
   "metadata": {
    "deletable": true,
    "editable": true
   },
   "source": [
    "## Combined model that uses the same estimator version 2"
   ]
  },
  {
   "cell_type": "code",
   "execution_count": null,
   "metadata": {
    "collapsed": true,
    "deletable": true,
    "editable": true
   },
   "outputs": [],
   "source": []
  },
  {
   "cell_type": "code",
   "execution_count": null,
   "metadata": {
    "collapsed": false,
    "deletable": true,
    "editable": true
   },
   "outputs": [],
   "source": []
  },
  {
   "cell_type": "code",
   "execution_count": null,
   "metadata": {
    "collapsed": false,
    "deletable": true,
    "editable": true
   },
   "outputs": [],
   "source": []
  },
  {
   "cell_type": "code",
   "execution_count": 38,
   "metadata": {
    "collapsed": false,
    "deletable": true,
    "editable": true
   },
   "outputs": [
    {
     "data": {
      "text/html": [
       "<div>\n",
       "<style>\n",
       "    .dataframe thead tr:only-child th {\n",
       "        text-align: right;\n",
       "    }\n",
       "\n",
       "    .dataframe thead th {\n",
       "        text-align: left;\n",
       "    }\n",
       "\n",
       "    .dataframe tbody tr th {\n",
       "        vertical-align: top;\n",
       "    }\n",
       "</style>\n",
       "<table border=\"1\" class=\"dataframe\">\n",
       "  <thead>\n",
       "    <tr style=\"text-align: right;\">\n",
       "      <th></th>\n",
       "      <th>FLAG</th>\n",
       "      <th>CODE</th>\n",
       "      <th>NAME</th>\n",
       "    </tr>\n",
       "  </thead>\n",
       "  <tbody>\n",
       "    <tr>\n",
       "      <th>0</th>\n",
       "      <td>TRDTOCC1</td>\n",
       "      <td>1</td>\n",
       "      <td>Management occupations</td>\n",
       "    </tr>\n",
       "    <tr>\n",
       "      <th>1</th>\n",
       "      <td>TRDTOCC1</td>\n",
       "      <td>2</td>\n",
       "      <td>Business and financial operations occupations</td>\n",
       "    </tr>\n",
       "    <tr>\n",
       "      <th>2</th>\n",
       "      <td>TRDTOCC1</td>\n",
       "      <td>3</td>\n",
       "      <td>Computer and mathematical science occupations</td>\n",
       "    </tr>\n",
       "    <tr>\n",
       "      <th>3</th>\n",
       "      <td>TRDTOCC1</td>\n",
       "      <td>4</td>\n",
       "      <td>Architecture and engineering occupations</td>\n",
       "    </tr>\n",
       "    <tr>\n",
       "      <th>4</th>\n",
       "      <td>TRDTOCC1</td>\n",
       "      <td>5</td>\n",
       "      <td>Life, physical, and social science occupations</td>\n",
       "    </tr>\n",
       "    <tr>\n",
       "      <th>5</th>\n",
       "      <td>TRDTOCC1</td>\n",
       "      <td>6</td>\n",
       "      <td>Community and social service occupations</td>\n",
       "    </tr>\n",
       "    <tr>\n",
       "      <th>6</th>\n",
       "      <td>TRDTOCC1</td>\n",
       "      <td>7</td>\n",
       "      <td>Legal occupations</td>\n",
       "    </tr>\n",
       "    <tr>\n",
       "      <th>7</th>\n",
       "      <td>TRDTOCC1</td>\n",
       "      <td>8</td>\n",
       "      <td>Education, training, and library occupations</td>\n",
       "    </tr>\n",
       "    <tr>\n",
       "      <th>8</th>\n",
       "      <td>TRDTOCC1</td>\n",
       "      <td>9</td>\n",
       "      <td>Arts, design, entertainment, sports, and media...</td>\n",
       "    </tr>\n",
       "    <tr>\n",
       "      <th>9</th>\n",
       "      <td>TRDTOCC1</td>\n",
       "      <td>10</td>\n",
       "      <td>Healthcare practitioner and technical occupations</td>\n",
       "    </tr>\n",
       "    <tr>\n",
       "      <th>10</th>\n",
       "      <td>TRDTOCC1</td>\n",
       "      <td>11</td>\n",
       "      <td>Healthcare support occupations</td>\n",
       "    </tr>\n",
       "    <tr>\n",
       "      <th>11</th>\n",
       "      <td>TRDTOCC1</td>\n",
       "      <td>12</td>\n",
       "      <td>Protective service occupations</td>\n",
       "    </tr>\n",
       "    <tr>\n",
       "      <th>12</th>\n",
       "      <td>TRDTOCC1</td>\n",
       "      <td>13</td>\n",
       "      <td>Food preparation and serving related occupations</td>\n",
       "    </tr>\n",
       "    <tr>\n",
       "      <th>13</th>\n",
       "      <td>TRDTOCC1</td>\n",
       "      <td>14</td>\n",
       "      <td>Building and grounds cleaning and maintenance ...</td>\n",
       "    </tr>\n",
       "    <tr>\n",
       "      <th>14</th>\n",
       "      <td>TRDTOCC1</td>\n",
       "      <td>15</td>\n",
       "      <td>Personal care and service occupations</td>\n",
       "    </tr>\n",
       "    <tr>\n",
       "      <th>15</th>\n",
       "      <td>TRDTOCC1</td>\n",
       "      <td>16</td>\n",
       "      <td>Sales and related occupations</td>\n",
       "    </tr>\n",
       "    <tr>\n",
       "      <th>16</th>\n",
       "      <td>TRDTOCC1</td>\n",
       "      <td>17</td>\n",
       "      <td>Office and administrative support occupations</td>\n",
       "    </tr>\n",
       "    <tr>\n",
       "      <th>17</th>\n",
       "      <td>TRDTOCC1</td>\n",
       "      <td>18</td>\n",
       "      <td>Farming, fishing, and forestry occupations</td>\n",
       "    </tr>\n",
       "    <tr>\n",
       "      <th>18</th>\n",
       "      <td>TRDTOCC1</td>\n",
       "      <td>19</td>\n",
       "      <td>Construction and extraction occupations</td>\n",
       "    </tr>\n",
       "    <tr>\n",
       "      <th>19</th>\n",
       "      <td>TRDTOCC1</td>\n",
       "      <td>20</td>\n",
       "      <td>Installation, maintenance, and repair occupations</td>\n",
       "    </tr>\n",
       "    <tr>\n",
       "      <th>20</th>\n",
       "      <td>TRDTOCC1</td>\n",
       "      <td>21</td>\n",
       "      <td>Production occupations</td>\n",
       "    </tr>\n",
       "    <tr>\n",
       "      <th>21</th>\n",
       "      <td>TRDTOCC1</td>\n",
       "      <td>22</td>\n",
       "      <td>Transportation and material moving occupations</td>\n",
       "    </tr>\n",
       "    <tr>\n",
       "      <th>22</th>\n",
       "      <td>TRMJIND1</td>\n",
       "      <td>1</td>\n",
       "      <td>Agriculture, forestry, fishing, and hunting</td>\n",
       "    </tr>\n",
       "    <tr>\n",
       "      <th>23</th>\n",
       "      <td>TRMJIND1</td>\n",
       "      <td>2</td>\n",
       "      <td>Mining</td>\n",
       "    </tr>\n",
       "    <tr>\n",
       "      <th>24</th>\n",
       "      <td>TRMJIND1</td>\n",
       "      <td>3</td>\n",
       "      <td>Construction</td>\n",
       "    </tr>\n",
       "    <tr>\n",
       "      <th>25</th>\n",
       "      <td>TRMJIND1</td>\n",
       "      <td>4</td>\n",
       "      <td>Manufacturing</td>\n",
       "    </tr>\n",
       "    <tr>\n",
       "      <th>26</th>\n",
       "      <td>TRMJIND1</td>\n",
       "      <td>5</td>\n",
       "      <td>Wholesale and retail trade</td>\n",
       "    </tr>\n",
       "    <tr>\n",
       "      <th>27</th>\n",
       "      <td>TRMJIND1</td>\n",
       "      <td>6</td>\n",
       "      <td>Transportation and utilities</td>\n",
       "    </tr>\n",
       "    <tr>\n",
       "      <th>28</th>\n",
       "      <td>TRMJIND1</td>\n",
       "      <td>7</td>\n",
       "      <td>Information</td>\n",
       "    </tr>\n",
       "    <tr>\n",
       "      <th>29</th>\n",
       "      <td>TRMJIND1</td>\n",
       "      <td>8</td>\n",
       "      <td>Financial activities</td>\n",
       "    </tr>\n",
       "    <tr>\n",
       "      <th>30</th>\n",
       "      <td>TRMJIND1</td>\n",
       "      <td>9</td>\n",
       "      <td>Professional and business services 10 Educatio...</td>\n",
       "    </tr>\n",
       "    <tr>\n",
       "      <th>31</th>\n",
       "      <td>TRMJIND1</td>\n",
       "      <td>11</td>\n",
       "      <td>Leisure and hospitality</td>\n",
       "    </tr>\n",
       "    <tr>\n",
       "      <th>32</th>\n",
       "      <td>TRMJIND1</td>\n",
       "      <td>12</td>\n",
       "      <td>Other services</td>\n",
       "    </tr>\n",
       "    <tr>\n",
       "      <th>33</th>\n",
       "      <td>TRMJIND1</td>\n",
       "      <td>13</td>\n",
       "      <td>Public administration</td>\n",
       "    </tr>\n",
       "    <tr>\n",
       "      <th>34</th>\n",
       "      <td>TEIO1COW</td>\n",
       "      <td>1</td>\n",
       "      <td>Government, federal</td>\n",
       "    </tr>\n",
       "    <tr>\n",
       "      <th>35</th>\n",
       "      <td>TEIO1COW</td>\n",
       "      <td>2</td>\n",
       "      <td>Government, state</td>\n",
       "    </tr>\n",
       "    <tr>\n",
       "      <th>36</th>\n",
       "      <td>TEIO1COW</td>\n",
       "      <td>3</td>\n",
       "      <td>Government, local</td>\n",
       "    </tr>\n",
       "    <tr>\n",
       "      <th>37</th>\n",
       "      <td>TEIO1COW</td>\n",
       "      <td>4</td>\n",
       "      <td>Private, for profit</td>\n",
       "    </tr>\n",
       "    <tr>\n",
       "      <th>38</th>\n",
       "      <td>TEIO1COW</td>\n",
       "      <td>5</td>\n",
       "      <td>Private, nonprofit</td>\n",
       "    </tr>\n",
       "    <tr>\n",
       "      <th>39</th>\n",
       "      <td>TEIO1COW</td>\n",
       "      <td>6</td>\n",
       "      <td>Self-employed, incorporated</td>\n",
       "    </tr>\n",
       "    <tr>\n",
       "      <th>40</th>\n",
       "      <td>TEIO1COW</td>\n",
       "      <td>7</td>\n",
       "      <td>Self-employed, unincorporated</td>\n",
       "    </tr>\n",
       "    <tr>\n",
       "      <th>41</th>\n",
       "      <td>TEIO1COW</td>\n",
       "      <td>8</td>\n",
       "      <td>Without pay</td>\n",
       "    </tr>\n",
       "  </tbody>\n",
       "</table>\n",
       "</div>"
      ],
      "text/plain": [
       "        FLAG CODE                                               NAME\n",
       "0   TRDTOCC1    1                             Management occupations\n",
       "1   TRDTOCC1    2      Business and financial operations occupations\n",
       "2   TRDTOCC1    3      Computer and mathematical science occupations\n",
       "3   TRDTOCC1    4           Architecture and engineering occupations\n",
       "4   TRDTOCC1    5     Life, physical, and social science occupations\n",
       "5   TRDTOCC1    6           Community and social service occupations\n",
       "6   TRDTOCC1    7                                  Legal occupations\n",
       "7   TRDTOCC1    8       Education, training, and library occupations\n",
       "8   TRDTOCC1    9  Arts, design, entertainment, sports, and media...\n",
       "9   TRDTOCC1   10  Healthcare practitioner and technical occupations\n",
       "10  TRDTOCC1   11                     Healthcare support occupations\n",
       "11  TRDTOCC1   12                     Protective service occupations\n",
       "12  TRDTOCC1   13   Food preparation and serving related occupations\n",
       "13  TRDTOCC1   14  Building and grounds cleaning and maintenance ...\n",
       "14  TRDTOCC1   15              Personal care and service occupations\n",
       "15  TRDTOCC1   16                      Sales and related occupations\n",
       "16  TRDTOCC1   17      Office and administrative support occupations\n",
       "17  TRDTOCC1   18         Farming, fishing, and forestry occupations\n",
       "18  TRDTOCC1   19            Construction and extraction occupations\n",
       "19  TRDTOCC1   20  Installation, maintenance, and repair occupations\n",
       "20  TRDTOCC1   21                             Production occupations\n",
       "21  TRDTOCC1   22     Transportation and material moving occupations\n",
       "22  TRMJIND1    1        Agriculture, forestry, fishing, and hunting\n",
       "23  TRMJIND1    2                                             Mining\n",
       "24  TRMJIND1    3                                       Construction\n",
       "25  TRMJIND1    4                                      Manufacturing\n",
       "26  TRMJIND1    5                         Wholesale and retail trade\n",
       "27  TRMJIND1    6                       Transportation and utilities\n",
       "28  TRMJIND1    7                                        Information\n",
       "29  TRMJIND1    8                               Financial activities\n",
       "30  TRMJIND1    9  Professional and business services 10 Educatio...\n",
       "31  TRMJIND1   11                            Leisure and hospitality\n",
       "32  TRMJIND1   12                                     Other services\n",
       "33  TRMJIND1   13                              Public administration\n",
       "34  TEIO1COW    1                                Government, federal\n",
       "35  TEIO1COW    2                                  Government, state\n",
       "36  TEIO1COW    3                                  Government, local\n",
       "37  TEIO1COW    4                                Private, for profit\n",
       "38  TEIO1COW    5                                 Private, nonprofit\n",
       "39  TEIO1COW    6                        Self-employed, incorporated\n",
       "40  TEIO1COW    7                      Self-employed, unincorporated\n",
       "41  TEIO1COW    8                                        Without pay"
      ]
     },
     "execution_count": 38,
     "metadata": {},
     "output_type": "execute_result"
    }
   ],
   "source": [
    "dfindcodes"
   ]
  },
  {
   "cell_type": "code",
   "execution_count": 43,
   "metadata": {
    "collapsed": false,
    "deletable": true,
    "editable": true
   },
   "outputs": [
    {
     "data": {
      "text/plain": [
       "[{'name': 'White only', 'value': '1'},\n",
       " {'name': 'Black only', 'value': '2'},\n",
       " {'name': 'American Indian, Alaskan Native only', 'value': '3'},\n",
       " {'name': 'Asian only', 'value': '4'},\n",
       " {'name': 'Hawaiian/Pacific Islander only', 'value': '5'},\n",
       " {'name': 'White-Black', 'value': '6'},\n",
       " {'name': 'White-American Indian', 'value': '7'},\n",
       " {'name': 'White-Asian', 'value': '8'},\n",
       " {'name': 'White-Hawaiian', 'value': '9'},\n",
       " {'name': 'Black-American Indian', 'value': '10'},\n",
       " {'name': 'Black-Asian', 'value': '11'},\n",
       " {'name': 'Black-Hawaiian', 'value': '12'},\n",
       " {'name': 'American Indian-Asian', 'value': '13'},\n",
       " {'name': 'Asian-Hawaiian', 'value': '14'},\n",
       " {'name': 'White-Black-American Indian', 'value': '15'},\n",
       " {'name': 'White-Black-Asian', 'value': '16'},\n",
       " {'name': 'White-American Indian-Asian', 'value': '17'},\n",
       " {'name': 'White-Asian-Hawaiian', 'value': '18'},\n",
       " {'name': 'White-Black-American Indian-Asian', 'value': '19'},\n",
       " {'name': '2 or 3 races', 'value': '20'},\n",
       " {'name': '4 or 5 races', 'value': '21'}]"
      ]
     },
     "execution_count": 43,
     "metadata": {},
     "output_type": "execute_result"
    }
   ],
   "source": []
  },
  {
   "cell_type": "code",
   "execution_count": null,
   "metadata": {
    "collapsed": true,
    "deletable": true,
    "editable": true
   },
   "outputs": [],
   "source": []
  }
 ],
 "metadata": {
  "hide_input": false,
  "kernelspec": {
   "display_name": "Python 2",
   "language": "python",
   "name": "python2"
  },
  "language_info": {
   "codemirror_mode": {
    "name": "ipython",
    "version": 2
   },
   "file_extension": ".py",
   "mimetype": "text/x-python",
   "name": "python",
   "nbconvert_exporter": "python",
   "pygments_lexer": "ipython2",
   "version": "2.7.13"
  }
 },
 "nbformat": 4,
 "nbformat_minor": 2
}
